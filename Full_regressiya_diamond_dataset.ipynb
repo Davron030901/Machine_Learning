{
  "nbformat": 4,
  "nbformat_minor": 0,
  "metadata": {
    "colab": {
      "provenance": [],
      "authorship_tag": "ABX9TyMzGfC5Ytc9EziY7MZAWVaZ",
      "include_colab_link": true
    },
    "kernelspec": {
      "name": "python3",
      "display_name": "Python 3"
    },
    "language_info": {
      "name": "python"
    }
  },
  "cells": [
    {
      "cell_type": "markdown",
      "metadata": {
        "id": "view-in-github",
        "colab_type": "text"
      },
      "source": [
        "<a href=\"https://colab.research.google.com/github/Davron030901/Machine_Learning/blob/main/Full_regressiya_diamond_dataset.ipynb\" target=\"_parent\"><img src=\"https://colab.research.google.com/assets/colab-badge.svg\" alt=\"Open In Colab\"/></a>"
      ]
    },
    {
      "cell_type": "code",
      "execution_count": 1,
      "metadata": {
        "id": "VxURmFK5euIt"
      },
      "outputs": [],
      "source": [
        "import pandas as pd\n",
        "import numpy as np\n",
        "import matplotlib.pyplot as plt\n",
        "import seaborn as sns"
      ]
    },
    {
      "cell_type": "code",
      "source": [
        "olmos=sns.load_dataset('diamonds')"
      ],
      "metadata": {
        "id": "K4_Q_GVSe9AY"
      },
      "execution_count": 2,
      "outputs": []
    },
    {
      "cell_type": "code",
      "source": [
        "olmos.head()"
      ],
      "metadata": {
        "colab": {
          "base_uri": "https://localhost:8080/",
          "height": 206
        },
        "id": "xJs05FGOfIfV",
        "outputId": "91a8f292-5f67-48bb-9e10-f23f5b1c1ddf"
      },
      "execution_count": 3,
      "outputs": [
        {
          "output_type": "execute_result",
          "data": {
            "text/plain": [
              "   carat      cut color clarity  depth  table  price     x     y     z\n",
              "0   0.23    Ideal     E     SI2   61.5   55.0    326  3.95  3.98  2.43\n",
              "1   0.21  Premium     E     SI1   59.8   61.0    326  3.89  3.84  2.31\n",
              "2   0.23     Good     E     VS1   56.9   65.0    327  4.05  4.07  2.31\n",
              "3   0.29  Premium     I     VS2   62.4   58.0    334  4.20  4.23  2.63\n",
              "4   0.31     Good     J     SI2   63.3   58.0    335  4.34  4.35  2.75"
            ],
            "text/html": [
              "\n",
              "  <div id=\"df-2c54fbe6-6a4f-4416-97d4-e9afd54c39f1\" class=\"colab-df-container\">\n",
              "    <div>\n",
              "<style scoped>\n",
              "    .dataframe tbody tr th:only-of-type {\n",
              "        vertical-align: middle;\n",
              "    }\n",
              "\n",
              "    .dataframe tbody tr th {\n",
              "        vertical-align: top;\n",
              "    }\n",
              "\n",
              "    .dataframe thead th {\n",
              "        text-align: right;\n",
              "    }\n",
              "</style>\n",
              "<table border=\"1\" class=\"dataframe\">\n",
              "  <thead>\n",
              "    <tr style=\"text-align: right;\">\n",
              "      <th></th>\n",
              "      <th>carat</th>\n",
              "      <th>cut</th>\n",
              "      <th>color</th>\n",
              "      <th>clarity</th>\n",
              "      <th>depth</th>\n",
              "      <th>table</th>\n",
              "      <th>price</th>\n",
              "      <th>x</th>\n",
              "      <th>y</th>\n",
              "      <th>z</th>\n",
              "    </tr>\n",
              "  </thead>\n",
              "  <tbody>\n",
              "    <tr>\n",
              "      <th>0</th>\n",
              "      <td>0.23</td>\n",
              "      <td>Ideal</td>\n",
              "      <td>E</td>\n",
              "      <td>SI2</td>\n",
              "      <td>61.5</td>\n",
              "      <td>55.0</td>\n",
              "      <td>326</td>\n",
              "      <td>3.95</td>\n",
              "      <td>3.98</td>\n",
              "      <td>2.43</td>\n",
              "    </tr>\n",
              "    <tr>\n",
              "      <th>1</th>\n",
              "      <td>0.21</td>\n",
              "      <td>Premium</td>\n",
              "      <td>E</td>\n",
              "      <td>SI1</td>\n",
              "      <td>59.8</td>\n",
              "      <td>61.0</td>\n",
              "      <td>326</td>\n",
              "      <td>3.89</td>\n",
              "      <td>3.84</td>\n",
              "      <td>2.31</td>\n",
              "    </tr>\n",
              "    <tr>\n",
              "      <th>2</th>\n",
              "      <td>0.23</td>\n",
              "      <td>Good</td>\n",
              "      <td>E</td>\n",
              "      <td>VS1</td>\n",
              "      <td>56.9</td>\n",
              "      <td>65.0</td>\n",
              "      <td>327</td>\n",
              "      <td>4.05</td>\n",
              "      <td>4.07</td>\n",
              "      <td>2.31</td>\n",
              "    </tr>\n",
              "    <tr>\n",
              "      <th>3</th>\n",
              "      <td>0.29</td>\n",
              "      <td>Premium</td>\n",
              "      <td>I</td>\n",
              "      <td>VS2</td>\n",
              "      <td>62.4</td>\n",
              "      <td>58.0</td>\n",
              "      <td>334</td>\n",
              "      <td>4.20</td>\n",
              "      <td>4.23</td>\n",
              "      <td>2.63</td>\n",
              "    </tr>\n",
              "    <tr>\n",
              "      <th>4</th>\n",
              "      <td>0.31</td>\n",
              "      <td>Good</td>\n",
              "      <td>J</td>\n",
              "      <td>SI2</td>\n",
              "      <td>63.3</td>\n",
              "      <td>58.0</td>\n",
              "      <td>335</td>\n",
              "      <td>4.34</td>\n",
              "      <td>4.35</td>\n",
              "      <td>2.75</td>\n",
              "    </tr>\n",
              "  </tbody>\n",
              "</table>\n",
              "</div>\n",
              "    <div class=\"colab-df-buttons\">\n",
              "\n",
              "  <div class=\"colab-df-container\">\n",
              "    <button class=\"colab-df-convert\" onclick=\"convertToInteractive('df-2c54fbe6-6a4f-4416-97d4-e9afd54c39f1')\"\n",
              "            title=\"Convert this dataframe to an interactive table.\"\n",
              "            style=\"display:none;\">\n",
              "\n",
              "  <svg xmlns=\"http://www.w3.org/2000/svg\" height=\"24px\" viewBox=\"0 -960 960 960\">\n",
              "    <path d=\"M120-120v-720h720v720H120Zm60-500h600v-160H180v160Zm220 220h160v-160H400v160Zm0 220h160v-160H400v160ZM180-400h160v-160H180v160Zm440 0h160v-160H620v160ZM180-180h160v-160H180v160Zm440 0h160v-160H620v160Z\"/>\n",
              "  </svg>\n",
              "    </button>\n",
              "\n",
              "  <style>\n",
              "    .colab-df-container {\n",
              "      display:flex;\n",
              "      gap: 12px;\n",
              "    }\n",
              "\n",
              "    .colab-df-convert {\n",
              "      background-color: #E8F0FE;\n",
              "      border: none;\n",
              "      border-radius: 50%;\n",
              "      cursor: pointer;\n",
              "      display: none;\n",
              "      fill: #1967D2;\n",
              "      height: 32px;\n",
              "      padding: 0 0 0 0;\n",
              "      width: 32px;\n",
              "    }\n",
              "\n",
              "    .colab-df-convert:hover {\n",
              "      background-color: #E2EBFA;\n",
              "      box-shadow: 0px 1px 2px rgba(60, 64, 67, 0.3), 0px 1px 3px 1px rgba(60, 64, 67, 0.15);\n",
              "      fill: #174EA6;\n",
              "    }\n",
              "\n",
              "    .colab-df-buttons div {\n",
              "      margin-bottom: 4px;\n",
              "    }\n",
              "\n",
              "    [theme=dark] .colab-df-convert {\n",
              "      background-color: #3B4455;\n",
              "      fill: #D2E3FC;\n",
              "    }\n",
              "\n",
              "    [theme=dark] .colab-df-convert:hover {\n",
              "      background-color: #434B5C;\n",
              "      box-shadow: 0px 1px 3px 1px rgba(0, 0, 0, 0.15);\n",
              "      filter: drop-shadow(0px 1px 2px rgba(0, 0, 0, 0.3));\n",
              "      fill: #FFFFFF;\n",
              "    }\n",
              "  </style>\n",
              "\n",
              "    <script>\n",
              "      const buttonEl =\n",
              "        document.querySelector('#df-2c54fbe6-6a4f-4416-97d4-e9afd54c39f1 button.colab-df-convert');\n",
              "      buttonEl.style.display =\n",
              "        google.colab.kernel.accessAllowed ? 'block' : 'none';\n",
              "\n",
              "      async function convertToInteractive(key) {\n",
              "        const element = document.querySelector('#df-2c54fbe6-6a4f-4416-97d4-e9afd54c39f1');\n",
              "        const dataTable =\n",
              "          await google.colab.kernel.invokeFunction('convertToInteractive',\n",
              "                                                    [key], {});\n",
              "        if (!dataTable) return;\n",
              "\n",
              "        const docLinkHtml = 'Like what you see? Visit the ' +\n",
              "          '<a target=\"_blank\" href=https://colab.research.google.com/notebooks/data_table.ipynb>data table notebook</a>'\n",
              "          + ' to learn more about interactive tables.';\n",
              "        element.innerHTML = '';\n",
              "        dataTable['output_type'] = 'display_data';\n",
              "        await google.colab.output.renderOutput(dataTable, element);\n",
              "        const docLink = document.createElement('div');\n",
              "        docLink.innerHTML = docLinkHtml;\n",
              "        element.appendChild(docLink);\n",
              "      }\n",
              "    </script>\n",
              "  </div>\n",
              "\n",
              "\n",
              "<div id=\"df-082f87aa-af56-4592-ba52-18bb45805f7e\">\n",
              "  <button class=\"colab-df-quickchart\" onclick=\"quickchart('df-082f87aa-af56-4592-ba52-18bb45805f7e')\"\n",
              "            title=\"Suggest charts\"\n",
              "            style=\"display:none;\">\n",
              "\n",
              "<svg xmlns=\"http://www.w3.org/2000/svg\" height=\"24px\"viewBox=\"0 0 24 24\"\n",
              "     width=\"24px\">\n",
              "    <g>\n",
              "        <path d=\"M19 3H5c-1.1 0-2 .9-2 2v14c0 1.1.9 2 2 2h14c1.1 0 2-.9 2-2V5c0-1.1-.9-2-2-2zM9 17H7v-7h2v7zm4 0h-2V7h2v10zm4 0h-2v-4h2v4z\"/>\n",
              "    </g>\n",
              "</svg>\n",
              "  </button>\n",
              "\n",
              "<style>\n",
              "  .colab-df-quickchart {\n",
              "      --bg-color: #E8F0FE;\n",
              "      --fill-color: #1967D2;\n",
              "      --hover-bg-color: #E2EBFA;\n",
              "      --hover-fill-color: #174EA6;\n",
              "      --disabled-fill-color: #AAA;\n",
              "      --disabled-bg-color: #DDD;\n",
              "  }\n",
              "\n",
              "  [theme=dark] .colab-df-quickchart {\n",
              "      --bg-color: #3B4455;\n",
              "      --fill-color: #D2E3FC;\n",
              "      --hover-bg-color: #434B5C;\n",
              "      --hover-fill-color: #FFFFFF;\n",
              "      --disabled-bg-color: #3B4455;\n",
              "      --disabled-fill-color: #666;\n",
              "  }\n",
              "\n",
              "  .colab-df-quickchart {\n",
              "    background-color: var(--bg-color);\n",
              "    border: none;\n",
              "    border-radius: 50%;\n",
              "    cursor: pointer;\n",
              "    display: none;\n",
              "    fill: var(--fill-color);\n",
              "    height: 32px;\n",
              "    padding: 0;\n",
              "    width: 32px;\n",
              "  }\n",
              "\n",
              "  .colab-df-quickchart:hover {\n",
              "    background-color: var(--hover-bg-color);\n",
              "    box-shadow: 0 1px 2px rgba(60, 64, 67, 0.3), 0 1px 3px 1px rgba(60, 64, 67, 0.15);\n",
              "    fill: var(--button-hover-fill-color);\n",
              "  }\n",
              "\n",
              "  .colab-df-quickchart-complete:disabled,\n",
              "  .colab-df-quickchart-complete:disabled:hover {\n",
              "    background-color: var(--disabled-bg-color);\n",
              "    fill: var(--disabled-fill-color);\n",
              "    box-shadow: none;\n",
              "  }\n",
              "\n",
              "  .colab-df-spinner {\n",
              "    border: 2px solid var(--fill-color);\n",
              "    border-color: transparent;\n",
              "    border-bottom-color: var(--fill-color);\n",
              "    animation:\n",
              "      spin 1s steps(1) infinite;\n",
              "  }\n",
              "\n",
              "  @keyframes spin {\n",
              "    0% {\n",
              "      border-color: transparent;\n",
              "      border-bottom-color: var(--fill-color);\n",
              "      border-left-color: var(--fill-color);\n",
              "    }\n",
              "    20% {\n",
              "      border-color: transparent;\n",
              "      border-left-color: var(--fill-color);\n",
              "      border-top-color: var(--fill-color);\n",
              "    }\n",
              "    30% {\n",
              "      border-color: transparent;\n",
              "      border-left-color: var(--fill-color);\n",
              "      border-top-color: var(--fill-color);\n",
              "      border-right-color: var(--fill-color);\n",
              "    }\n",
              "    40% {\n",
              "      border-color: transparent;\n",
              "      border-right-color: var(--fill-color);\n",
              "      border-top-color: var(--fill-color);\n",
              "    }\n",
              "    60% {\n",
              "      border-color: transparent;\n",
              "      border-right-color: var(--fill-color);\n",
              "    }\n",
              "    80% {\n",
              "      border-color: transparent;\n",
              "      border-right-color: var(--fill-color);\n",
              "      border-bottom-color: var(--fill-color);\n",
              "    }\n",
              "    90% {\n",
              "      border-color: transparent;\n",
              "      border-bottom-color: var(--fill-color);\n",
              "    }\n",
              "  }\n",
              "</style>\n",
              "\n",
              "  <script>\n",
              "    async function quickchart(key) {\n",
              "      const quickchartButtonEl =\n",
              "        document.querySelector('#' + key + ' button');\n",
              "      quickchartButtonEl.disabled = true;  // To prevent multiple clicks.\n",
              "      quickchartButtonEl.classList.add('colab-df-spinner');\n",
              "      try {\n",
              "        const charts = await google.colab.kernel.invokeFunction(\n",
              "            'suggestCharts', [key], {});\n",
              "      } catch (error) {\n",
              "        console.error('Error during call to suggestCharts:', error);\n",
              "      }\n",
              "      quickchartButtonEl.classList.remove('colab-df-spinner');\n",
              "      quickchartButtonEl.classList.add('colab-df-quickchart-complete');\n",
              "    }\n",
              "    (() => {\n",
              "      let quickchartButtonEl =\n",
              "        document.querySelector('#df-082f87aa-af56-4592-ba52-18bb45805f7e button');\n",
              "      quickchartButtonEl.style.display =\n",
              "        google.colab.kernel.accessAllowed ? 'block' : 'none';\n",
              "    })();\n",
              "  </script>\n",
              "</div>\n",
              "\n",
              "    </div>\n",
              "  </div>\n"
            ],
            "application/vnd.google.colaboratory.intrinsic+json": {
              "type": "dataframe",
              "variable_name": "olmos",
              "summary": "{\n  \"name\": \"olmos\",\n  \"rows\": 53940,\n  \"fields\": [\n    {\n      \"column\": \"carat\",\n      \"properties\": {\n        \"dtype\": \"number\",\n        \"std\": 0.47401124440538067,\n        \"min\": 0.2,\n        \"max\": 5.01,\n        \"num_unique_values\": 273,\n        \"samples\": [\n          0.77,\n          1.58,\n          0.65\n        ],\n        \"semantic_type\": \"\",\n        \"description\": \"\"\n      }\n    },\n    {\n      \"column\": \"cut\",\n      \"properties\": {\n        \"dtype\": \"category\",\n        \"num_unique_values\": 5,\n        \"samples\": [\n          \"Premium\",\n          \"Fair\",\n          \"Good\"\n        ],\n        \"semantic_type\": \"\",\n        \"description\": \"\"\n      }\n    },\n    {\n      \"column\": \"color\",\n      \"properties\": {\n        \"dtype\": \"category\",\n        \"num_unique_values\": 7,\n        \"samples\": [\n          \"E\",\n          \"I\",\n          \"G\"\n        ],\n        \"semantic_type\": \"\",\n        \"description\": \"\"\n      }\n    },\n    {\n      \"column\": \"clarity\",\n      \"properties\": {\n        \"dtype\": \"category\",\n        \"num_unique_values\": 8,\n        \"samples\": [\n          \"SI1\",\n          \"VVS1\",\n          \"SI2\"\n        ],\n        \"semantic_type\": \"\",\n        \"description\": \"\"\n      }\n    },\n    {\n      \"column\": \"depth\",\n      \"properties\": {\n        \"dtype\": \"number\",\n        \"std\": 1.4326213188337733,\n        \"min\": 43.0,\n        \"max\": 79.0,\n        \"num_unique_values\": 184,\n        \"samples\": [\n          61.0,\n          62.9,\n          70.2\n        ],\n        \"semantic_type\": \"\",\n        \"description\": \"\"\n      }\n    },\n    {\n      \"column\": \"table\",\n      \"properties\": {\n        \"dtype\": \"number\",\n        \"std\": 2.234490562820938,\n        \"min\": 43.0,\n        \"max\": 95.0,\n        \"num_unique_values\": 127,\n        \"samples\": [\n          54.8,\n          61.5,\n          57.6\n        ],\n        \"semantic_type\": \"\",\n        \"description\": \"\"\n      }\n    },\n    {\n      \"column\": \"price\",\n      \"properties\": {\n        \"dtype\": \"number\",\n        \"std\": 3989,\n        \"min\": 326,\n        \"max\": 18823,\n        \"num_unique_values\": 11602,\n        \"samples\": [\n          16368,\n          895,\n          748\n        ],\n        \"semantic_type\": \"\",\n        \"description\": \"\"\n      }\n    },\n    {\n      \"column\": \"x\",\n      \"properties\": {\n        \"dtype\": \"number\",\n        \"std\": 1.1217607467924422,\n        \"min\": 0.0,\n        \"max\": 10.74,\n        \"num_unique_values\": 554,\n        \"samples\": [\n          5.88,\n          5.69,\n          4.61\n        ],\n        \"semantic_type\": \"\",\n        \"description\": \"\"\n      }\n    },\n    {\n      \"column\": \"y\",\n      \"properties\": {\n        \"dtype\": \"number\",\n        \"std\": 1.1421346741235396,\n        \"min\": 0.0,\n        \"max\": 58.9,\n        \"num_unique_values\": 552,\n        \"samples\": [\n          5.33,\n          5.61,\n          5.25\n        ],\n        \"semantic_type\": \"\",\n        \"description\": \"\"\n      }\n    },\n    {\n      \"column\": \"z\",\n      \"properties\": {\n        \"dtype\": \"number\",\n        \"std\": 0.7056988469499964,\n        \"min\": 0.0,\n        \"max\": 31.8,\n        \"num_unique_values\": 375,\n        \"samples\": [\n          3.36,\n          2.45,\n          2.7\n        ],\n        \"semantic_type\": \"\",\n        \"description\": \"\"\n      }\n    }\n  ]\n}"
            }
          },
          "metadata": {},
          "execution_count": 3
        }
      ]
    },
    {
      "cell_type": "code",
      "source": [
        "olmos.info()"
      ],
      "metadata": {
        "colab": {
          "base_uri": "https://localhost:8080/"
        },
        "id": "ytqCryyXfMDn",
        "outputId": "d3cab276-219a-44d7-b561-93aa2a1fdb47"
      },
      "execution_count": 4,
      "outputs": [
        {
          "output_type": "stream",
          "name": "stdout",
          "text": [
            "<class 'pandas.core.frame.DataFrame'>\n",
            "RangeIndex: 53940 entries, 0 to 53939\n",
            "Data columns (total 10 columns):\n",
            " #   Column   Non-Null Count  Dtype   \n",
            "---  ------   --------------  -----   \n",
            " 0   carat    53940 non-null  float64 \n",
            " 1   cut      53940 non-null  category\n",
            " 2   color    53940 non-null  category\n",
            " 3   clarity  53940 non-null  category\n",
            " 4   depth    53940 non-null  float64 \n",
            " 5   table    53940 non-null  float64 \n",
            " 6   price    53940 non-null  int64   \n",
            " 7   x        53940 non-null  float64 \n",
            " 8   y        53940 non-null  float64 \n",
            " 9   z        53940 non-null  float64 \n",
            "dtypes: category(3), float64(6), int64(1)\n",
            "memory usage: 3.0 MB\n"
          ]
        }
      ]
    },
    {
      "cell_type": "code",
      "source": [
        "olmos.isna().sum()"
      ],
      "metadata": {
        "colab": {
          "base_uri": "https://localhost:8080/",
          "height": 397
        },
        "id": "QQf7whS-fUCA",
        "outputId": "f41c283f-3b44-4c19-90b9-4d385186070a"
      },
      "execution_count": 5,
      "outputs": [
        {
          "output_type": "execute_result",
          "data": {
            "text/plain": [
              "carat      0\n",
              "cut        0\n",
              "color      0\n",
              "clarity    0\n",
              "depth      0\n",
              "table      0\n",
              "price      0\n",
              "x          0\n",
              "y          0\n",
              "z          0\n",
              "dtype: int64"
            ],
            "text/html": [
              "<div>\n",
              "<style scoped>\n",
              "    .dataframe tbody tr th:only-of-type {\n",
              "        vertical-align: middle;\n",
              "    }\n",
              "\n",
              "    .dataframe tbody tr th {\n",
              "        vertical-align: top;\n",
              "    }\n",
              "\n",
              "    .dataframe thead th {\n",
              "        text-align: right;\n",
              "    }\n",
              "</style>\n",
              "<table border=\"1\" class=\"dataframe\">\n",
              "  <thead>\n",
              "    <tr style=\"text-align: right;\">\n",
              "      <th></th>\n",
              "      <th>0</th>\n",
              "    </tr>\n",
              "  </thead>\n",
              "  <tbody>\n",
              "    <tr>\n",
              "      <th>carat</th>\n",
              "      <td>0</td>\n",
              "    </tr>\n",
              "    <tr>\n",
              "      <th>cut</th>\n",
              "      <td>0</td>\n",
              "    </tr>\n",
              "    <tr>\n",
              "      <th>color</th>\n",
              "      <td>0</td>\n",
              "    </tr>\n",
              "    <tr>\n",
              "      <th>clarity</th>\n",
              "      <td>0</td>\n",
              "    </tr>\n",
              "    <tr>\n",
              "      <th>depth</th>\n",
              "      <td>0</td>\n",
              "    </tr>\n",
              "    <tr>\n",
              "      <th>table</th>\n",
              "      <td>0</td>\n",
              "    </tr>\n",
              "    <tr>\n",
              "      <th>price</th>\n",
              "      <td>0</td>\n",
              "    </tr>\n",
              "    <tr>\n",
              "      <th>x</th>\n",
              "      <td>0</td>\n",
              "    </tr>\n",
              "    <tr>\n",
              "      <th>y</th>\n",
              "      <td>0</td>\n",
              "    </tr>\n",
              "    <tr>\n",
              "      <th>z</th>\n",
              "      <td>0</td>\n",
              "    </tr>\n",
              "  </tbody>\n",
              "</table>\n",
              "</div><br><label><b>dtype:</b> int64</label>"
            ]
          },
          "metadata": {},
          "execution_count": 5
        }
      ]
    },
    {
      "cell_type": "code",
      "source": [
        "olmos.duplicated().sum()"
      ],
      "metadata": {
        "colab": {
          "base_uri": "https://localhost:8080/"
        },
        "id": "fTskpstZfnSf",
        "outputId": "98cce602-6a25-4ea6-e53c-a92ef65ff873"
      },
      "execution_count": 6,
      "outputs": [
        {
          "output_type": "execute_result",
          "data": {
            "text/plain": [
              "146"
            ]
          },
          "metadata": {},
          "execution_count": 6
        }
      ]
    },
    {
      "cell_type": "code",
      "source": [
        "olmos.drop_duplicates(inplace=True,ignore_index=True)"
      ],
      "metadata": {
        "id": "886K6DYqfrJo"
      },
      "execution_count": 7,
      "outputs": []
    },
    {
      "cell_type": "code",
      "source": [
        "olmos.clarity.unique()"
      ],
      "metadata": {
        "colab": {
          "base_uri": "https://localhost:8080/"
        },
        "id": "T600Qy0mhekT",
        "outputId": "d66f84aa-1b7a-45e1-d887-1816270b6d84"
      },
      "execution_count": 8,
      "outputs": [
        {
          "output_type": "execute_result",
          "data": {
            "text/plain": [
              "['SI2', 'SI1', 'VS1', 'VS2', 'VVS2', 'VVS1', 'I1', 'IF']\n",
              "Categories (8, object): ['IF', 'VVS1', 'VVS2', 'VS1', 'VS2', 'SI1', 'SI2', 'I1']"
            ]
          },
          "metadata": {},
          "execution_count": 8
        }
      ]
    },
    {
      "cell_type": "code",
      "source": [
        "list(['IF', 'VVS1', 'VVS2', 'VS1', 'VS2', 'SI1', 'SI2', 'I1'])[::-1]"
      ],
      "metadata": {
        "colab": {
          "base_uri": "https://localhost:8080/"
        },
        "id": "YSS46o10hsUh",
        "outputId": "9c35aa96-e589-492d-ec6d-cfac44fcf4f8"
      },
      "execution_count": 9,
      "outputs": [
        {
          "output_type": "execute_result",
          "data": {
            "text/plain": [
              "['I1', 'SI2', 'SI1', 'VS2', 'VS1', 'VVS2', 'VVS1', 'IF']"
            ]
          },
          "metadata": {},
          "execution_count": 9
        }
      ]
    },
    {
      "cell_type": "code",
      "source": [
        "olmos.cut.unique()"
      ],
      "metadata": {
        "colab": {
          "base_uri": "https://localhost:8080/"
        },
        "id": "aKSPsmdMiF5z",
        "outputId": "02289490-1876-4ca4-9218-587af50e5655"
      },
      "execution_count": 10,
      "outputs": [
        {
          "output_type": "execute_result",
          "data": {
            "text/plain": [
              "['Ideal', 'Premium', 'Good', 'Very Good', 'Fair']\n",
              "Categories (5, object): ['Ideal', 'Premium', 'Very Good', 'Good', 'Fair']"
            ]
          },
          "metadata": {},
          "execution_count": 10
        }
      ]
    },
    {
      "cell_type": "code",
      "source": [
        "list(['Ideal', 'Premium', 'Very Good', 'Good', 'Fair'])[::-1]"
      ],
      "metadata": {
        "colab": {
          "base_uri": "https://localhost:8080/"
        },
        "id": "f1wzunC1iNmP",
        "outputId": "0f6dfeae-9228-4b64-ab92-62f46796c618"
      },
      "execution_count": 11,
      "outputs": [
        {
          "output_type": "execute_result",
          "data": {
            "text/plain": [
              "['Fair', 'Good', 'Very Good', 'Premium', 'Ideal']"
            ]
          },
          "metadata": {},
          "execution_count": 11
        }
      ]
    },
    {
      "cell_type": "code",
      "source": [
        "olmos.columns"
      ],
      "metadata": {
        "colab": {
          "base_uri": "https://localhost:8080/"
        },
        "id": "l-mEMzb-DAiR",
        "outputId": "ff8b4816-2fc2-4c96-f8fd-db0d4f740bfb"
      },
      "execution_count": 12,
      "outputs": [
        {
          "output_type": "execute_result",
          "data": {
            "text/plain": [
              "Index(['carat', 'cut', 'color', 'clarity', 'depth', 'table', 'price', 'x', 'y',\n",
              "       'z'],\n",
              "      dtype='object')"
            ]
          },
          "metadata": {},
          "execution_count": 12
        }
      ]
    },
    {
      "cell_type": "code",
      "source": [
        "olmos.carat.unique()"
      ],
      "metadata": {
        "colab": {
          "base_uri": "https://localhost:8080/"
        },
        "id": "wJqHd1aTDYQD",
        "outputId": "f6322f1e-91a6-42f0-d862-04263b5bba19"
      },
      "execution_count": 13,
      "outputs": [
        {
          "output_type": "execute_result",
          "data": {
            "text/plain": [
              "array([0.23, 0.21, 0.29, 0.31, 0.24, 0.26, 0.22, 0.3 , 0.2 , 0.32, 0.33,\n",
              "       0.25, 0.35, 0.42, 0.28, 0.38, 0.7 , 0.86, 0.71, 0.78, 0.96, 0.73,\n",
              "       0.8 , 0.75, 0.74, 0.81, 0.59, 0.9 , 0.91, 0.61, 0.77, 0.63, 0.76,\n",
              "       0.64, 0.72, 0.79, 0.58, 1.17, 0.6 , 0.83, 0.54, 0.98, 0.52, 1.01,\n",
              "       0.53, 0.84, 0.51, 1.05, 0.55, 0.87, 1.  , 0.57, 0.82, 1.04, 0.93,\n",
              "       1.2 , 0.99, 0.34, 0.43, 0.36, 0.95, 0.89, 1.02, 0.97, 0.56, 0.85,\n",
              "       0.92, 1.27, 0.66, 1.12, 0.68, 1.03, 0.62, 1.22, 1.08, 0.88, 0.5 ,\n",
              "       1.19, 0.39, 0.65, 1.24, 1.5 , 0.27, 0.41, 1.13, 1.06, 0.69, 0.4 ,\n",
              "       1.14, 0.94, 1.29, 1.52, 1.16, 1.21, 1.23, 1.09, 0.67, 1.11, 1.1 ,\n",
              "       1.18, 1.15, 1.25, 1.07, 1.28, 1.51, 0.37, 1.31, 1.26, 1.39, 1.44,\n",
              "       1.35, 1.3 , 1.32, 1.41, 1.36, 1.45, 1.34, 1.58, 1.54, 1.38, 1.33,\n",
              "       1.74, 1.64, 1.47, 1.4 , 1.55, 1.95, 2.  , 1.37, 1.83, 1.62, 1.57,\n",
              "       1.69, 2.06, 1.72, 1.66, 2.14, 1.49, 1.46, 2.15, 1.96, 2.22, 1.7 ,\n",
              "       1.53, 1.85, 2.01, 2.27, 1.68, 1.56, 1.81, 1.65, 1.82, 2.03, 1.73,\n",
              "       1.59, 1.42, 1.43, 2.08, 1.48, 1.6 , 2.49, 1.71, 2.02, 2.07, 3.  ,\n",
              "       2.21, 2.1 , 1.91, 2.25, 2.17, 2.32, 2.72, 1.61, 2.23, 2.11, 2.05,\n",
              "       1.63, 2.3 , 2.31, 1.75, 2.04, 2.12, 1.77, 2.5 , 1.8 , 1.67, 1.84,\n",
              "       2.2 , 3.01, 1.88, 2.33, 2.68, 2.34, 1.9 , 2.16, 2.74, 1.78, 1.76,\n",
              "       2.28, 1.79, 1.94, 2.43, 1.86, 3.11, 1.87, 2.09, 1.89, 2.52, 2.19,\n",
              "       2.18, 2.77, 2.63, 3.05, 2.46, 3.02, 2.38, 2.24, 2.26, 2.36, 1.99,\n",
              "       2.29, 3.65, 2.45, 2.4 , 2.54, 3.24, 2.13, 2.58, 3.22, 3.5 , 2.48,\n",
              "       1.98, 2.44, 2.75, 1.93, 2.41, 2.61, 2.35, 2.51, 2.7 , 2.55, 1.97,\n",
              "       2.53, 2.37, 2.47, 2.8 , 4.01, 2.56, 3.04, 1.92, 2.39, 3.4 , 4.  ,\n",
              "       3.67, 2.42, 2.66, 2.65, 2.59, 2.6 , 2.57, 2.71, 4.13, 2.64, 5.01,\n",
              "       4.5 , 2.67, 3.51, 0.44, 0.45, 0.47, 0.46, 0.48, 0.49])"
            ]
          },
          "metadata": {},
          "execution_count": 13
        }
      ]
    },
    {
      "cell_type": "code",
      "source": [
        "from sklearn.preprocessing import StandardScaler,OneHotEncoder,OrdinalEncoder\n",
        "from sklearn.compose import ColumnTransformer"
      ],
      "metadata": {
        "id": "fNykNG8Cf0kn"
      },
      "execution_count": 14,
      "outputs": []
    },
    {
      "cell_type": "code",
      "source": [
        "scaler = StandardScaler()\n",
        "one_hot = OneHotEncoder(sparse_output=False)\n",
        "ord = OrdinalEncoder(categories=[['Fair', 'Good', 'Very Good', 'Premium', 'Ideal'],\n",
        "                                 ['I1', 'SI2', 'SI1', 'VS2', 'VS1', 'VVS2', 'VVS1', 'IF']])\n"
      ],
      "metadata": {
        "id": "wWMR7m_vgJUW"
      },
      "execution_count": 15,
      "outputs": []
    },
    {
      "cell_type": "code",
      "source": [
        "num_columns = ['carat', 'depth', 'table', 'price', 'x', 'y', 'z']\n",
        "cat_columns = ['color']\n",
        "cat_ord_columns = ['cut', 'clarity']"
      ],
      "metadata": {
        "id": "a9Z2IiFNgiwJ"
      },
      "execution_count": 16,
      "outputs": []
    },
    {
      "cell_type": "code",
      "source": [
        "ct = ColumnTransformer(\n",
        "    transformers=[\n",
        "        (\"num\", scaler, num_columns),            # Scale numerical columns\n",
        "        (\"cat\", one_hot, cat_columns),           # One-hot encode nominal categorical columns\n",
        "        (\"cat_ord\", ord, cat_ord_columns)        # Ordinal encode ordered categorical columns\n",
        "    ],\n",
        "    remainder='passthrough'                     # Retain any remaining columns\n",
        ").set_output(transform=\"pandas\")"
      ],
      "metadata": {
        "id": "e-YLoIq-Fq_d"
      },
      "execution_count": 17,
      "outputs": []
    },
    {
      "cell_type": "code",
      "source": [
        "diamonds_transformed = ct.fit_transform(olmos)"
      ],
      "metadata": {
        "id": "qa7QUwqHEX04"
      },
      "execution_count": 18,
      "outputs": []
    },
    {
      "cell_type": "code",
      "source": [
        "diamonds_transformed"
      ],
      "metadata": {
        "colab": {
          "base_uri": "https://localhost:8080/",
          "height": 443
        },
        "id": "mN2tJmeyF-dW",
        "outputId": "566be7c8-0a39-4012-959f-d24b85908bd6"
      },
      "execution_count": 19,
      "outputs": [
        {
          "output_type": "execute_result",
          "data": {
            "text/plain": [
              "       num__carat  num__depth  num__table  num__price    num__x    num__y  \\\n",
              "0       -1.199402   -0.173495   -1.100486   -0.904462 -1.589399 -1.537553   \n",
              "1       -1.241651   -1.362393    1.585691   -0.904462 -1.642938 -1.660231   \n",
              "2       -1.199402   -3.390512    3.376475   -0.904211 -1.500168 -1.458689   \n",
              "3       -1.072656    0.455922    0.242603   -0.902456 -1.366321 -1.318485   \n",
              "4       -1.030407    1.085338    0.242603   -0.902205 -1.241397 -1.213332   \n",
              "...           ...         ...         ...         ...       ...       ...   \n",
              "53789   -0.164306   -0.663041   -0.205093   -0.294895  0.016763  0.022211   \n",
              "53790   -0.164306    0.945468   -1.100486   -0.294895 -0.036776  0.013448   \n",
              "53791   -0.206555    0.735662    1.137995   -0.294895 -0.063546 -0.047891   \n",
              "53792    0.131436   -0.523171    0.242603   -0.294895  0.373687  0.337668   \n",
              "53793   -0.100933    0.316051   -1.100486   -0.294895  0.088148  0.118600   \n",
              "\n",
              "         num__z  cat__color_D  cat__color_E  cat__color_F  cat__color_G  \\\n",
              "0     -1.572574           0.0           1.0           0.0           0.0   \n",
              "1     -1.742780           0.0           1.0           0.0           0.0   \n",
              "2     -1.742780           0.0           1.0           0.0           0.0   \n",
              "3     -1.288899           0.0           0.0           0.0           0.0   \n",
              "4     -1.118694           0.0           0.0           0.0           0.0   \n",
              "...         ...           ...           ...           ...           ...   \n",
              "53789 -0.054911           1.0           0.0           0.0           0.0   \n",
              "53790  0.101111           1.0           0.0           0.0           0.0   \n",
              "53791  0.030192           1.0           0.0           0.0           0.0   \n",
              "53792  0.285500           0.0           0.0           0.0           0.0   \n",
              "53793  0.143662           1.0           0.0           0.0           0.0   \n",
              "\n",
              "       cat__color_H  cat__color_I  cat__color_J  cat_ord__cut  \\\n",
              "0               0.0           0.0           0.0           4.0   \n",
              "1               0.0           0.0           0.0           3.0   \n",
              "2               0.0           0.0           0.0           1.0   \n",
              "3               0.0           1.0           0.0           3.0   \n",
              "4               0.0           0.0           1.0           1.0   \n",
              "...             ...           ...           ...           ...   \n",
              "53789           0.0           0.0           0.0           4.0   \n",
              "53790           0.0           0.0           0.0           1.0   \n",
              "53791           0.0           0.0           0.0           2.0   \n",
              "53792           1.0           0.0           0.0           3.0   \n",
              "53793           0.0           0.0           0.0           4.0   \n",
              "\n",
              "       cat_ord__clarity  \n",
              "0                   1.0  \n",
              "1                   2.0  \n",
              "2                   4.0  \n",
              "3                   3.0  \n",
              "4                   1.0  \n",
              "...                 ...  \n",
              "53789               2.0  \n",
              "53790               2.0  \n",
              "53791               2.0  \n",
              "53792               1.0  \n",
              "53793               1.0  \n",
              "\n",
              "[53794 rows x 16 columns]"
            ],
            "text/html": [
              "\n",
              "  <div id=\"df-d6c24d56-8ac8-4139-ba87-52cb2dc2988f\" class=\"colab-df-container\">\n",
              "    <div>\n",
              "<style scoped>\n",
              "    .dataframe tbody tr th:only-of-type {\n",
              "        vertical-align: middle;\n",
              "    }\n",
              "\n",
              "    .dataframe tbody tr th {\n",
              "        vertical-align: top;\n",
              "    }\n",
              "\n",
              "    .dataframe thead th {\n",
              "        text-align: right;\n",
              "    }\n",
              "</style>\n",
              "<table border=\"1\" class=\"dataframe\">\n",
              "  <thead>\n",
              "    <tr style=\"text-align: right;\">\n",
              "      <th></th>\n",
              "      <th>num__carat</th>\n",
              "      <th>num__depth</th>\n",
              "      <th>num__table</th>\n",
              "      <th>num__price</th>\n",
              "      <th>num__x</th>\n",
              "      <th>num__y</th>\n",
              "      <th>num__z</th>\n",
              "      <th>cat__color_D</th>\n",
              "      <th>cat__color_E</th>\n",
              "      <th>cat__color_F</th>\n",
              "      <th>cat__color_G</th>\n",
              "      <th>cat__color_H</th>\n",
              "      <th>cat__color_I</th>\n",
              "      <th>cat__color_J</th>\n",
              "      <th>cat_ord__cut</th>\n",
              "      <th>cat_ord__clarity</th>\n",
              "    </tr>\n",
              "  </thead>\n",
              "  <tbody>\n",
              "    <tr>\n",
              "      <th>0</th>\n",
              "      <td>-1.199402</td>\n",
              "      <td>-0.173495</td>\n",
              "      <td>-1.100486</td>\n",
              "      <td>-0.904462</td>\n",
              "      <td>-1.589399</td>\n",
              "      <td>-1.537553</td>\n",
              "      <td>-1.572574</td>\n",
              "      <td>0.0</td>\n",
              "      <td>1.0</td>\n",
              "      <td>0.0</td>\n",
              "      <td>0.0</td>\n",
              "      <td>0.0</td>\n",
              "      <td>0.0</td>\n",
              "      <td>0.0</td>\n",
              "      <td>4.0</td>\n",
              "      <td>1.0</td>\n",
              "    </tr>\n",
              "    <tr>\n",
              "      <th>1</th>\n",
              "      <td>-1.241651</td>\n",
              "      <td>-1.362393</td>\n",
              "      <td>1.585691</td>\n",
              "      <td>-0.904462</td>\n",
              "      <td>-1.642938</td>\n",
              "      <td>-1.660231</td>\n",
              "      <td>-1.742780</td>\n",
              "      <td>0.0</td>\n",
              "      <td>1.0</td>\n",
              "      <td>0.0</td>\n",
              "      <td>0.0</td>\n",
              "      <td>0.0</td>\n",
              "      <td>0.0</td>\n",
              "      <td>0.0</td>\n",
              "      <td>3.0</td>\n",
              "      <td>2.0</td>\n",
              "    </tr>\n",
              "    <tr>\n",
              "      <th>2</th>\n",
              "      <td>-1.199402</td>\n",
              "      <td>-3.390512</td>\n",
              "      <td>3.376475</td>\n",
              "      <td>-0.904211</td>\n",
              "      <td>-1.500168</td>\n",
              "      <td>-1.458689</td>\n",
              "      <td>-1.742780</td>\n",
              "      <td>0.0</td>\n",
              "      <td>1.0</td>\n",
              "      <td>0.0</td>\n",
              "      <td>0.0</td>\n",
              "      <td>0.0</td>\n",
              "      <td>0.0</td>\n",
              "      <td>0.0</td>\n",
              "      <td>1.0</td>\n",
              "      <td>4.0</td>\n",
              "    </tr>\n",
              "    <tr>\n",
              "      <th>3</th>\n",
              "      <td>-1.072656</td>\n",
              "      <td>0.455922</td>\n",
              "      <td>0.242603</td>\n",
              "      <td>-0.902456</td>\n",
              "      <td>-1.366321</td>\n",
              "      <td>-1.318485</td>\n",
              "      <td>-1.288899</td>\n",
              "      <td>0.0</td>\n",
              "      <td>0.0</td>\n",
              "      <td>0.0</td>\n",
              "      <td>0.0</td>\n",
              "      <td>0.0</td>\n",
              "      <td>1.0</td>\n",
              "      <td>0.0</td>\n",
              "      <td>3.0</td>\n",
              "      <td>3.0</td>\n",
              "    </tr>\n",
              "    <tr>\n",
              "      <th>4</th>\n",
              "      <td>-1.030407</td>\n",
              "      <td>1.085338</td>\n",
              "      <td>0.242603</td>\n",
              "      <td>-0.902205</td>\n",
              "      <td>-1.241397</td>\n",
              "      <td>-1.213332</td>\n",
              "      <td>-1.118694</td>\n",
              "      <td>0.0</td>\n",
              "      <td>0.0</td>\n",
              "      <td>0.0</td>\n",
              "      <td>0.0</td>\n",
              "      <td>0.0</td>\n",
              "      <td>0.0</td>\n",
              "      <td>1.0</td>\n",
              "      <td>1.0</td>\n",
              "      <td>1.0</td>\n",
              "    </tr>\n",
              "    <tr>\n",
              "      <th>...</th>\n",
              "      <td>...</td>\n",
              "      <td>...</td>\n",
              "      <td>...</td>\n",
              "      <td>...</td>\n",
              "      <td>...</td>\n",
              "      <td>...</td>\n",
              "      <td>...</td>\n",
              "      <td>...</td>\n",
              "      <td>...</td>\n",
              "      <td>...</td>\n",
              "      <td>...</td>\n",
              "      <td>...</td>\n",
              "      <td>...</td>\n",
              "      <td>...</td>\n",
              "      <td>...</td>\n",
              "      <td>...</td>\n",
              "    </tr>\n",
              "    <tr>\n",
              "      <th>53789</th>\n",
              "      <td>-0.164306</td>\n",
              "      <td>-0.663041</td>\n",
              "      <td>-0.205093</td>\n",
              "      <td>-0.294895</td>\n",
              "      <td>0.016763</td>\n",
              "      <td>0.022211</td>\n",
              "      <td>-0.054911</td>\n",
              "      <td>1.0</td>\n",
              "      <td>0.0</td>\n",
              "      <td>0.0</td>\n",
              "      <td>0.0</td>\n",
              "      <td>0.0</td>\n",
              "      <td>0.0</td>\n",
              "      <td>0.0</td>\n",
              "      <td>4.0</td>\n",
              "      <td>2.0</td>\n",
              "    </tr>\n",
              "    <tr>\n",
              "      <th>53790</th>\n",
              "      <td>-0.164306</td>\n",
              "      <td>0.945468</td>\n",
              "      <td>-1.100486</td>\n",
              "      <td>-0.294895</td>\n",
              "      <td>-0.036776</td>\n",
              "      <td>0.013448</td>\n",
              "      <td>0.101111</td>\n",
              "      <td>1.0</td>\n",
              "      <td>0.0</td>\n",
              "      <td>0.0</td>\n",
              "      <td>0.0</td>\n",
              "      <td>0.0</td>\n",
              "      <td>0.0</td>\n",
              "      <td>0.0</td>\n",
              "      <td>1.0</td>\n",
              "      <td>2.0</td>\n",
              "    </tr>\n",
              "    <tr>\n",
              "      <th>53791</th>\n",
              "      <td>-0.206555</td>\n",
              "      <td>0.735662</td>\n",
              "      <td>1.137995</td>\n",
              "      <td>-0.294895</td>\n",
              "      <td>-0.063546</td>\n",
              "      <td>-0.047891</td>\n",
              "      <td>0.030192</td>\n",
              "      <td>1.0</td>\n",
              "      <td>0.0</td>\n",
              "      <td>0.0</td>\n",
              "      <td>0.0</td>\n",
              "      <td>0.0</td>\n",
              "      <td>0.0</td>\n",
              "      <td>0.0</td>\n",
              "      <td>2.0</td>\n",
              "      <td>2.0</td>\n",
              "    </tr>\n",
              "    <tr>\n",
              "      <th>53792</th>\n",
              "      <td>0.131436</td>\n",
              "      <td>-0.523171</td>\n",
              "      <td>0.242603</td>\n",
              "      <td>-0.294895</td>\n",
              "      <td>0.373687</td>\n",
              "      <td>0.337668</td>\n",
              "      <td>0.285500</td>\n",
              "      <td>0.0</td>\n",
              "      <td>0.0</td>\n",
              "      <td>0.0</td>\n",
              "      <td>0.0</td>\n",
              "      <td>1.0</td>\n",
              "      <td>0.0</td>\n",
              "      <td>0.0</td>\n",
              "      <td>3.0</td>\n",
              "      <td>1.0</td>\n",
              "    </tr>\n",
              "    <tr>\n",
              "      <th>53793</th>\n",
              "      <td>-0.100933</td>\n",
              "      <td>0.316051</td>\n",
              "      <td>-1.100486</td>\n",
              "      <td>-0.294895</td>\n",
              "      <td>0.088148</td>\n",
              "      <td>0.118600</td>\n",
              "      <td>0.143662</td>\n",
              "      <td>1.0</td>\n",
              "      <td>0.0</td>\n",
              "      <td>0.0</td>\n",
              "      <td>0.0</td>\n",
              "      <td>0.0</td>\n",
              "      <td>0.0</td>\n",
              "      <td>0.0</td>\n",
              "      <td>4.0</td>\n",
              "      <td>1.0</td>\n",
              "    </tr>\n",
              "  </tbody>\n",
              "</table>\n",
              "<p>53794 rows × 16 columns</p>\n",
              "</div>\n",
              "    <div class=\"colab-df-buttons\">\n",
              "\n",
              "  <div class=\"colab-df-container\">\n",
              "    <button class=\"colab-df-convert\" onclick=\"convertToInteractive('df-d6c24d56-8ac8-4139-ba87-52cb2dc2988f')\"\n",
              "            title=\"Convert this dataframe to an interactive table.\"\n",
              "            style=\"display:none;\">\n",
              "\n",
              "  <svg xmlns=\"http://www.w3.org/2000/svg\" height=\"24px\" viewBox=\"0 -960 960 960\">\n",
              "    <path d=\"M120-120v-720h720v720H120Zm60-500h600v-160H180v160Zm220 220h160v-160H400v160Zm0 220h160v-160H400v160ZM180-400h160v-160H180v160Zm440 0h160v-160H620v160ZM180-180h160v-160H180v160Zm440 0h160v-160H620v160Z\"/>\n",
              "  </svg>\n",
              "    </button>\n",
              "\n",
              "  <style>\n",
              "    .colab-df-container {\n",
              "      display:flex;\n",
              "      gap: 12px;\n",
              "    }\n",
              "\n",
              "    .colab-df-convert {\n",
              "      background-color: #E8F0FE;\n",
              "      border: none;\n",
              "      border-radius: 50%;\n",
              "      cursor: pointer;\n",
              "      display: none;\n",
              "      fill: #1967D2;\n",
              "      height: 32px;\n",
              "      padding: 0 0 0 0;\n",
              "      width: 32px;\n",
              "    }\n",
              "\n",
              "    .colab-df-convert:hover {\n",
              "      background-color: #E2EBFA;\n",
              "      box-shadow: 0px 1px 2px rgba(60, 64, 67, 0.3), 0px 1px 3px 1px rgba(60, 64, 67, 0.15);\n",
              "      fill: #174EA6;\n",
              "    }\n",
              "\n",
              "    .colab-df-buttons div {\n",
              "      margin-bottom: 4px;\n",
              "    }\n",
              "\n",
              "    [theme=dark] .colab-df-convert {\n",
              "      background-color: #3B4455;\n",
              "      fill: #D2E3FC;\n",
              "    }\n",
              "\n",
              "    [theme=dark] .colab-df-convert:hover {\n",
              "      background-color: #434B5C;\n",
              "      box-shadow: 0px 1px 3px 1px rgba(0, 0, 0, 0.15);\n",
              "      filter: drop-shadow(0px 1px 2px rgba(0, 0, 0, 0.3));\n",
              "      fill: #FFFFFF;\n",
              "    }\n",
              "  </style>\n",
              "\n",
              "    <script>\n",
              "      const buttonEl =\n",
              "        document.querySelector('#df-d6c24d56-8ac8-4139-ba87-52cb2dc2988f button.colab-df-convert');\n",
              "      buttonEl.style.display =\n",
              "        google.colab.kernel.accessAllowed ? 'block' : 'none';\n",
              "\n",
              "      async function convertToInteractive(key) {\n",
              "        const element = document.querySelector('#df-d6c24d56-8ac8-4139-ba87-52cb2dc2988f');\n",
              "        const dataTable =\n",
              "          await google.colab.kernel.invokeFunction('convertToInteractive',\n",
              "                                                    [key], {});\n",
              "        if (!dataTable) return;\n",
              "\n",
              "        const docLinkHtml = 'Like what you see? Visit the ' +\n",
              "          '<a target=\"_blank\" href=https://colab.research.google.com/notebooks/data_table.ipynb>data table notebook</a>'\n",
              "          + ' to learn more about interactive tables.';\n",
              "        element.innerHTML = '';\n",
              "        dataTable['output_type'] = 'display_data';\n",
              "        await google.colab.output.renderOutput(dataTable, element);\n",
              "        const docLink = document.createElement('div');\n",
              "        docLink.innerHTML = docLinkHtml;\n",
              "        element.appendChild(docLink);\n",
              "      }\n",
              "    </script>\n",
              "  </div>\n",
              "\n",
              "\n",
              "<div id=\"df-87923cab-21a2-4bef-aaae-97f2a43f3ae6\">\n",
              "  <button class=\"colab-df-quickchart\" onclick=\"quickchart('df-87923cab-21a2-4bef-aaae-97f2a43f3ae6')\"\n",
              "            title=\"Suggest charts\"\n",
              "            style=\"display:none;\">\n",
              "\n",
              "<svg xmlns=\"http://www.w3.org/2000/svg\" height=\"24px\"viewBox=\"0 0 24 24\"\n",
              "     width=\"24px\">\n",
              "    <g>\n",
              "        <path d=\"M19 3H5c-1.1 0-2 .9-2 2v14c0 1.1.9 2 2 2h14c1.1 0 2-.9 2-2V5c0-1.1-.9-2-2-2zM9 17H7v-7h2v7zm4 0h-2V7h2v10zm4 0h-2v-4h2v4z\"/>\n",
              "    </g>\n",
              "</svg>\n",
              "  </button>\n",
              "\n",
              "<style>\n",
              "  .colab-df-quickchart {\n",
              "      --bg-color: #E8F0FE;\n",
              "      --fill-color: #1967D2;\n",
              "      --hover-bg-color: #E2EBFA;\n",
              "      --hover-fill-color: #174EA6;\n",
              "      --disabled-fill-color: #AAA;\n",
              "      --disabled-bg-color: #DDD;\n",
              "  }\n",
              "\n",
              "  [theme=dark] .colab-df-quickchart {\n",
              "      --bg-color: #3B4455;\n",
              "      --fill-color: #D2E3FC;\n",
              "      --hover-bg-color: #434B5C;\n",
              "      --hover-fill-color: #FFFFFF;\n",
              "      --disabled-bg-color: #3B4455;\n",
              "      --disabled-fill-color: #666;\n",
              "  }\n",
              "\n",
              "  .colab-df-quickchart {\n",
              "    background-color: var(--bg-color);\n",
              "    border: none;\n",
              "    border-radius: 50%;\n",
              "    cursor: pointer;\n",
              "    display: none;\n",
              "    fill: var(--fill-color);\n",
              "    height: 32px;\n",
              "    padding: 0;\n",
              "    width: 32px;\n",
              "  }\n",
              "\n",
              "  .colab-df-quickchart:hover {\n",
              "    background-color: var(--hover-bg-color);\n",
              "    box-shadow: 0 1px 2px rgba(60, 64, 67, 0.3), 0 1px 3px 1px rgba(60, 64, 67, 0.15);\n",
              "    fill: var(--button-hover-fill-color);\n",
              "  }\n",
              "\n",
              "  .colab-df-quickchart-complete:disabled,\n",
              "  .colab-df-quickchart-complete:disabled:hover {\n",
              "    background-color: var(--disabled-bg-color);\n",
              "    fill: var(--disabled-fill-color);\n",
              "    box-shadow: none;\n",
              "  }\n",
              "\n",
              "  .colab-df-spinner {\n",
              "    border: 2px solid var(--fill-color);\n",
              "    border-color: transparent;\n",
              "    border-bottom-color: var(--fill-color);\n",
              "    animation:\n",
              "      spin 1s steps(1) infinite;\n",
              "  }\n",
              "\n",
              "  @keyframes spin {\n",
              "    0% {\n",
              "      border-color: transparent;\n",
              "      border-bottom-color: var(--fill-color);\n",
              "      border-left-color: var(--fill-color);\n",
              "    }\n",
              "    20% {\n",
              "      border-color: transparent;\n",
              "      border-left-color: var(--fill-color);\n",
              "      border-top-color: var(--fill-color);\n",
              "    }\n",
              "    30% {\n",
              "      border-color: transparent;\n",
              "      border-left-color: var(--fill-color);\n",
              "      border-top-color: var(--fill-color);\n",
              "      border-right-color: var(--fill-color);\n",
              "    }\n",
              "    40% {\n",
              "      border-color: transparent;\n",
              "      border-right-color: var(--fill-color);\n",
              "      border-top-color: var(--fill-color);\n",
              "    }\n",
              "    60% {\n",
              "      border-color: transparent;\n",
              "      border-right-color: var(--fill-color);\n",
              "    }\n",
              "    80% {\n",
              "      border-color: transparent;\n",
              "      border-right-color: var(--fill-color);\n",
              "      border-bottom-color: var(--fill-color);\n",
              "    }\n",
              "    90% {\n",
              "      border-color: transparent;\n",
              "      border-bottom-color: var(--fill-color);\n",
              "    }\n",
              "  }\n",
              "</style>\n",
              "\n",
              "  <script>\n",
              "    async function quickchart(key) {\n",
              "      const quickchartButtonEl =\n",
              "        document.querySelector('#' + key + ' button');\n",
              "      quickchartButtonEl.disabled = true;  // To prevent multiple clicks.\n",
              "      quickchartButtonEl.classList.add('colab-df-spinner');\n",
              "      try {\n",
              "        const charts = await google.colab.kernel.invokeFunction(\n",
              "            'suggestCharts', [key], {});\n",
              "      } catch (error) {\n",
              "        console.error('Error during call to suggestCharts:', error);\n",
              "      }\n",
              "      quickchartButtonEl.classList.remove('colab-df-spinner');\n",
              "      quickchartButtonEl.classList.add('colab-df-quickchart-complete');\n",
              "    }\n",
              "    (() => {\n",
              "      let quickchartButtonEl =\n",
              "        document.querySelector('#df-87923cab-21a2-4bef-aaae-97f2a43f3ae6 button');\n",
              "      quickchartButtonEl.style.display =\n",
              "        google.colab.kernel.accessAllowed ? 'block' : 'none';\n",
              "    })();\n",
              "  </script>\n",
              "</div>\n",
              "\n",
              "  <div id=\"id_5773eeb7-3a25-4186-8df4-a2b70893aff5\">\n",
              "    <style>\n",
              "      .colab-df-generate {\n",
              "        background-color: #E8F0FE;\n",
              "        border: none;\n",
              "        border-radius: 50%;\n",
              "        cursor: pointer;\n",
              "        display: none;\n",
              "        fill: #1967D2;\n",
              "        height: 32px;\n",
              "        padding: 0 0 0 0;\n",
              "        width: 32px;\n",
              "      }\n",
              "\n",
              "      .colab-df-generate:hover {\n",
              "        background-color: #E2EBFA;\n",
              "        box-shadow: 0px 1px 2px rgba(60, 64, 67, 0.3), 0px 1px 3px 1px rgba(60, 64, 67, 0.15);\n",
              "        fill: #174EA6;\n",
              "      }\n",
              "\n",
              "      [theme=dark] .colab-df-generate {\n",
              "        background-color: #3B4455;\n",
              "        fill: #D2E3FC;\n",
              "      }\n",
              "\n",
              "      [theme=dark] .colab-df-generate:hover {\n",
              "        background-color: #434B5C;\n",
              "        box-shadow: 0px 1px 3px 1px rgba(0, 0, 0, 0.15);\n",
              "        filter: drop-shadow(0px 1px 2px rgba(0, 0, 0, 0.3));\n",
              "        fill: #FFFFFF;\n",
              "      }\n",
              "    </style>\n",
              "    <button class=\"colab-df-generate\" onclick=\"generateWithVariable('diamonds_transformed')\"\n",
              "            title=\"Generate code using this dataframe.\"\n",
              "            style=\"display:none;\">\n",
              "\n",
              "  <svg xmlns=\"http://www.w3.org/2000/svg\" height=\"24px\"viewBox=\"0 0 24 24\"\n",
              "       width=\"24px\">\n",
              "    <path d=\"M7,19H8.4L18.45,9,17,7.55,7,17.6ZM5,21V16.75L18.45,3.32a2,2,0,0,1,2.83,0l1.4,1.43a1.91,1.91,0,0,1,.58,1.4,1.91,1.91,0,0,1-.58,1.4L9.25,21ZM18.45,9,17,7.55Zm-12,3A5.31,5.31,0,0,0,4.9,8.1,5.31,5.31,0,0,0,1,6.5,5.31,5.31,0,0,0,4.9,4.9,5.31,5.31,0,0,0,6.5,1,5.31,5.31,0,0,0,8.1,4.9,5.31,5.31,0,0,0,12,6.5,5.46,5.46,0,0,0,6.5,12Z\"/>\n",
              "  </svg>\n",
              "    </button>\n",
              "    <script>\n",
              "      (() => {\n",
              "      const buttonEl =\n",
              "        document.querySelector('#id_5773eeb7-3a25-4186-8df4-a2b70893aff5 button.colab-df-generate');\n",
              "      buttonEl.style.display =\n",
              "        google.colab.kernel.accessAllowed ? 'block' : 'none';\n",
              "\n",
              "      buttonEl.onclick = () => {\n",
              "        google.colab.notebook.generateWithVariable('diamonds_transformed');\n",
              "      }\n",
              "      })();\n",
              "    </script>\n",
              "  </div>\n",
              "\n",
              "    </div>\n",
              "  </div>\n"
            ],
            "application/vnd.google.colaboratory.intrinsic+json": {
              "type": "dataframe",
              "variable_name": "diamonds_transformed",
              "summary": "{\n  \"name\": \"diamonds_transformed\",\n  \"rows\": 53794,\n  \"fields\": [\n    {\n      \"column\": \"num__carat\",\n      \"properties\": {\n        \"dtype\": \"number\",\n        \"std\": 1.0000092948463004,\n        \"min\": -1.2627755190821413,\n        \"max\": 8.898069173906991,\n        \"num_unique_values\": 273,\n        \"samples\": [\n          -0.0586837363370673,\n          1.6523940601954064,\n          -0.31217674323076705\n        ],\n        \"semantic_type\": \"\",\n        \"description\": \"\"\n      }\n    },\n    {\n      \"column\": \"num__depth\",\n      \"properties\": {\n        \"dtype\": \"number\",\n        \"std\": 1.0000092948464971,\n        \"min\": -13.111500250444832,\n        \"max\": 12.065158707682173,\n        \"num_unique_values\": 184,\n        \"samples\": [\n          -0.5231707713813295,\n          0.8055973402975948,\n          5.910864295695574\n        ],\n        \"semantic_type\": \"\",\n        \"description\": \"\"\n      }\n    },\n    {\n      \"column\": \"num__table\",\n      \"properties\": {\n        \"dtype\": \"number\",\n        \"std\": 1.0000092948465944,\n        \"min\": -6.472838154611525,\n        \"max\": 16.80735642460861,\n        \"num_unique_values\": 127,\n        \"samples\": [\n          -1.190024769326957,\n          1.8095387629956388,\n          0.06352416955412922\n        ],\n        \"semantic_type\": \"\",\n        \"description\": \"\"\n      }\n    },\n    {\n      \"column\": \"num__price\",\n      \"properties\": {\n        \"dtype\": \"number\",\n        \"std\": 1.0000092948464618,\n        \"min\": -0.9044621574086212,\n        \"max\": 3.73361232893556,\n        \"num_unique_values\": 11602,\n        \"samples\": [\n          3.118027484691901,\n          -0.7617868920829014,\n          -0.7986467585203018\n        ],\n        \"semantic_type\": \"\",\n        \"description\": \"\"\n      }\n    },\n    {\n      \"column\": \"num__x\",\n      \"properties\": {\n        \"dtype\": \"number\",\n        \"std\": 1.0000092948464563,\n        \"min\": -5.114031061402869,\n        \"max\": 4.469399134867797,\n        \"num_unique_values\": 554,\n        \"samples\": [\n          0.13276312426486966,\n          -0.036776143639359556,\n          -1.0004730348844546\n        ],\n        \"semantic_type\": \"\",\n        \"description\": \"\"\n      }\n    },\n    {\n      \"column\": \"num__y\",\n      \"properties\": {\n        \"dtype\": \"number\",\n        \"std\": 1.0000092948464703,\n        \"min\": -5.025114292954582,\n        \"max\": 46.587287714090486,\n        \"num_unique_values\": 552,\n        \"samples\": [\n          -0.3545862335734242,\n          -0.10923016291174965,\n          -0.42468796804818837\n        ],\n        \"semantic_type\": \"\",\n        \"description\": \"\"\n      }\n    },\n    {\n      \"column\": \"num__z\",\n      \"properties\": {\n        \"dtype\": \"number\",\n        \"std\": 1.0000092948465409,\n        \"min\": -5.019231720230597,\n        \"max\": 40.08517237704143,\n        \"num_unique_values\": 375,\n        \"samples\": [\n          -0.25348336278298705,\n          -1.5442068762583812,\n          -1.1896125044244816\n        ],\n        \"semantic_type\": \"\",\n        \"description\": \"\"\n      }\n    },\n    {\n      \"column\": \"cat__color_D\",\n      \"properties\": {\n        \"dtype\": \"number\",\n        \"std\": 0.3313690288512083,\n        \"min\": 0.0,\n        \"max\": 1.0,\n        \"num_unique_values\": 2,\n        \"samples\": [\n          1.0,\n          0.0\n        ],\n        \"semantic_type\": \"\",\n        \"description\": \"\"\n      }\n    },\n    {\n      \"column\": \"cat__color_E\",\n      \"properties\": {\n        \"dtype\": \"number\",\n        \"std\": 0.3856256802977148,\n        \"min\": 0.0,\n        \"max\": 1.0,\n        \"num_unique_values\": 2,\n        \"samples\": [\n          0.0,\n          1.0\n        ],\n        \"semantic_type\": \"\",\n        \"description\": \"\"\n      }\n    },\n    {\n      \"column\": \"cat__color_F\",\n      \"properties\": {\n        \"dtype\": \"number\",\n        \"std\": 0.38164805428052456,\n        \"min\": 0.0,\n        \"max\": 1.0,\n        \"num_unique_values\": 2,\n        \"samples\": [\n          1.0,\n          0.0\n        ],\n        \"semantic_type\": \"\",\n        \"description\": \"\"\n      }\n    },\n    {\n      \"column\": \"cat__color_G\",\n      \"properties\": {\n        \"dtype\": \"number\",\n        \"std\": 0.40685144438872745,\n        \"min\": 0.0,\n        \"max\": 1.0,\n        \"num_unique_values\": 2,\n        \"samples\": [\n          1.0,\n          0.0\n        ],\n        \"semantic_type\": \"\",\n        \"description\": \"\"\n      }\n    },\n    {\n      \"column\": \"cat__color_H\",\n      \"properties\": {\n        \"dtype\": \"number\",\n        \"std\": 0.36073321145407955,\n        \"min\": 0.0,\n        \"max\": 1.0,\n        \"num_unique_values\": 2,\n        \"samples\": [\n          1.0,\n          0.0\n        ],\n        \"semantic_type\": \"\",\n        \"description\": \"\"\n      }\n    },\n    {\n      \"column\": \"cat__color_I\",\n      \"properties\": {\n        \"dtype\": \"number\",\n        \"std\": 0.3006856700341379,\n        \"min\": 0.0,\n        \"max\": 1.0,\n        \"num_unique_values\": 2,\n        \"samples\": [\n          1.0,\n          0.0\n        ],\n        \"semantic_type\": \"\",\n        \"description\": \"\"\n      }\n    },\n    {\n      \"column\": \"cat__color_J\",\n      \"properties\": {\n        \"dtype\": \"number\",\n        \"std\": 0.2222057467417601,\n        \"min\": 0.0,\n        \"max\": 1.0,\n        \"num_unique_values\": 2,\n        \"samples\": [\n          1.0,\n          0.0\n        ],\n        \"semantic_type\": \"\",\n        \"description\": \"\"\n      }\n    },\n    {\n      \"column\": \"cat_ord__cut\",\n      \"properties\": {\n        \"dtype\": \"number\",\n        \"std\": 1.1160983243232752,\n        \"min\": 0.0,\n        \"max\": 4.0,\n        \"num_unique_values\": 5,\n        \"samples\": [\n          3.0,\n          0.0\n        ],\n        \"semantic_type\": \"\",\n        \"description\": \"\"\n      }\n    },\n    {\n      \"column\": \"cat_ord__clarity\",\n      \"properties\": {\n        \"dtype\": \"number\",\n        \"std\": 1.6468567085401247,\n        \"min\": 0.0,\n        \"max\": 7.0,\n        \"num_unique_values\": 8,\n        \"samples\": [\n          2.0,\n          6.0\n        ],\n        \"semantic_type\": \"\",\n        \"description\": \"\"\n      }\n    }\n  ]\n}"
            }
          },
          "metadata": {},
          "execution_count": 19
        }
      ]
    },
    {
      "cell_type": "code",
      "source": [
        "plt.figure(figsize=(10,8))\n",
        "sns.heatmap(diamonds_transformed.corr(),annot=True)"
      ],
      "metadata": {
        "colab": {
          "base_uri": "https://localhost:8080/",
          "height": 689
        },
        "id": "Q8ySTbp-H829",
        "outputId": "4e53fee6-a801-4995-b3b5-1082d0d2f783"
      },
      "execution_count": 20,
      "outputs": [
        {
          "output_type": "execute_result",
          "data": {
            "text/plain": [
              "<Axes: >"
            ]
          },
          "metadata": {},
          "execution_count": 20
        },
        {
          "output_type": "display_data",
          "data": {
            "text/plain": [
              "<Figure size 1000x800 with 2 Axes>"
            ],
            "image/png": "[encoded data removed]"
          },
          "metadata": {}
        }
      ]
    },
    {
      "cell_type": "code",
      "source": [
        "from sklearn.linear_model import Lasso, Ridge\n",
        "from sklearn.model_selection import train_test_split\n",
        "from sklearn.metrics import mean_squared_error\n",
        "import numpy as np\n",
        "import pandas as pd\n",
        "\n",
        "# Example dataset\n",
        "from sklearn.datasets import make_regression\n",
        "X, y = make_regression(n_samples=100, n_features=10, noise=0.1, random_state=42)\n",
        "\n",
        "# Split data\n",
        "X_train, X_test, y_train, y_test = train_test_split(X, y, test_size=0.2, random_state=42)\n",
        "\n",
        "# Lasso Regression\n",
        "lasso = Lasso(alpha=0.1)  # alpha is λ\n",
        "lasso.fit(X_train, y_train)\n",
        "y_pred_lasso = lasso.predict(X_test)\n",
        "print(\"Lasso MSE:\", mean_squared_error(y_test, y_pred_lasso))\n",
        "print(\"Lasso Coefficients:\", lasso.coef_)\n",
        "\n",
        "# Ridge Regression\n",
        "ridge = Ridge(alpha=1.0)  # alpha is λ\n",
        "ridge.fit(X_train, y_train)\n",
        "y_pred_ridge = ridge.predict(X_test)\n",
        "print(\"Ridge MSE:\", mean_squared_error(y_test, y_pred_ridge))\n",
        "print(\"Ridge Coefficients:\", ridge.coef_)"
      ],
      "metadata": {
        "colab": {
          "base_uri": "https://localhost:8080/"
        },
        "id": "7HL95K7fKVeo",
        "outputId": "da23e117-49cd-4181-e067-71f54e8455ec"
      },
      "execution_count": 21,
      "outputs": [
        {
          "output_type": "stream",
          "name": "stdout",
          "text": [
            "Lasso MSE: 0.18237823772606268\n",
            "Lasso Coefficients: [16.68551572 54.04466658  5.03023843 63.54923618 93.45872786 70.54211442\n",
            " 86.95689868 10.27114941  3.06974112 70.78354482]\n",
            "Ridge MSE: 11.844580603662115\n",
            "Ridge Coefficients: [16.95562623 53.26139273  5.14229184 62.71297072 92.14122801 69.72025958\n",
            " 86.01729963  9.90576126  3.25096976 69.63820737]\n"
          ]
        }
      ]
    },
    {
      "cell_type": "code",
      "source": [
        "X=diamonds_transformed.drop(columns=['num__price'])\n",
        "y=diamonds_transformed['num__price']"
      ],
      "metadata": {
        "id": "MdmkGuFoIboK"
      },
      "execution_count": 22,
      "outputs": []
    },
    {
      "cell_type": "code",
      "source": [
        "from sklearn.model_selection import train_test_split\n",
        "from sklearn.metrics import mean_squared_error,r2_score,mean_absolute_error"
      ],
      "metadata": {
        "id": "ZfDXXbYkIybY"
      },
      "execution_count": 23,
      "outputs": []
    },
    {
      "cell_type": "code",
      "source": [
        "# PCA(principal component analysis)\n",
        "\n",
        "from sklearn.decomposition import PCA\n",
        "\n",
        "pca = PCA(n_components=10).set_output(transform='pandas')\n",
        "\n",
        "pca.fit(diamonds_transformed)\n",
        "\n",
        "df_pca = pca.transform(diamonds_transformed)\n",
        "plt.figure(figsize=(10, 8))\n",
        "sns.heatmap(df_pca.corr(), annot=True, cmap='coolwarm')"
      ],
      "metadata": {
        "colab": {
          "base_uri": "https://localhost:8080/",
          "height": 688
        },
        "id": "DcVwoYhsBL8T",
        "outputId": "53938789-2c2c-496f-fc6e-3337959cc427"
      },
      "execution_count": 50,
      "outputs": [
        {
          "output_type": "execute_result",
          "data": {
            "text/plain": [
              "<Axes: >"
            ]
          },
          "metadata": {},
          "execution_count": 50
        },
        {
          "output_type": "display_data",
          "data": {
            "text/plain": [
              "<Figure size 1000x800 with 2 Axes>"
            ],
            "image/png": "[encoded data removed]"
          },
          "metadata": {}
        }
      ]
    },
    {
      "cell_type": "code",
      "source": [
        "X = df_pca\n",
        "y = diamonds_transformed.num__price"
      ],
      "metadata": {
        "id": "fCeuBNwGBeWy"
      },
      "execution_count": 54,
      "outputs": []
    },
    {
      "cell_type": "code",
      "source": [
        "X_train,X_test,y_train,y_test=train_test_split(X,y,test_size=0.2,random_state=42)"
      ],
      "metadata": {
        "id": "SLQs1286IyYT"
      },
      "execution_count": 55,
      "outputs": []
    },
    {
      "cell_type": "code",
      "source": [
        "from sklearn.linear_model import LinearRegression,Ridge,Lasso\n",
        "lr=LinearRegression()\n",
        "ridge=Ridge()\n",
        "lasso=Lasso()"
      ],
      "metadata": {
        "id": "q0pd74eSIyWD"
      },
      "execution_count": 56,
      "outputs": []
    },
    {
      "cell_type": "code",
      "source": [
        "%%time\n",
        "lr.fit(X_train,y_train)\n",
        "y_pred=lr.predict(X_test)\n",
        "print(\"MSE:\",mean_squared_error(y_test,y_pred))\n",
        "print(\"R2:\",r2_score(y_test,y_pred))\n",
        "print(\"MAE:\",mean_absolute_error(y_test,y_pred))"
      ],
      "metadata": {
        "colab": {
          "base_uri": "https://localhost:8080/"
        },
        "id": "Y-6PqcQjIyTa",
        "outputId": "6b72adb9-daa1-4691-a849-611a254a0735"
      },
      "execution_count": 57,
      "outputs": [
        {
          "output_type": "stream",
          "name": "stdout",
          "text": [
            "MSE: 0.008413262200974507\n",
            "R2: 0.9912209480082934\n",
            "MAE: 0.06560173676051159\n",
            "CPU times: user 34.9 ms, sys: 1.79 ms, total: 36.7 ms\n",
            "Wall time: 25.2 ms\n"
          ]
        }
      ]
    },
    {
      "cell_type": "code",
      "source": [
        "%%time\n",
        "ridge.fit(X_train,y_train)\n",
        "y_pred=ridge.predict(X_test)\n",
        "print(\"MSE:\",mean_squared_error(y_test,y_pred))\n",
        "print(\"R2:\",r2_score(y_test,y_pred))\n",
        "print(\"MAE:\",mean_absolute_error(y_test,y_pred))"
      ],
      "metadata": {
        "colab": {
          "base_uri": "https://localhost:8080/"
        },
        "id": "tEolfPaqIyQp",
        "outputId": "9b81f39e-be56-45a8-a185-b29fe7094d65"
      },
      "execution_count": 58,
      "outputs": [
        {
          "output_type": "stream",
          "name": "stdout",
          "text": [
            "MSE: 0.008412957957371021\n",
            "R2: 0.9912212654797272\n",
            "MAE: 0.0656077002295907\n",
            "CPU times: user 22.1 ms, sys: 8.25 ms, total: 30.4 ms\n",
            "Wall time: 30.3 ms\n"
          ]
        }
      ]
    },
    {
      "cell_type": "code",
      "source": [
        "%%time\n",
        "lasso.fit(X_train,y_train)\n",
        "y_pred=lasso.predict(X_test)\n",
        "print(\"MSE:\",mean_squared_error(y_test,y_pred))\n",
        "print(\"R2:\",r2_score(y_test,y_pred))\n",
        "print(\"MAE:\",mean_absolute_error(y_test,y_pred))"
      ],
      "metadata": {
        "colab": {
          "base_uri": "https://localhost:8080/"
        },
        "id": "lzX3lvWDIyOF",
        "outputId": "92e51b7b-423e-4165-94fa-a704978fc944"
      },
      "execution_count": 59,
      "outputs": [
        {
          "output_type": "stream",
          "name": "stdout",
          "text": [
            "MSE: 0.47503182439319275\n",
            "R2: 0.5043148561826589\n",
            "MAE: 0.48987764373633896\n",
            "CPU times: user 31.4 ms, sys: 3.79 ms, total: 35.2 ms\n",
            "Wall time: 22.6 ms\n"
          ]
        }
      ]
    },
    {
      "cell_type": "code",
      "source": [
        "%%time\n",
        "from sklearn.model_selection import GridSearchCV\n",
        "ridge = Ridge()\n",
        "\n",
        "# Define the parameter grid\n",
        "param_grid = {'alpha': [0.01, 0.1, 1, 10, 100]}  # Grid of values for regularization strength\n",
        "\n",
        "# Perform GridSearchCV\n",
        "gsCV = GridSearchCV(estimator=ridge, param_grid=param_grid, cv=5, scoring='neg_mean_squared_error')\n",
        "gsCV.fit(X_train, y_train)\n",
        "\n",
        "# Best parameters and best score\n",
        "print(\"Best Parameters:\", gsCV.best_params_)\n",
        "print(\"Best CV Score (neg MSE):\", gsCV.best_score_)\n",
        "\n",
        "# Predictions and Evaluation\n",
        "y_pred = gsCV.predict(X_test)\n",
        "print(\"MSE:\", mean_squared_error(y_test, y_pred))\n",
        "print(\"R2:\", r2_score(y_test, y_pred))\n",
        "print(\"MAE:\", mean_absolute_error(y_test, y_pred))"
      ],
      "metadata": {
        "colab": {
          "base_uri": "https://localhost:8080/"
        },
        "id": "JAQFDk0_IyLb",
        "outputId": "e38bd431-4233-42de-f500-6cdfce53b838"
      },
      "execution_count": 60,
      "outputs": [
        {
          "output_type": "stream",
          "name": "stdout",
          "text": [
            "Best Parameters: {'alpha': 1}\n",
            "Best CV Score (neg MSE): -0.008702865929514216\n",
            "MSE: 0.008412957957371021\n",
            "R2: 0.9912212654797272\n",
            "MAE: 0.0656077002295907\n",
            "CPU times: user 483 ms, sys: 363 ms, total: 846 ms\n",
            "Wall time: 457 ms\n"
          ]
        }
      ]
    },
    {
      "cell_type": "code",
      "source": [
        "%%time\n",
        "lasso = Lasso()\n",
        "\n",
        "# Define the parameter grid\n",
        "param_grid = {'alpha': [0.01, 0.1, 1, 10, 100]}  # Grid of values for regularization strength\n",
        "\n",
        "# Perform GridSearchCV\n",
        "gsCV = GridSearchCV(estimator=lasso, param_grid=param_grid, cv=5, scoring='neg_mean_squared_error')\n",
        "gsCV.fit(X_train, y_train)\n",
        "\n",
        "# Best parameters and best score\n",
        "print(\"Best Parameters:\", gsCV.best_params_)\n",
        "print(\"Best CV Score (neg MSE):\", gsCV.best_score_)\n",
        "\n",
        "# Predictions and Evaluation\n",
        "y_pred = gsCV.predict(X_test)\n",
        "print(\"MSE:\", mean_squared_error(y_test, y_pred))\n",
        "print(\"R2:\", r2_score(y_test, y_pred))\n",
        "print(\"MAE:\", mean_absolute_error(y_test, y_pred))"
      ],
      "metadata": {
        "colab": {
          "base_uri": "https://localhost:8080/"
        },
        "id": "Q2f2LQbsLdL3",
        "outputId": "3fa829aa-594f-418a-bbe7-384170a69683"
      },
      "execution_count": 61,
      "outputs": [
        {
          "output_type": "stream",
          "name": "stdout",
          "text": [
            "Best Parameters: {'alpha': 0.01}\n",
            "Best CV Score (neg MSE): -0.011987023412693332\n",
            "MSE: 0.011373849659228625\n",
            "R2: 0.9881316408404988\n",
            "MAE: 0.08017753567402458\n",
            "CPU times: user 1.15 s, sys: 434 ms, total: 1.58 s\n",
            "Wall time: 865 ms\n"
          ]
        }
      ]
    },
    {
      "cell_type": "code",
      "source": [
        "%%time\n",
        "from sklearn.tree import DecisionTreeRegressor\n",
        "dtr=DecisionTreeRegressor()\n",
        "dtr.fit(X_train,y_train)\n",
        "y_pred=dtr.predict(X_test)\n",
        "print(\"MSE:\",mean_squared_error(y_test,y_pred))\n",
        "print(\"R2:\",r2_score(y_test,y_pred))\n",
        "print(\"MAE:\",mean_absolute_error(y_test,y_pred))"
      ],
      "metadata": {
        "colab": {
          "base_uri": "https://localhost:8080/"
        },
        "id": "gRqHPbyCMwu9",
        "outputId": "4c4d9098-bc43-45a1-a609-36e7303e138d"
      },
      "execution_count": 62,
      "outputs": [
        {
          "output_type": "stream",
          "name": "stdout",
          "text": [
            "MSE: 0.005905938282216007\n",
            "R2: 0.9938372847534244\n",
            "MAE: 0.04441270226331579\n",
            "CPU times: user 1.55 s, sys: 635 µs, total: 1.55 s\n",
            "Wall time: 1.96 s\n"
          ]
        }
      ]
    },
    {
      "cell_type": "code",
      "source": [
        "from sklearn.ensemble import (RandomForestRegressor,\n",
        "                              ExtraTreesRegressor,\n",
        "                              GradientBoostingRegressor,\n",
        "                              AdaBoostRegressor,\n",
        "                              BaggingRegressor)\n",
        "from sklearn.svm import SVR"
      ],
      "metadata": {
        "id": "VY9ZkRDBIyIn"
      },
      "execution_count": 63,
      "outputs": []
    },
    {
      "cell_type": "code",
      "source": [
        "rfr=RandomForestRegressor()\n",
        "etr=ExtraTreesRegressor()\n",
        "gbr=GradientBoostingRegressor()\n",
        "abr=AdaBoostRegressor()\n",
        "br=BaggingRegressor()\n",
        "svr=SVR()"
      ],
      "metadata": {
        "id": "MXmmMDnKL2MG"
      },
      "execution_count": 64,
      "outputs": []
    },
    {
      "cell_type": "code",
      "source": [
        "%%time\n",
        "rfr.fit(X_train,y_train)\n",
        "y_pred=rfr.predict(X_test)\n",
        "print(\"MSE:\",mean_squared_error(y_test,y_pred))\n",
        "print(\"R2:\",r2_score(y_test,y_pred))\n",
        "print(\"MAE:\",mean_absolute_error(y_test,y_pred))"
      ],
      "metadata": {
        "colab": {
          "base_uri": "https://localhost:8080/"
        },
        "id": "S-Vb1zd2MCE5",
        "outputId": "59fb1e73-a22d-4178-e9a0-848c0c5319c8"
      },
      "execution_count": 65,
      "outputs": [
        {
          "output_type": "stream",
          "name": "stdout",
          "text": [
            "MSE: 0.002544266206843758\n",
            "R2: 0.9973451147988665\n",
            "MAE: 0.02750107234595253\n",
            "CPU times: user 1min 32s, sys: 2.43 ms, total: 1min 32s\n",
            "Wall time: 1min 44s\n"
          ]
        }
      ]
    },
    {
      "cell_type": "code",
      "source": [
        "%%time\n",
        "etr.fit(X_train,y_train)\n",
        "y_pred=etr.predict(X_test)\n",
        "print(\"MSE:\",mean_squared_error(y_test,y_pred))\n",
        "print(\"R2:\",r2_score(y_test,y_pred))\n",
        "print(\"MAE:\",mean_absolute_error(y_test,y_pred))"
      ],
      "metadata": {
        "colab": {
          "base_uri": "https://localhost:8080/"
        },
        "id": "kX8O33lCMCBg",
        "outputId": "33fd3106-f7c7-445d-e793-60285f6a6cdd"
      },
      "execution_count": 66,
      "outputs": [
        {
          "output_type": "stream",
          "name": "stdout",
          "text": [
            "MSE: 0.0013690629805542872\n",
            "R2: 0.9985714132284128\n",
            "MAE: 0.020354738149739388\n",
            "CPU times: user 22.9 s, sys: 493 ms, total: 23.4 s\n",
            "Wall time: 28.3 s\n"
          ]
        }
      ]
    },
    {
      "cell_type": "code",
      "source": [
        "%%time\n",
        "gbr.fit(X_train,y_train)\n",
        "y_pred=gbr.predict(X_test)\n",
        "print(\"MSE:\",mean_squared_error(y_test,y_pred))\n",
        "print(\"R2:\",r2_score(y_test,y_pred))\n",
        "print(\"MAE:\",mean_absolute_error(y_test,y_pred))"
      ],
      "metadata": {
        "colab": {
          "base_uri": "https://localhost:8080/"
        },
        "id": "1ssHYZPJMB-7",
        "outputId": "2babcf9b-e360-4b57-ae84-b6353da2b6f5"
      },
      "execution_count": 67,
      "outputs": [
        {
          "output_type": "stream",
          "name": "stdout",
          "text": [
            "MSE: 0.008830124587469188\n",
            "R2: 0.9907859613792068\n",
            "MAE: 0.06210887298243229\n",
            "CPU times: user 32.2 s, sys: 0 ns, total: 32.2 s\n",
            "Wall time: 36.4 s\n"
          ]
        }
      ]
    },
    {
      "cell_type": "code",
      "source": [
        "%%time\n",
        "abr.fit(X_train,y_train)\n",
        "y_pred=abr.predict(X_test)\n",
        "print(\"MSE:\",mean_squared_error(y_test,y_pred))\n",
        "print(\"R2:\",r2_score(y_test,y_pred))\n",
        "print(\"MAE:\",mean_absolute_error(y_test,y_pred))"
      ],
      "metadata": {
        "colab": {
          "base_uri": "https://localhost:8080/"
        },
        "id": "rUFJ2kYjMB8O",
        "outputId": "d1668443-f3c3-4d02-f29a-8501deec76c3"
      },
      "execution_count": 68,
      "outputs": [
        {
          "output_type": "stream",
          "name": "stdout",
          "text": [
            "MSE: 0.08415090493801004\n",
            "R2: 0.9121904022539113\n",
            "MAE: 0.2517196372392561\n",
            "CPU times: user 9.01 s, sys: 0 ns, total: 9.01 s\n",
            "Wall time: 9.24 s\n"
          ]
        }
      ]
    },
    {
      "cell_type": "code",
      "source": [
        "%%time\n",
        "br.fit(X_train,y_train)\n",
        "y_pred=br.predict(X_test)\n",
        "print(\"MSE:\",mean_squared_error(y_test,y_pred))\n",
        "print(\"R2:\",r2_score(y_test,y_pred))\n",
        "print(\"MAE:\",mean_absolute_error(y_test,y_pred))"
      ],
      "metadata": {
        "colab": {
          "base_uri": "https://localhost:8080/"
        },
        "id": "tE_WbkTwMB5g",
        "outputId": "0774ce83-48a6-40e3-b88d-09a0d95850a1"
      },
      "execution_count": 69,
      "outputs": [
        {
          "output_type": "stream",
          "name": "stdout",
          "text": [
            "MSE: 0.003061668565455831\n",
            "R2: 0.9968052169449328\n",
            "MAE: 0.03072836442694879\n",
            "CPU times: user 8.27 s, sys: 17.8 ms, total: 8.29 s\n",
            "Wall time: 8.25 s\n"
          ]
        }
      ]
    },
    {
      "cell_type": "code",
      "source": [
        "%%time\n",
        "svr.fit(X_train,y_train)\n",
        "y_pred=svr.predict(X_test)\n",
        "print(\"MSE:\",mean_squared_error(y_test,y_pred))\n",
        "print(\"R2:\",r2_score(y_test,y_pred))\n",
        "print(\"MAE:\",mean_absolute_error(y_test,y_pred))"
      ],
      "metadata": {
        "colab": {
          "base_uri": "https://localhost:8080/"
        },
        "id": "IqPpuV9KMB2b",
        "outputId": "18895d88-1f88-4908-90bf-d49600c6a3e5"
      },
      "execution_count": 70,
      "outputs": [
        {
          "output_type": "stream",
          "name": "stdout",
          "text": [
            "MSE: 0.002647349453743665\n",
            "R2: 0.9972375497233475\n",
            "MAE: 0.03570931002609123\n",
            "CPU times: user 7.02 s, sys: 352 ms, total: 7.37 s\n",
            "Wall time: 9.37 s\n"
          ]
        }
      ]
    },
    {
      "cell_type": "code",
      "source": [
        "!pip install xgboost"
      ],
      "metadata": {
        "colab": {
          "base_uri": "https://localhost:8080/"
        },
        "id": "I-uOLrmQNkv7",
        "outputId": "4f702191-6a80-46f4-a914-b1bd2ba190d5"
      },
      "execution_count": 71,
      "outputs": [
        {
          "output_type": "stream",
          "name": "stdout",
          "text": [
            "Requirement already satisfied: xgboost in /usr/local/lib/python3.10/dist-packages (2.1.3)\n",
            "Requirement already satisfied: numpy in /usr/local/lib/python3.10/dist-packages (from xgboost) (1.26.4)\n",
            "Requirement already satisfied: nvidia-nccl-cu12 in /usr/local/lib/python3.10/dist-packages (from xgboost) (2.23.4)\n",
            "Requirement already satisfied: scipy in /usr/local/lib/python3.10/dist-packages (from xgboost) (1.13.1)\n"
          ]
        }
      ]
    },
    {
      "cell_type": "code",
      "source": [
        "%%time\n",
        "from xgboost import XGBRegressor\n",
        "xgb=XGBRegressor()\n",
        "xgb.fit(X_train,y_train)\n",
        "y_pred=xgb.predict(X_test)\n",
        "print(\"MSE:\",mean_squared_error(y_test,y_pred))\n",
        "print(\"R2:\",r2_score(y_test,y_pred))\n",
        "print(\"MAE:\",mean_absolute_error(y_test,y_pred))"
      ],
      "metadata": {
        "colab": {
          "base_uri": "https://localhost:8080/"
        },
        "id": "6iWByiKdMBzy",
        "outputId": "45ca1cf6-5cc3-4107-b2f2-a835e3b44b34"
      },
      "execution_count": 72,
      "outputs": [
        {
          "output_type": "stream",
          "name": "stdout",
          "text": [
            "MSE: 0.0028515126053228865\n",
            "R2: 0.9970245100153616\n",
            "MAE: 0.032132363563860185\n",
            "CPU times: user 1.55 s, sys: 6.15 ms, total: 1.55 s\n",
            "Wall time: 914 ms\n"
          ]
        }
      ]
    },
    {
      "cell_type": "code",
      "source": [
        "!pip install lightgbm"
      ],
      "metadata": {
        "colab": {
          "base_uri": "https://localhost:8080/"
        },
        "id": "eDnS8duSMBxb",
        "outputId": "246d882e-1e8d-4e10-b28f-ddd77ddfffc5"
      },
      "execution_count": 73,
      "outputs": [
        {
          "output_type": "stream",
          "name": "stdout",
          "text": [
            "Requirement already satisfied: lightgbm in /usr/local/lib/python3.10/dist-packages (4.5.0)\n",
            "Requirement already satisfied: numpy>=1.17.0 in /usr/local/lib/python3.10/dist-packages (from lightgbm) (1.26.4)\n",
            "Requirement already satisfied: scipy in /usr/local/lib/python3.10/dist-packages (from lightgbm) (1.13.1)\n"
          ]
        }
      ]
    },
    {
      "cell_type": "code",
      "source": [
        "%%time\n",
        "from lightgbm import LGBMRegressor\n",
        "lgbm=LGBMRegressor()\n",
        "lgbm.fit(X_train, y_train)\n",
        "y_pred = lgbm.predict(X_test)\n",
        "print(\"MSE:\", mean_squared_error(y_test, y_pred))\n",
        "print(\"R2:\", r2_score(y_test, y_pred))\n",
        "print(\"MAE:\", mean_absolute_error(y_test, y_pred))"
      ],
      "metadata": {
        "colab": {
          "base_uri": "https://localhost:8080/"
        },
        "id": "GTGfmKgBMBvD",
        "outputId": "76a630de-6e18-4d7d-fc23-7e60a6eb8e6e"
      },
      "execution_count": 74,
      "outputs": [
        {
          "output_type": "stream",
          "name": "stdout",
          "text": [
            "[LightGBM] [Info] Auto-choosing col-wise multi-threading, the overhead of testing was 0.007120 seconds.\n",
            "You can set `force_col_wise=true` to remove the overhead.\n",
            "[LightGBM] [Info] Total Bins 2550\n",
            "[LightGBM] [Info] Number of data points in the train set: 43035, number of used features: 10\n",
            "[LightGBM] [Info] Start training from score 0.002963\n",
            "MSE: 0.0030867140410759273\n",
            "R2: 0.9967790825481467\n",
            "MAE: 0.036058666686819486\n",
            "CPU times: user 975 ms, sys: 2.37 ms, total: 977 ms\n",
            "Wall time: 1.03 s\n"
          ]
        }
      ]
    },
    {
      "cell_type": "code",
      "source": [
        "!pip install catboost"
      ],
      "metadata": {
        "colab": {
          "base_uri": "https://localhost:8080/"
        },
        "id": "GifEoHNlMBrp",
        "outputId": "c9b115d0-efdb-4bec-bc56-0c14d61e0102"
      },
      "execution_count": 75,
      "outputs": [
        {
          "output_type": "stream",
          "name": "stdout",
          "text": [
            "Requirement already satisfied: catboost in /usr/local/lib/python3.10/dist-packages (1.2.7)\n",
            "Requirement already satisfied: graphviz in /usr/local/lib/python3.10/dist-packages (from catboost) (0.20.3)\n",
            "Requirement already satisfied: matplotlib in /usr/local/lib/python3.10/dist-packages (from catboost) (3.8.0)\n",
            "Requirement already satisfied: numpy<2.0,>=1.16.0 in /usr/local/lib/python3.10/dist-packages (from catboost) (1.26.4)\n",
            "Requirement already satisfied: pandas>=0.24 in /usr/local/lib/python3.10/dist-packages (from catboost) (2.2.2)\n",
            "Requirement already satisfied: scipy in /usr/local/lib/python3.10/dist-packages (from catboost) (1.13.1)\n",
            "Requirement already satisfied: plotly in /usr/local/lib/python3.10/dist-packages (from catboost) (5.24.1)\n",
            "Requirement already satisfied: six in /usr/local/lib/python3.10/dist-packages (from catboost) (1.17.0)\n",
            "Requirement already satisfied: python-dateutil>=2.8.2 in /usr/local/lib/python3.10/dist-packages (from pandas>=0.24->catboost) (2.8.2)\n",
            "Requirement already satisfied: pytz>=2020.1 in /usr/local/lib/python3.10/dist-packages (from pandas>=0.24->catboost) (2024.2)\n",
            "Requirement already satisfied: tzdata>=2022.7 in /usr/local/lib/python3.10/dist-packages (from pandas>=0.24->catboost) (2024.2)\n",
            "Requirement already satisfied: contourpy>=1.0.1 in /usr/local/lib/python3.10/dist-packages (from matplotlib->catboost) (1.3.1)\n",
            "Requirement already satisfied: cycler>=0.10 in /usr/local/lib/python3.10/dist-packages (from matplotlib->catboost) (0.12.1)\n",
            "Requirement already satisfied: fonttools>=4.22.0 in /usr/local/lib/python3.10/dist-packages (from matplotlib->catboost) (4.55.3)\n",
            "Requirement already satisfied: kiwisolver>=1.0.1 in /usr/local/lib/python3.10/dist-packages (from matplotlib->catboost) (1.4.7)\n",
            "Requirement already satisfied: packaging>=20.0 in /usr/local/lib/python3.10/dist-packages (from matplotlib->catboost) (24.2)\n",
            "Requirement already satisfied: pillow>=6.2.0 in /usr/local/lib/python3.10/dist-packages (from matplotlib->catboost) (11.0.0)\n",
            "Requirement already satisfied: pyparsing>=2.3.1 in /usr/local/lib/python3.10/dist-packages (from matplotlib->catboost) (3.2.0)\n",
            "Requirement already satisfied: tenacity>=6.2.0 in /usr/local/lib/python3.10/dist-packages (from plotly->catboost) (9.0.0)\n"
          ]
        }
      ]
    },
    {
      "cell_type": "code",
      "source": [
        "%%time\n",
        "from catboost import CatBoostRegressor\n",
        "cbr=CatBoostRegressor()\n",
        "cbr.fit(X_train,y_train)\n",
        "y_pred=cbr.predict(X_test)\n",
        "print(\"MSE:\",mean_squared_error(y_test,y_pred))\n",
        "print(\"R2:\",r2_score(y_test,y_pred))\n",
        "print(\"MAE:\",mean_absolute_error(y_test,y_pred))"
      ],
      "metadata": {
        "colab": {
          "base_uri": "https://localhost:8080/"
        },
        "id": "sFmQcztAMBok",
        "outputId": "5eb1be62-1c8e-46ce-b23c-c1262e5e634d"
      },
      "execution_count": 76,
      "outputs": [
        {
          "output_type": "stream",
          "name": "stdout",
          "text": [
            "Learning rate set to 0.074186\n",
            "0:\tlearn: 0.9389736\ttotal: 12.3ms\tremaining: 12.3s\n",
            "1:\tlearn: 0.8772173\ttotal: 21.8ms\tremaining: 10.9s\n",
            "2:\tlearn: 0.8203242\ttotal: 30.6ms\tremaining: 10.2s\n",
            "3:\tlearn: 0.7674964\ttotal: 39.6ms\tremaining: 9.86s\n",
            "4:\tlearn: 0.7185947\ttotal: 48.3ms\tremaining: 9.62s\n",
            "5:\tlearn: 0.6731196\ttotal: 56.7ms\tremaining: 9.4s\n",
            "6:\tlearn: 0.6301052\ttotal: 65.4ms\tremaining: 9.28s\n",
            "7:\tlearn: 0.5910320\ttotal: 74.4ms\tremaining: 9.23s\n",
            "8:\tlearn: 0.5547045\ttotal: 83ms\tremaining: 9.14s\n",
            "9:\tlearn: 0.5205649\ttotal: 91.7ms\tremaining: 9.08s\n",
            "10:\tlearn: 0.4884920\ttotal: 100ms\tremaining: 8.99s\n",
            "11:\tlearn: 0.4586948\ttotal: 109ms\tremaining: 8.95s\n",
            "12:\tlearn: 0.4315648\ttotal: 118ms\tremaining: 8.95s\n",
            "13:\tlearn: 0.4063111\ttotal: 127ms\tremaining: 8.92s\n",
            "14:\tlearn: 0.3825861\ttotal: 135ms\tremaining: 8.85s\n",
            "15:\tlearn: 0.3609642\ttotal: 143ms\tremaining: 8.81s\n",
            "16:\tlearn: 0.3405794\ttotal: 152ms\tremaining: 8.77s\n",
            "17:\tlearn: 0.3219322\ttotal: 160ms\tremaining: 8.75s\n",
            "18:\tlearn: 0.3042958\ttotal: 169ms\tremaining: 8.72s\n",
            "19:\tlearn: 0.2879288\ttotal: 177ms\tremaining: 8.69s\n",
            "20:\tlearn: 0.2728059\ttotal: 186ms\tremaining: 8.67s\n",
            "21:\tlearn: 0.2587965\ttotal: 199ms\tremaining: 8.84s\n",
            "22:\tlearn: 0.2456773\ttotal: 208ms\tremaining: 8.82s\n",
            "23:\tlearn: 0.2333046\ttotal: 216ms\tremaining: 8.79s\n",
            "24:\tlearn: 0.2221606\ttotal: 225ms\tremaining: 8.77s\n",
            "25:\tlearn: 0.2120768\ttotal: 236ms\tremaining: 8.83s\n",
            "26:\tlearn: 0.2024695\ttotal: 244ms\tremaining: 8.81s\n",
            "27:\tlearn: 0.1937179\ttotal: 253ms\tremaining: 8.78s\n",
            "28:\tlearn: 0.1854303\ttotal: 261ms\tremaining: 8.75s\n",
            "29:\tlearn: 0.1775691\ttotal: 270ms\tremaining: 8.72s\n",
            "30:\tlearn: 0.1705476\ttotal: 278ms\tremaining: 8.69s\n",
            "31:\tlearn: 0.1635421\ttotal: 287ms\tremaining: 8.68s\n",
            "32:\tlearn: 0.1575610\ttotal: 295ms\tremaining: 8.64s\n",
            "33:\tlearn: 0.1518963\ttotal: 303ms\tremaining: 8.62s\n",
            "34:\tlearn: 0.1468731\ttotal: 329ms\tremaining: 9.07s\n",
            "35:\tlearn: 0.1417279\ttotal: 348ms\tremaining: 9.31s\n",
            "36:\tlearn: 0.1375332\ttotal: 356ms\tremaining: 9.26s\n",
            "37:\tlearn: 0.1331672\ttotal: 364ms\tremaining: 9.22s\n",
            "38:\tlearn: 0.1289717\ttotal: 373ms\tremaining: 9.18s\n",
            "39:\tlearn: 0.1252384\ttotal: 381ms\tremaining: 9.14s\n",
            "40:\tlearn: 0.1216126\ttotal: 391ms\tremaining: 9.15s\n",
            "41:\tlearn: 0.1186479\ttotal: 408ms\tremaining: 9.3s\n",
            "42:\tlearn: 0.1158627\ttotal: 417ms\tremaining: 9.28s\n",
            "43:\tlearn: 0.1132473\ttotal: 426ms\tremaining: 9.25s\n",
            "44:\tlearn: 0.1106594\ttotal: 434ms\tremaining: 9.2s\n",
            "45:\tlearn: 0.1084356\ttotal: 442ms\tremaining: 9.16s\n",
            "46:\tlearn: 0.1063012\ttotal: 450ms\tremaining: 9.12s\n",
            "47:\tlearn: 0.1042630\ttotal: 461ms\tremaining: 9.14s\n",
            "48:\tlearn: 0.1021549\ttotal: 469ms\tremaining: 9.11s\n",
            "49:\tlearn: 0.1004777\ttotal: 478ms\tremaining: 9.07s\n",
            "50:\tlearn: 0.0988160\ttotal: 486ms\tremaining: 9.05s\n",
            "51:\tlearn: 0.0973673\ttotal: 498ms\tremaining: 9.07s\n",
            "52:\tlearn: 0.0958805\ttotal: 510ms\tremaining: 9.11s\n",
            "53:\tlearn: 0.0946167\ttotal: 518ms\tremaining: 9.07s\n",
            "54:\tlearn: 0.0934238\ttotal: 526ms\tremaining: 9.04s\n",
            "55:\tlearn: 0.0922395\ttotal: 534ms\tremaining: 9s\n",
            "56:\tlearn: 0.0912914\ttotal: 541ms\tremaining: 8.96s\n",
            "57:\tlearn: 0.0903578\ttotal: 549ms\tremaining: 8.92s\n",
            "58:\tlearn: 0.0891066\ttotal: 558ms\tremaining: 8.89s\n",
            "59:\tlearn: 0.0880664\ttotal: 566ms\tremaining: 8.86s\n",
            "60:\tlearn: 0.0871610\ttotal: 574ms\tremaining: 8.83s\n",
            "61:\tlearn: 0.0863007\ttotal: 582ms\tremaining: 8.81s\n",
            "62:\tlearn: 0.0854514\ttotal: 590ms\tremaining: 8.78s\n",
            "63:\tlearn: 0.0846886\ttotal: 599ms\tremaining: 8.75s\n",
            "64:\tlearn: 0.0838523\ttotal: 611ms\tremaining: 8.79s\n",
            "65:\tlearn: 0.0832247\ttotal: 619ms\tremaining: 8.76s\n",
            "66:\tlearn: 0.0826806\ttotal: 627ms\tremaining: 8.73s\n",
            "67:\tlearn: 0.0820634\ttotal: 635ms\tremaining: 8.7s\n",
            "68:\tlearn: 0.0813694\ttotal: 643ms\tremaining: 8.67s\n",
            "69:\tlearn: 0.0806357\ttotal: 651ms\tremaining: 8.65s\n",
            "70:\tlearn: 0.0800380\ttotal: 660ms\tremaining: 8.63s\n",
            "71:\tlearn: 0.0794028\ttotal: 668ms\tremaining: 8.61s\n",
            "72:\tlearn: 0.0789056\ttotal: 676ms\tremaining: 8.59s\n",
            "73:\tlearn: 0.0784645\ttotal: 684ms\tremaining: 8.56s\n",
            "74:\tlearn: 0.0780938\ttotal: 692ms\tremaining: 8.53s\n",
            "75:\tlearn: 0.0774974\ttotal: 701ms\tremaining: 8.52s\n",
            "76:\tlearn: 0.0769399\ttotal: 711ms\tremaining: 8.53s\n",
            "77:\tlearn: 0.0764356\ttotal: 720ms\tremaining: 8.51s\n",
            "78:\tlearn: 0.0757921\ttotal: 729ms\tremaining: 8.49s\n",
            "79:\tlearn: 0.0753142\ttotal: 737ms\tremaining: 8.47s\n",
            "80:\tlearn: 0.0749794\ttotal: 744ms\tremaining: 8.45s\n",
            "81:\tlearn: 0.0746908\ttotal: 752ms\tremaining: 8.42s\n",
            "82:\tlearn: 0.0742813\ttotal: 761ms\tremaining: 8.4s\n",
            "83:\tlearn: 0.0740005\ttotal: 768ms\tremaining: 8.37s\n",
            "84:\tlearn: 0.0735145\ttotal: 776ms\tremaining: 8.36s\n",
            "85:\tlearn: 0.0730563\ttotal: 785ms\tremaining: 8.34s\n",
            "86:\tlearn: 0.0727852\ttotal: 794ms\tremaining: 8.33s\n",
            "87:\tlearn: 0.0724177\ttotal: 811ms\tremaining: 8.41s\n",
            "88:\tlearn: 0.0721865\ttotal: 827ms\tremaining: 8.46s\n",
            "89:\tlearn: 0.0719336\ttotal: 844ms\tremaining: 8.53s\n",
            "90:\tlearn: 0.0712401\ttotal: 852ms\tremaining: 8.51s\n",
            "91:\tlearn: 0.0709323\ttotal: 860ms\tremaining: 8.49s\n",
            "92:\tlearn: 0.0704442\ttotal: 869ms\tremaining: 8.47s\n",
            "93:\tlearn: 0.0701478\ttotal: 877ms\tremaining: 8.45s\n",
            "94:\tlearn: 0.0697602\ttotal: 889ms\tremaining: 8.46s\n",
            "95:\tlearn: 0.0693837\ttotal: 900ms\tremaining: 8.47s\n",
            "96:\tlearn: 0.0690943\ttotal: 910ms\tremaining: 8.47s\n",
            "97:\tlearn: 0.0688761\ttotal: 921ms\tremaining: 8.47s\n",
            "98:\tlearn: 0.0684793\ttotal: 930ms\tremaining: 8.46s\n",
            "99:\tlearn: 0.0682137\ttotal: 942ms\tremaining: 8.48s\n",
            "100:\tlearn: 0.0678526\ttotal: 950ms\tremaining: 8.46s\n",
            "101:\tlearn: 0.0675974\ttotal: 958ms\tremaining: 8.44s\n",
            "102:\tlearn: 0.0673597\ttotal: 966ms\tremaining: 8.41s\n",
            "103:\tlearn: 0.0669519\ttotal: 975ms\tremaining: 8.4s\n",
            "104:\tlearn: 0.0667511\ttotal: 983ms\tremaining: 8.38s\n",
            "105:\tlearn: 0.0665649\ttotal: 991ms\tremaining: 8.36s\n",
            "106:\tlearn: 0.0662509\ttotal: 1s\tremaining: 8.35s\n",
            "107:\tlearn: 0.0660141\ttotal: 1.01s\tremaining: 8.34s\n",
            "108:\tlearn: 0.0657616\ttotal: 1.02s\tremaining: 8.33s\n",
            "109:\tlearn: 0.0653730\ttotal: 1.03s\tremaining: 8.31s\n",
            "110:\tlearn: 0.0650743\ttotal: 1.03s\tremaining: 8.29s\n",
            "111:\tlearn: 0.0647827\ttotal: 1.04s\tremaining: 8.28s\n",
            "112:\tlearn: 0.0645101\ttotal: 1.05s\tremaining: 8.26s\n",
            "113:\tlearn: 0.0642168\ttotal: 1.07s\tremaining: 8.29s\n",
            "114:\tlearn: 0.0639679\ttotal: 1.07s\tremaining: 8.27s\n",
            "115:\tlearn: 0.0635852\ttotal: 1.08s\tremaining: 8.25s\n",
            "116:\tlearn: 0.0632889\ttotal: 1.09s\tremaining: 8.23s\n",
            "117:\tlearn: 0.0630766\ttotal: 1.1s\tremaining: 8.21s\n",
            "118:\tlearn: 0.0629101\ttotal: 1.11s\tremaining: 8.19s\n",
            "119:\tlearn: 0.0626827\ttotal: 1.12s\tremaining: 8.22s\n",
            "120:\tlearn: 0.0625618\ttotal: 1.13s\tremaining: 8.2s\n",
            "121:\tlearn: 0.0623775\ttotal: 1.14s\tremaining: 8.18s\n",
            "122:\tlearn: 0.0621075\ttotal: 1.15s\tremaining: 8.16s\n",
            "123:\tlearn: 0.0618338\ttotal: 1.15s\tremaining: 8.15s\n",
            "124:\tlearn: 0.0615973\ttotal: 1.16s\tremaining: 8.13s\n",
            "125:\tlearn: 0.0612518\ttotal: 1.17s\tremaining: 8.12s\n",
            "126:\tlearn: 0.0610095\ttotal: 1.18s\tremaining: 8.1s\n",
            "127:\tlearn: 0.0606406\ttotal: 1.19s\tremaining: 8.09s\n",
            "128:\tlearn: 0.0605072\ttotal: 1.2s\tremaining: 8.07s\n",
            "129:\tlearn: 0.0602698\ttotal: 1.2s\tremaining: 8.06s\n",
            "130:\tlearn: 0.0600870\ttotal: 1.21s\tremaining: 8.05s\n",
            "131:\tlearn: 0.0598179\ttotal: 1.22s\tremaining: 8.04s\n",
            "132:\tlearn: 0.0597117\ttotal: 1.23s\tremaining: 8.02s\n",
            "133:\tlearn: 0.0594825\ttotal: 1.24s\tremaining: 8s\n",
            "134:\tlearn: 0.0593207\ttotal: 1.25s\tremaining: 7.99s\n",
            "135:\tlearn: 0.0591029\ttotal: 1.25s\tremaining: 7.97s\n",
            "136:\tlearn: 0.0589113\ttotal: 1.26s\tremaining: 7.95s\n",
            "137:\tlearn: 0.0587805\ttotal: 1.27s\tremaining: 7.93s\n",
            "138:\tlearn: 0.0585588\ttotal: 1.28s\tremaining: 7.92s\n",
            "139:\tlearn: 0.0584350\ttotal: 1.29s\tremaining: 7.91s\n",
            "140:\tlearn: 0.0583009\ttotal: 1.3s\tremaining: 7.9s\n",
            "141:\tlearn: 0.0580421\ttotal: 1.3s\tremaining: 7.89s\n",
            "142:\tlearn: 0.0578659\ttotal: 1.31s\tremaining: 7.87s\n",
            "143:\tlearn: 0.0576806\ttotal: 1.32s\tremaining: 7.86s\n",
            "144:\tlearn: 0.0575548\ttotal: 1.33s\tremaining: 7.85s\n",
            "145:\tlearn: 0.0573991\ttotal: 1.34s\tremaining: 7.84s\n",
            "146:\tlearn: 0.0572844\ttotal: 1.35s\tremaining: 7.82s\n",
            "147:\tlearn: 0.0570279\ttotal: 1.36s\tremaining: 7.81s\n",
            "148:\tlearn: 0.0568174\ttotal: 1.37s\tremaining: 7.81s\n",
            "149:\tlearn: 0.0566784\ttotal: 1.38s\tremaining: 7.8s\n",
            "150:\tlearn: 0.0564986\ttotal: 1.38s\tremaining: 7.78s\n",
            "151:\tlearn: 0.0563839\ttotal: 1.39s\tremaining: 7.76s\n",
            "152:\tlearn: 0.0562419\ttotal: 1.4s\tremaining: 7.75s\n",
            "153:\tlearn: 0.0561190\ttotal: 1.41s\tremaining: 7.75s\n",
            "154:\tlearn: 0.0559441\ttotal: 1.42s\tremaining: 7.73s\n",
            "155:\tlearn: 0.0557377\ttotal: 1.43s\tremaining: 7.72s\n",
            "156:\tlearn: 0.0555861\ttotal: 1.44s\tremaining: 7.71s\n",
            "157:\tlearn: 0.0554227\ttotal: 1.44s\tremaining: 7.7s\n",
            "158:\tlearn: 0.0552500\ttotal: 1.45s\tremaining: 7.68s\n",
            "159:\tlearn: 0.0551190\ttotal: 1.46s\tremaining: 7.67s\n",
            "160:\tlearn: 0.0549938\ttotal: 1.47s\tremaining: 7.66s\n",
            "161:\tlearn: 0.0548092\ttotal: 1.48s\tremaining: 7.64s\n",
            "162:\tlearn: 0.0547110\ttotal: 1.49s\tremaining: 7.63s\n",
            "163:\tlearn: 0.0545615\ttotal: 1.5s\tremaining: 7.66s\n",
            "164:\tlearn: 0.0544183\ttotal: 1.51s\tremaining: 7.65s\n",
            "165:\tlearn: 0.0542716\ttotal: 1.52s\tremaining: 7.64s\n",
            "166:\tlearn: 0.0541186\ttotal: 1.53s\tremaining: 7.63s\n",
            "167:\tlearn: 0.0539402\ttotal: 1.54s\tremaining: 7.62s\n",
            "168:\tlearn: 0.0537794\ttotal: 1.55s\tremaining: 7.6s\n",
            "169:\tlearn: 0.0536540\ttotal: 1.55s\tremaining: 7.59s\n",
            "170:\tlearn: 0.0534616\ttotal: 1.56s\tremaining: 7.58s\n",
            "171:\tlearn: 0.0533366\ttotal: 1.57s\tremaining: 7.56s\n",
            "172:\tlearn: 0.0532189\ttotal: 1.58s\tremaining: 7.55s\n",
            "173:\tlearn: 0.0531328\ttotal: 1.59s\tremaining: 7.54s\n",
            "174:\tlearn: 0.0527824\ttotal: 1.6s\tremaining: 7.53s\n",
            "175:\tlearn: 0.0525960\ttotal: 1.61s\tremaining: 7.52s\n",
            "176:\tlearn: 0.0525153\ttotal: 1.62s\tremaining: 7.52s\n",
            "177:\tlearn: 0.0524118\ttotal: 1.62s\tremaining: 7.5s\n",
            "178:\tlearn: 0.0522967\ttotal: 1.63s\tremaining: 7.49s\n",
            "179:\tlearn: 0.0521999\ttotal: 1.64s\tremaining: 7.48s\n",
            "180:\tlearn: 0.0520912\ttotal: 1.65s\tremaining: 7.47s\n",
            "181:\tlearn: 0.0517797\ttotal: 1.67s\tremaining: 7.49s\n",
            "182:\tlearn: 0.0516296\ttotal: 1.69s\tremaining: 7.53s\n",
            "183:\tlearn: 0.0515258\ttotal: 1.7s\tremaining: 7.52s\n",
            "184:\tlearn: 0.0514402\ttotal: 1.71s\tremaining: 7.54s\n",
            "185:\tlearn: 0.0513147\ttotal: 1.73s\tremaining: 7.56s\n",
            "186:\tlearn: 0.0511754\ttotal: 1.75s\tremaining: 7.62s\n",
            "187:\tlearn: 0.0510140\ttotal: 1.76s\tremaining: 7.62s\n",
            "188:\tlearn: 0.0508715\ttotal: 1.77s\tremaining: 7.61s\n",
            "189:\tlearn: 0.0507361\ttotal: 1.78s\tremaining: 7.6s\n",
            "190:\tlearn: 0.0506436\ttotal: 1.79s\tremaining: 7.6s\n",
            "191:\tlearn: 0.0505001\ttotal: 1.8s\tremaining: 7.59s\n",
            "192:\tlearn: 0.0503373\ttotal: 1.82s\tremaining: 7.63s\n",
            "193:\tlearn: 0.0501962\ttotal: 1.84s\tremaining: 7.65s\n",
            "194:\tlearn: 0.0500102\ttotal: 1.86s\tremaining: 7.69s\n",
            "195:\tlearn: 0.0499281\ttotal: 1.88s\tremaining: 7.71s\n",
            "196:\tlearn: 0.0498153\ttotal: 1.9s\tremaining: 7.76s\n",
            "197:\tlearn: 0.0497315\ttotal: 1.92s\tremaining: 7.79s\n",
            "198:\tlearn: 0.0496126\ttotal: 1.95s\tremaining: 7.84s\n",
            "199:\tlearn: 0.0495273\ttotal: 1.97s\tremaining: 7.89s\n",
            "200:\tlearn: 0.0494561\ttotal: 2s\tremaining: 7.94s\n",
            "201:\tlearn: 0.0493439\ttotal: 2.03s\tremaining: 8.01s\n",
            "202:\tlearn: 0.0492265\ttotal: 2.05s\tremaining: 8.05s\n",
            "203:\tlearn: 0.0491083\ttotal: 2.06s\tremaining: 8.05s\n",
            "204:\tlearn: 0.0490050\ttotal: 2.07s\tremaining: 8.04s\n",
            "205:\tlearn: 0.0489185\ttotal: 2.08s\tremaining: 8.03s\n",
            "206:\tlearn: 0.0487870\ttotal: 2.09s\tremaining: 8.02s\n",
            "207:\tlearn: 0.0487134\ttotal: 2.1s\tremaining: 8.01s\n",
            "208:\tlearn: 0.0486101\ttotal: 2.12s\tremaining: 8s\n",
            "209:\tlearn: 0.0484530\ttotal: 2.13s\tremaining: 7.99s\n",
            "210:\tlearn: 0.0483677\ttotal: 2.14s\tremaining: 7.99s\n",
            "211:\tlearn: 0.0482859\ttotal: 2.15s\tremaining: 7.98s\n",
            "212:\tlearn: 0.0482130\ttotal: 2.16s\tremaining: 7.99s\n",
            "213:\tlearn: 0.0480334\ttotal: 2.17s\tremaining: 7.98s\n",
            "214:\tlearn: 0.0479545\ttotal: 2.18s\tremaining: 7.96s\n",
            "215:\tlearn: 0.0478456\ttotal: 2.19s\tremaining: 7.95s\n",
            "216:\tlearn: 0.0477286\ttotal: 2.2s\tremaining: 7.93s\n",
            "217:\tlearn: 0.0476325\ttotal: 2.21s\tremaining: 7.92s\n",
            "218:\tlearn: 0.0475458\ttotal: 2.21s\tremaining: 7.9s\n",
            "219:\tlearn: 0.0474813\ttotal: 2.23s\tremaining: 7.89s\n",
            "220:\tlearn: 0.0474085\ttotal: 2.23s\tremaining: 7.88s\n",
            "221:\tlearn: 0.0473321\ttotal: 2.24s\tremaining: 7.87s\n",
            "222:\tlearn: 0.0472552\ttotal: 2.25s\tremaining: 7.85s\n",
            "223:\tlearn: 0.0471234\ttotal: 2.26s\tremaining: 7.83s\n",
            "224:\tlearn: 0.0470302\ttotal: 2.27s\tremaining: 7.82s\n",
            "225:\tlearn: 0.0469643\ttotal: 2.29s\tremaining: 7.85s\n",
            "226:\tlearn: 0.0469099\ttotal: 2.31s\tremaining: 7.88s\n",
            "227:\tlearn: 0.0467595\ttotal: 2.34s\tremaining: 7.92s\n",
            "228:\tlearn: 0.0466710\ttotal: 2.36s\tremaining: 7.95s\n",
            "229:\tlearn: 0.0465877\ttotal: 2.38s\tremaining: 7.98s\n",
            "230:\tlearn: 0.0464911\ttotal: 2.41s\tremaining: 8.02s\n",
            "231:\tlearn: 0.0463994\ttotal: 2.43s\tremaining: 8.05s\n",
            "232:\tlearn: 0.0463060\ttotal: 2.46s\tremaining: 8.09s\n",
            "233:\tlearn: 0.0462179\ttotal: 2.48s\tremaining: 8.12s\n",
            "234:\tlearn: 0.0461484\ttotal: 2.5s\tremaining: 8.15s\n",
            "235:\tlearn: 0.0460949\ttotal: 2.53s\tremaining: 8.18s\n",
            "236:\tlearn: 0.0460120\ttotal: 2.55s\tremaining: 8.21s\n",
            "237:\tlearn: 0.0458596\ttotal: 2.57s\tremaining: 8.23s\n",
            "238:\tlearn: 0.0457852\ttotal: 2.58s\tremaining: 8.22s\n",
            "239:\tlearn: 0.0456324\ttotal: 2.59s\tremaining: 8.21s\n",
            "240:\tlearn: 0.0455681\ttotal: 2.6s\tremaining: 8.21s\n",
            "241:\tlearn: 0.0455062\ttotal: 2.63s\tremaining: 8.24s\n",
            "242:\tlearn: 0.0454387\ttotal: 2.65s\tremaining: 8.26s\n",
            "243:\tlearn: 0.0453818\ttotal: 2.67s\tremaining: 8.27s\n",
            "244:\tlearn: 0.0453155\ttotal: 2.68s\tremaining: 8.25s\n",
            "245:\tlearn: 0.0452117\ttotal: 2.69s\tremaining: 8.23s\n",
            "246:\tlearn: 0.0451538\ttotal: 2.69s\tremaining: 8.21s\n",
            "247:\tlearn: 0.0450501\ttotal: 2.7s\tremaining: 8.19s\n",
            "248:\tlearn: 0.0450055\ttotal: 2.71s\tremaining: 8.17s\n",
            "249:\tlearn: 0.0449205\ttotal: 2.72s\tremaining: 8.15s\n",
            "250:\tlearn: 0.0448669\ttotal: 2.73s\tremaining: 8.13s\n",
            "251:\tlearn: 0.0448180\ttotal: 2.73s\tremaining: 8.12s\n",
            "252:\tlearn: 0.0447572\ttotal: 2.74s\tremaining: 8.1s\n",
            "253:\tlearn: 0.0446861\ttotal: 2.75s\tremaining: 8.08s\n",
            "254:\tlearn: 0.0446063\ttotal: 2.76s\tremaining: 8.07s\n",
            "255:\tlearn: 0.0445559\ttotal: 2.77s\tremaining: 8.05s\n",
            "256:\tlearn: 0.0444385\ttotal: 2.78s\tremaining: 8.04s\n",
            "257:\tlearn: 0.0443585\ttotal: 2.79s\tremaining: 8.02s\n",
            "258:\tlearn: 0.0443010\ttotal: 2.8s\tremaining: 8s\n",
            "259:\tlearn: 0.0442252\ttotal: 2.81s\tremaining: 7.99s\n",
            "260:\tlearn: 0.0441847\ttotal: 2.82s\tremaining: 7.98s\n",
            "261:\tlearn: 0.0441162\ttotal: 2.83s\tremaining: 7.97s\n",
            "262:\tlearn: 0.0440650\ttotal: 2.84s\tremaining: 7.95s\n",
            "263:\tlearn: 0.0440095\ttotal: 2.85s\tremaining: 7.95s\n",
            "264:\tlearn: 0.0439505\ttotal: 2.88s\tremaining: 7.99s\n",
            "265:\tlearn: 0.0438667\ttotal: 2.9s\tremaining: 8.01s\n",
            "266:\tlearn: 0.0437980\ttotal: 2.94s\tremaining: 8.07s\n",
            "267:\tlearn: 0.0437049\ttotal: 2.96s\tremaining: 8.1s\n",
            "268:\tlearn: 0.0436299\ttotal: 2.99s\tremaining: 8.12s\n",
            "269:\tlearn: 0.0435909\ttotal: 3.01s\tremaining: 8.13s\n",
            "270:\tlearn: 0.0435465\ttotal: 3.03s\tremaining: 8.16s\n",
            "271:\tlearn: 0.0434782\ttotal: 3.05s\tremaining: 8.17s\n",
            "272:\tlearn: 0.0434202\ttotal: 3.08s\tremaining: 8.19s\n",
            "273:\tlearn: 0.0433735\ttotal: 3.09s\tremaining: 8.19s\n",
            "274:\tlearn: 0.0433085\ttotal: 3.1s\tremaining: 8.17s\n",
            "275:\tlearn: 0.0432628\ttotal: 3.11s\tremaining: 8.17s\n",
            "276:\tlearn: 0.0432043\ttotal: 3.14s\tremaining: 8.2s\n",
            "277:\tlearn: 0.0431007\ttotal: 3.17s\tremaining: 8.22s\n",
            "278:\tlearn: 0.0430602\ttotal: 3.2s\tremaining: 8.27s\n",
            "279:\tlearn: 0.0430189\ttotal: 3.22s\tremaining: 8.29s\n",
            "280:\tlearn: 0.0429208\ttotal: 3.25s\tremaining: 8.3s\n",
            "281:\tlearn: 0.0428671\ttotal: 3.27s\tremaining: 8.32s\n",
            "282:\tlearn: 0.0427621\ttotal: 3.29s\tremaining: 8.34s\n",
            "283:\tlearn: 0.0426890\ttotal: 3.32s\tremaining: 8.37s\n",
            "284:\tlearn: 0.0426146\ttotal: 3.34s\tremaining: 8.38s\n",
            "285:\tlearn: 0.0425743\ttotal: 3.36s\tremaining: 8.4s\n",
            "286:\tlearn: 0.0425329\ttotal: 3.39s\tremaining: 8.41s\n",
            "287:\tlearn: 0.0424825\ttotal: 3.41s\tremaining: 8.43s\n",
            "288:\tlearn: 0.0423968\ttotal: 3.43s\tremaining: 8.45s\n",
            "289:\tlearn: 0.0423176\ttotal: 3.46s\tremaining: 8.47s\n",
            "290:\tlearn: 0.0422309\ttotal: 3.48s\tremaining: 8.49s\n",
            "291:\tlearn: 0.0421809\ttotal: 3.51s\tremaining: 8.51s\n",
            "292:\tlearn: 0.0421327\ttotal: 3.54s\tremaining: 8.55s\n",
            "293:\tlearn: 0.0420783\ttotal: 3.57s\tremaining: 8.58s\n",
            "294:\tlearn: 0.0420137\ttotal: 3.6s\tremaining: 8.59s\n",
            "295:\tlearn: 0.0419644\ttotal: 3.63s\tremaining: 8.63s\n",
            "296:\tlearn: 0.0419154\ttotal: 3.66s\tremaining: 8.66s\n",
            "297:\tlearn: 0.0418776\ttotal: 3.7s\tremaining: 8.71s\n",
            "298:\tlearn: 0.0418128\ttotal: 3.72s\tremaining: 8.72s\n",
            "299:\tlearn: 0.0417449\ttotal: 3.74s\tremaining: 8.73s\n",
            "300:\tlearn: 0.0416744\ttotal: 3.76s\tremaining: 8.73s\n",
            "301:\tlearn: 0.0416152\ttotal: 3.78s\tremaining: 8.75s\n",
            "302:\tlearn: 0.0415604\ttotal: 3.81s\tremaining: 8.76s\n",
            "303:\tlearn: 0.0415231\ttotal: 3.83s\tremaining: 8.78s\n",
            "304:\tlearn: 0.0414771\ttotal: 3.86s\tremaining: 8.8s\n",
            "305:\tlearn: 0.0414149\ttotal: 3.88s\tremaining: 8.81s\n",
            "306:\tlearn: 0.0413597\ttotal: 3.9s\tremaining: 8.82s\n",
            "307:\tlearn: 0.0412881\ttotal: 3.92s\tremaining: 8.8s\n",
            "308:\tlearn: 0.0412269\ttotal: 3.94s\tremaining: 8.82s\n",
            "309:\tlearn: 0.0411541\ttotal: 3.97s\tremaining: 8.83s\n",
            "310:\tlearn: 0.0411126\ttotal: 3.99s\tremaining: 8.84s\n",
            "311:\tlearn: 0.0410638\ttotal: 4.02s\tremaining: 8.87s\n",
            "312:\tlearn: 0.0409748\ttotal: 4.04s\tremaining: 8.88s\n",
            "313:\tlearn: 0.0409148\ttotal: 4.07s\tremaining: 8.9s\n",
            "314:\tlearn: 0.0408534\ttotal: 4.1s\tremaining: 8.91s\n",
            "315:\tlearn: 0.0407881\ttotal: 4.13s\tremaining: 8.94s\n",
            "316:\tlearn: 0.0407203\ttotal: 4.16s\tremaining: 8.96s\n",
            "317:\tlearn: 0.0406837\ttotal: 4.19s\tremaining: 8.99s\n",
            "318:\tlearn: 0.0406162\ttotal: 4.22s\tremaining: 9.01s\n",
            "319:\tlearn: 0.0405561\ttotal: 4.26s\tremaining: 9.06s\n",
            "320:\tlearn: 0.0405043\ttotal: 4.28s\tremaining: 9.06s\n",
            "321:\tlearn: 0.0404717\ttotal: 4.31s\tremaining: 9.07s\n",
            "322:\tlearn: 0.0404130\ttotal: 4.33s\tremaining: 9.07s\n",
            "323:\tlearn: 0.0403819\ttotal: 4.34s\tremaining: 9.06s\n",
            "324:\tlearn: 0.0403319\ttotal: 4.35s\tremaining: 9.04s\n",
            "325:\tlearn: 0.0402838\ttotal: 4.37s\tremaining: 9.04s\n",
            "326:\tlearn: 0.0402409\ttotal: 4.38s\tremaining: 9.02s\n",
            "327:\tlearn: 0.0401928\ttotal: 4.39s\tremaining: 9s\n",
            "328:\tlearn: 0.0401218\ttotal: 4.4s\tremaining: 8.98s\n",
            "329:\tlearn: 0.0400646\ttotal: 4.41s\tremaining: 8.96s\n",
            "330:\tlearn: 0.0400061\ttotal: 4.42s\tremaining: 8.94s\n",
            "331:\tlearn: 0.0399732\ttotal: 4.43s\tremaining: 8.92s\n",
            "332:\tlearn: 0.0399199\ttotal: 4.44s\tremaining: 8.9s\n",
            "333:\tlearn: 0.0398790\ttotal: 4.46s\tremaining: 8.9s\n",
            "334:\tlearn: 0.0398170\ttotal: 4.5s\tremaining: 8.94s\n",
            "335:\tlearn: 0.0397805\ttotal: 4.54s\tremaining: 8.97s\n",
            "336:\tlearn: 0.0397319\ttotal: 4.56s\tremaining: 8.98s\n",
            "337:\tlearn: 0.0396688\ttotal: 4.58s\tremaining: 8.98s\n",
            "338:\tlearn: 0.0396473\ttotal: 4.61s\tremaining: 8.98s\n",
            "339:\tlearn: 0.0396081\ttotal: 4.63s\tremaining: 8.99s\n",
            "340:\tlearn: 0.0395648\ttotal: 4.66s\tremaining: 9s\n",
            "341:\tlearn: 0.0395280\ttotal: 4.68s\tremaining: 9s\n",
            "342:\tlearn: 0.0394739\ttotal: 4.71s\tremaining: 9.01s\n",
            "343:\tlearn: 0.0394133\ttotal: 4.73s\tremaining: 9.03s\n",
            "344:\tlearn: 0.0393652\ttotal: 4.76s\tremaining: 9.04s\n",
            "345:\tlearn: 0.0392964\ttotal: 4.78s\tremaining: 9.04s\n",
            "346:\tlearn: 0.0392428\ttotal: 4.81s\tremaining: 9.05s\n",
            "347:\tlearn: 0.0391973\ttotal: 4.85s\tremaining: 9.09s\n",
            "348:\tlearn: 0.0391561\ttotal: 4.87s\tremaining: 9.08s\n",
            "349:\tlearn: 0.0391072\ttotal: 4.89s\tremaining: 9.09s\n",
            "350:\tlearn: 0.0390575\ttotal: 4.92s\tremaining: 9.09s\n",
            "351:\tlearn: 0.0390178\ttotal: 4.94s\tremaining: 9.09s\n",
            "352:\tlearn: 0.0389863\ttotal: 4.96s\tremaining: 9.1s\n",
            "353:\tlearn: 0.0389085\ttotal: 4.99s\tremaining: 9.1s\n",
            "354:\tlearn: 0.0388576\ttotal: 5.01s\tremaining: 9.11s\n",
            "355:\tlearn: 0.0388084\ttotal: 5.04s\tremaining: 9.11s\n",
            "356:\tlearn: 0.0387546\ttotal: 5.06s\tremaining: 9.12s\n",
            "357:\tlearn: 0.0387159\ttotal: 5.09s\tremaining: 9.13s\n",
            "358:\tlearn: 0.0386721\ttotal: 5.12s\tremaining: 9.13s\n",
            "359:\tlearn: 0.0386135\ttotal: 5.15s\tremaining: 9.15s\n",
            "360:\tlearn: 0.0385730\ttotal: 5.17s\tremaining: 9.16s\n",
            "361:\tlearn: 0.0385328\ttotal: 5.19s\tremaining: 9.15s\n",
            "362:\tlearn: 0.0384751\ttotal: 5.21s\tremaining: 9.15s\n",
            "363:\tlearn: 0.0384085\ttotal: 5.24s\tremaining: 9.15s\n",
            "364:\tlearn: 0.0383705\ttotal: 5.25s\tremaining: 9.13s\n",
            "365:\tlearn: 0.0383184\ttotal: 5.26s\tremaining: 9.11s\n",
            "366:\tlearn: 0.0382866\ttotal: 5.27s\tremaining: 9.09s\n",
            "367:\tlearn: 0.0382578\ttotal: 5.28s\tremaining: 9.07s\n",
            "368:\tlearn: 0.0381997\ttotal: 5.29s\tremaining: 9.05s\n",
            "369:\tlearn: 0.0381402\ttotal: 5.3s\tremaining: 9.03s\n",
            "370:\tlearn: 0.0381029\ttotal: 5.33s\tremaining: 9.04s\n",
            "371:\tlearn: 0.0380588\ttotal: 5.35s\tremaining: 9.03s\n",
            "372:\tlearn: 0.0380279\ttotal: 5.37s\tremaining: 9.02s\n",
            "373:\tlearn: 0.0380000\ttotal: 5.39s\tremaining: 9.02s\n",
            "374:\tlearn: 0.0379571\ttotal: 5.4s\tremaining: 9.01s\n",
            "375:\tlearn: 0.0379032\ttotal: 5.43s\tremaining: 9.01s\n",
            "376:\tlearn: 0.0378601\ttotal: 5.46s\tremaining: 9.02s\n",
            "377:\tlearn: 0.0378174\ttotal: 5.49s\tremaining: 9.03s\n",
            "378:\tlearn: 0.0377819\ttotal: 5.52s\tremaining: 9.04s\n",
            "379:\tlearn: 0.0377509\ttotal: 5.53s\tremaining: 9.03s\n",
            "380:\tlearn: 0.0377087\ttotal: 5.55s\tremaining: 9.02s\n",
            "381:\tlearn: 0.0376852\ttotal: 5.57s\tremaining: 9.01s\n",
            "382:\tlearn: 0.0376354\ttotal: 5.59s\tremaining: 9s\n",
            "383:\tlearn: 0.0376065\ttotal: 5.61s\tremaining: 9s\n",
            "384:\tlearn: 0.0375503\ttotal: 5.64s\tremaining: 9.01s\n",
            "385:\tlearn: 0.0374900\ttotal: 5.68s\tremaining: 9.03s\n",
            "386:\tlearn: 0.0374565\ttotal: 5.72s\tremaining: 9.06s\n",
            "387:\tlearn: 0.0374179\ttotal: 5.78s\tremaining: 9.11s\n",
            "388:\tlearn: 0.0373640\ttotal: 5.83s\tremaining: 9.16s\n",
            "389:\tlearn: 0.0372883\ttotal: 5.9s\tremaining: 9.23s\n",
            "390:\tlearn: 0.0372583\ttotal: 5.94s\tremaining: 9.26s\n",
            "391:\tlearn: 0.0372195\ttotal: 5.96s\tremaining: 9.24s\n",
            "392:\tlearn: 0.0371936\ttotal: 5.98s\tremaining: 9.23s\n",
            "393:\tlearn: 0.0371555\ttotal: 6.03s\tremaining: 9.28s\n",
            "394:\tlearn: 0.0371322\ttotal: 6.08s\tremaining: 9.31s\n",
            "395:\tlearn: 0.0370893\ttotal: 6.11s\tremaining: 9.32s\n",
            "396:\tlearn: 0.0370647\ttotal: 6.15s\tremaining: 9.35s\n",
            "397:\tlearn: 0.0370258\ttotal: 6.19s\tremaining: 9.36s\n",
            "398:\tlearn: 0.0369927\ttotal: 6.22s\tremaining: 9.37s\n",
            "399:\tlearn: 0.0369467\ttotal: 6.26s\tremaining: 9.38s\n",
            "400:\tlearn: 0.0369101\ttotal: 6.3s\tremaining: 9.41s\n",
            "401:\tlearn: 0.0368782\ttotal: 6.35s\tremaining: 9.45s\n",
            "402:\tlearn: 0.0368405\ttotal: 6.38s\tremaining: 9.45s\n",
            "403:\tlearn: 0.0368213\ttotal: 6.4s\tremaining: 9.44s\n",
            "404:\tlearn: 0.0367976\ttotal: 6.42s\tremaining: 9.43s\n",
            "405:\tlearn: 0.0367653\ttotal: 6.44s\tremaining: 9.42s\n",
            "406:\tlearn: 0.0367344\ttotal: 6.46s\tremaining: 9.41s\n",
            "407:\tlearn: 0.0366801\ttotal: 6.48s\tremaining: 9.41s\n",
            "408:\tlearn: 0.0366324\ttotal: 6.5s\tremaining: 9.4s\n",
            "409:\tlearn: 0.0366076\ttotal: 6.53s\tremaining: 9.39s\n",
            "410:\tlearn: 0.0365792\ttotal: 6.56s\tremaining: 9.4s\n",
            "411:\tlearn: 0.0365422\ttotal: 6.58s\tremaining: 9.39s\n",
            "412:\tlearn: 0.0365098\ttotal: 6.63s\tremaining: 9.42s\n",
            "413:\tlearn: 0.0364747\ttotal: 6.65s\tremaining: 9.41s\n",
            "414:\tlearn: 0.0364535\ttotal: 6.68s\tremaining: 9.41s\n",
            "415:\tlearn: 0.0364160\ttotal: 6.7s\tremaining: 9.4s\n",
            "416:\tlearn: 0.0363827\ttotal: 6.74s\tremaining: 9.42s\n",
            "417:\tlearn: 0.0363661\ttotal: 6.75s\tremaining: 9.4s\n",
            "418:\tlearn: 0.0363265\ttotal: 6.82s\tremaining: 9.46s\n",
            "419:\tlearn: 0.0362881\ttotal: 6.86s\tremaining: 9.48s\n",
            "420:\tlearn: 0.0362676\ttotal: 6.91s\tremaining: 9.5s\n",
            "421:\tlearn: 0.0362273\ttotal: 6.95s\tremaining: 9.52s\n",
            "422:\tlearn: 0.0361804\ttotal: 7s\tremaining: 9.56s\n",
            "423:\tlearn: 0.0361434\ttotal: 7.05s\tremaining: 9.57s\n",
            "424:\tlearn: 0.0361044\ttotal: 7.06s\tremaining: 9.55s\n",
            "425:\tlearn: 0.0360714\ttotal: 7.08s\tremaining: 9.54s\n",
            "426:\tlearn: 0.0360294\ttotal: 7.1s\tremaining: 9.53s\n",
            "427:\tlearn: 0.0359919\ttotal: 7.11s\tremaining: 9.5s\n",
            "428:\tlearn: 0.0359497\ttotal: 7.12s\tremaining: 9.48s\n",
            "429:\tlearn: 0.0359311\ttotal: 7.13s\tremaining: 9.45s\n",
            "430:\tlearn: 0.0359115\ttotal: 7.14s\tremaining: 9.43s\n",
            "431:\tlearn: 0.0358704\ttotal: 7.16s\tremaining: 9.41s\n",
            "432:\tlearn: 0.0358434\ttotal: 7.17s\tremaining: 9.39s\n",
            "433:\tlearn: 0.0358270\ttotal: 7.18s\tremaining: 9.36s\n",
            "434:\tlearn: 0.0357862\ttotal: 7.2s\tremaining: 9.36s\n",
            "435:\tlearn: 0.0357647\ttotal: 7.23s\tremaining: 9.35s\n",
            "436:\tlearn: 0.0357403\ttotal: 7.26s\tremaining: 9.35s\n",
            "437:\tlearn: 0.0357126\ttotal: 7.28s\tremaining: 9.34s\n",
            "438:\tlearn: 0.0356843\ttotal: 7.33s\tremaining: 9.36s\n",
            "439:\tlearn: 0.0356589\ttotal: 7.36s\tremaining: 9.37s\n",
            "440:\tlearn: 0.0356178\ttotal: 7.4s\tremaining: 9.38s\n",
            "441:\tlearn: 0.0355683\ttotal: 7.43s\tremaining: 9.38s\n",
            "442:\tlearn: 0.0355298\ttotal: 7.46s\tremaining: 9.38s\n",
            "443:\tlearn: 0.0355019\ttotal: 7.49s\tremaining: 9.38s\n",
            "444:\tlearn: 0.0354706\ttotal: 7.53s\tremaining: 9.39s\n",
            "445:\tlearn: 0.0354225\ttotal: 7.57s\tremaining: 9.4s\n",
            "446:\tlearn: 0.0353878\ttotal: 7.59s\tremaining: 9.39s\n",
            "447:\tlearn: 0.0353590\ttotal: 7.62s\tremaining: 9.39s\n",
            "448:\tlearn: 0.0353290\ttotal: 7.65s\tremaining: 9.38s\n",
            "449:\tlearn: 0.0352891\ttotal: 7.67s\tremaining: 9.38s\n",
            "450:\tlearn: 0.0352426\ttotal: 7.69s\tremaining: 9.37s\n",
            "451:\tlearn: 0.0352103\ttotal: 7.71s\tremaining: 9.35s\n",
            "452:\tlearn: 0.0351732\ttotal: 7.74s\tremaining: 9.34s\n",
            "453:\tlearn: 0.0351275\ttotal: 7.77s\tremaining: 9.34s\n",
            "454:\tlearn: 0.0350952\ttotal: 7.86s\tremaining: 9.42s\n",
            "455:\tlearn: 0.0350574\ttotal: 7.93s\tremaining: 9.46s\n",
            "456:\tlearn: 0.0350278\ttotal: 7.98s\tremaining: 9.48s\n",
            "457:\tlearn: 0.0349871\ttotal: 8.02s\tremaining: 9.49s\n",
            "458:\tlearn: 0.0349538\ttotal: 8.12s\tremaining: 9.57s\n",
            "459:\tlearn: 0.0349212\ttotal: 8.19s\tremaining: 9.61s\n",
            "460:\tlearn: 0.0348977\ttotal: 8.24s\tremaining: 9.63s\n",
            "461:\tlearn: 0.0348638\ttotal: 8.28s\tremaining: 9.64s\n",
            "462:\tlearn: 0.0348278\ttotal: 8.31s\tremaining: 9.64s\n",
            "463:\tlearn: 0.0347853\ttotal: 8.34s\tremaining: 9.63s\n",
            "464:\tlearn: 0.0347640\ttotal: 8.38s\tremaining: 9.65s\n",
            "465:\tlearn: 0.0347325\ttotal: 8.45s\tremaining: 9.68s\n",
            "466:\tlearn: 0.0347056\ttotal: 8.52s\tremaining: 9.72s\n",
            "467:\tlearn: 0.0346693\ttotal: 8.57s\tremaining: 9.74s\n",
            "468:\tlearn: 0.0346331\ttotal: 8.64s\tremaining: 9.78s\n",
            "469:\tlearn: 0.0346099\ttotal: 8.7s\tremaining: 9.81s\n",
            "470:\tlearn: 0.0345766\ttotal: 8.77s\tremaining: 9.85s\n",
            "471:\tlearn: 0.0345502\ttotal: 8.84s\tremaining: 9.89s\n",
            "472:\tlearn: 0.0345159\ttotal: 8.89s\tremaining: 9.9s\n",
            "473:\tlearn: 0.0344669\ttotal: 8.92s\tremaining: 9.9s\n",
            "474:\tlearn: 0.0344404\ttotal: 8.95s\tremaining: 9.89s\n",
            "475:\tlearn: 0.0344078\ttotal: 8.99s\tremaining: 9.89s\n",
            "476:\tlearn: 0.0343858\ttotal: 9.01s\tremaining: 9.88s\n",
            "477:\tlearn: 0.0343549\ttotal: 9.04s\tremaining: 9.87s\n",
            "478:\tlearn: 0.0343311\ttotal: 9.06s\tremaining: 9.86s\n",
            "479:\tlearn: 0.0343091\ttotal: 9.1s\tremaining: 9.85s\n",
            "480:\tlearn: 0.0342825\ttotal: 9.15s\tremaining: 9.87s\n",
            "481:\tlearn: 0.0342573\ttotal: 9.21s\tremaining: 9.89s\n",
            "482:\tlearn: 0.0342296\ttotal: 9.26s\tremaining: 9.91s\n",
            "483:\tlearn: 0.0341933\ttotal: 9.31s\tremaining: 9.93s\n",
            "484:\tlearn: 0.0341695\ttotal: 9.37s\tremaining: 9.95s\n",
            "485:\tlearn: 0.0341398\ttotal: 9.4s\tremaining: 9.94s\n",
            "486:\tlearn: 0.0341143\ttotal: 9.44s\tremaining: 9.94s\n",
            "487:\tlearn: 0.0340789\ttotal: 9.49s\tremaining: 9.96s\n",
            "488:\tlearn: 0.0340421\ttotal: 9.53s\tremaining: 9.96s\n",
            "489:\tlearn: 0.0340205\ttotal: 9.56s\tremaining: 9.95s\n",
            "490:\tlearn: 0.0339874\ttotal: 9.58s\tremaining: 9.93s\n",
            "491:\tlearn: 0.0339442\ttotal: 9.62s\tremaining: 9.93s\n",
            "492:\tlearn: 0.0339172\ttotal: 9.66s\tremaining: 9.94s\n",
            "493:\tlearn: 0.0338891\ttotal: 9.74s\tremaining: 9.98s\n",
            "494:\tlearn: 0.0338603\ttotal: 9.78s\tremaining: 9.98s\n",
            "495:\tlearn: 0.0338398\ttotal: 9.83s\tremaining: 9.99s\n",
            "496:\tlearn: 0.0338125\ttotal: 9.88s\tremaining: 9.99s\n",
            "497:\tlearn: 0.0337811\ttotal: 9.93s\tremaining: 10s\n",
            "498:\tlearn: 0.0337518\ttotal: 9.96s\tremaining: 10s\n",
            "499:\tlearn: 0.0337184\ttotal: 9.99s\tremaining: 9.99s\n",
            "500:\tlearn: 0.0336840\ttotal: 10s\tremaining: 10s\n",
            "501:\tlearn: 0.0336631\ttotal: 10.1s\tremaining: 10s\n",
            "502:\tlearn: 0.0336300\ttotal: 10.1s\tremaining: 10s\n",
            "503:\tlearn: 0.0336073\ttotal: 10.2s\tremaining: 10s\n",
            "504:\tlearn: 0.0335811\ttotal: 10.2s\tremaining: 10s\n",
            "505:\tlearn: 0.0335601\ttotal: 10.3s\tremaining: 10s\n",
            "506:\tlearn: 0.0335309\ttotal: 10.3s\tremaining: 10s\n",
            "507:\tlearn: 0.0335043\ttotal: 10.4s\tremaining: 10.1s\n",
            "508:\tlearn: 0.0334877\ttotal: 10.4s\tremaining: 10.1s\n",
            "509:\tlearn: 0.0334717\ttotal: 10.5s\tremaining: 10.1s\n",
            "510:\tlearn: 0.0334507\ttotal: 10.5s\tremaining: 10.1s\n",
            "511:\tlearn: 0.0334348\ttotal: 10.6s\tremaining: 10.1s\n",
            "512:\tlearn: 0.0334102\ttotal: 10.6s\tremaining: 10.1s\n",
            "513:\tlearn: 0.0333889\ttotal: 10.7s\tremaining: 10.1s\n",
            "514:\tlearn: 0.0333493\ttotal: 10.8s\tremaining: 10.1s\n",
            "515:\tlearn: 0.0333238\ttotal: 10.8s\tremaining: 10.1s\n",
            "516:\tlearn: 0.0332869\ttotal: 10.8s\tremaining: 10.1s\n",
            "517:\tlearn: 0.0332597\ttotal: 10.9s\tremaining: 10.1s\n",
            "518:\tlearn: 0.0332409\ttotal: 10.9s\tremaining: 10.1s\n",
            "519:\tlearn: 0.0332144\ttotal: 11s\tremaining: 10.1s\n",
            "520:\tlearn: 0.0331837\ttotal: 11s\tremaining: 10.1s\n",
            "521:\tlearn: 0.0331560\ttotal: 11.1s\tremaining: 10.2s\n",
            "522:\tlearn: 0.0331403\ttotal: 11.1s\tremaining: 10.1s\n",
            "523:\tlearn: 0.0331127\ttotal: 11.2s\tremaining: 10.1s\n",
            "524:\tlearn: 0.0330864\ttotal: 11.2s\tremaining: 10.1s\n",
            "525:\tlearn: 0.0330664\ttotal: 11.3s\tremaining: 10.1s\n",
            "526:\tlearn: 0.0330309\ttotal: 11.3s\tremaining: 10.1s\n",
            "527:\tlearn: 0.0330060\ttotal: 11.3s\tremaining: 10.1s\n",
            "528:\tlearn: 0.0329745\ttotal: 11.3s\tremaining: 10.1s\n",
            "529:\tlearn: 0.0329504\ttotal: 11.3s\tremaining: 10s\n",
            "530:\tlearn: 0.0329253\ttotal: 11.3s\tremaining: 10s\n",
            "531:\tlearn: 0.0329000\ttotal: 11.4s\tremaining: 10s\n",
            "532:\tlearn: 0.0328802\ttotal: 11.4s\tremaining: 9.97s\n",
            "533:\tlearn: 0.0328603\ttotal: 11.4s\tremaining: 9.97s\n",
            "534:\tlearn: 0.0328330\ttotal: 11.5s\tremaining: 9.95s\n",
            "535:\tlearn: 0.0328124\ttotal: 11.5s\tremaining: 9.95s\n",
            "536:\tlearn: 0.0327920\ttotal: 11.5s\tremaining: 9.92s\n",
            "537:\tlearn: 0.0327486\ttotal: 11.5s\tremaining: 9.9s\n",
            "538:\tlearn: 0.0327175\ttotal: 11.6s\tremaining: 9.88s\n",
            "539:\tlearn: 0.0326828\ttotal: 11.6s\tremaining: 9.87s\n",
            "540:\tlearn: 0.0326620\ttotal: 11.6s\tremaining: 9.87s\n",
            "541:\tlearn: 0.0326374\ttotal: 11.7s\tremaining: 9.86s\n",
            "542:\tlearn: 0.0326051\ttotal: 11.7s\tremaining: 9.86s\n",
            "543:\tlearn: 0.0325876\ttotal: 11.8s\tremaining: 9.86s\n",
            "544:\tlearn: 0.0325514\ttotal: 11.8s\tremaining: 9.83s\n",
            "545:\tlearn: 0.0325334\ttotal: 11.8s\tremaining: 9.8s\n",
            "546:\tlearn: 0.0325056\ttotal: 11.8s\tremaining: 9.77s\n",
            "547:\tlearn: 0.0324535\ttotal: 11.8s\tremaining: 9.74s\n",
            "548:\tlearn: 0.0324300\ttotal: 11.8s\tremaining: 9.71s\n",
            "549:\tlearn: 0.0324090\ttotal: 11.8s\tremaining: 9.68s\n",
            "550:\tlearn: 0.0323796\ttotal: 11.9s\tremaining: 9.67s\n",
            "551:\tlearn: 0.0323575\ttotal: 11.9s\tremaining: 9.64s\n",
            "552:\tlearn: 0.0323382\ttotal: 11.9s\tremaining: 9.61s\n",
            "553:\tlearn: 0.0323117\ttotal: 11.9s\tremaining: 9.58s\n",
            "554:\tlearn: 0.0322924\ttotal: 11.9s\tremaining: 9.56s\n",
            "555:\tlearn: 0.0322702\ttotal: 11.9s\tremaining: 9.53s\n",
            "556:\tlearn: 0.0322352\ttotal: 11.9s\tremaining: 9.5s\n",
            "557:\tlearn: 0.0322143\ttotal: 12s\tremaining: 9.47s\n",
            "558:\tlearn: 0.0321883\ttotal: 12s\tremaining: 9.45s\n",
            "559:\tlearn: 0.0321649\ttotal: 12s\tremaining: 9.42s\n",
            "560:\tlearn: 0.0321371\ttotal: 12s\tremaining: 9.39s\n",
            "561:\tlearn: 0.0321153\ttotal: 12s\tremaining: 9.36s\n",
            "562:\tlearn: 0.0320762\ttotal: 12s\tremaining: 9.33s\n",
            "563:\tlearn: 0.0320376\ttotal: 12.1s\tremaining: 9.31s\n",
            "564:\tlearn: 0.0320205\ttotal: 12.1s\tremaining: 9.3s\n",
            "565:\tlearn: 0.0319954\ttotal: 12.1s\tremaining: 9.28s\n",
            "566:\tlearn: 0.0319632\ttotal: 12.1s\tremaining: 9.26s\n",
            "567:\tlearn: 0.0319434\ttotal: 12.2s\tremaining: 9.24s\n",
            "568:\tlearn: 0.0319169\ttotal: 12.2s\tremaining: 9.22s\n",
            "569:\tlearn: 0.0318845\ttotal: 12.2s\tremaining: 9.21s\n",
            "570:\tlearn: 0.0318670\ttotal: 12.2s\tremaining: 9.19s\n",
            "571:\tlearn: 0.0318429\ttotal: 12.3s\tremaining: 9.17s\n",
            "572:\tlearn: 0.0318244\ttotal: 12.3s\tremaining: 9.15s\n",
            "573:\tlearn: 0.0317930\ttotal: 12.3s\tremaining: 9.13s\n",
            "574:\tlearn: 0.0317725\ttotal: 12.3s\tremaining: 9.12s\n",
            "575:\tlearn: 0.0317490\ttotal: 12.4s\tremaining: 9.1s\n",
            "576:\tlearn: 0.0317305\ttotal: 12.4s\tremaining: 9.07s\n",
            "577:\tlearn: 0.0317147\ttotal: 12.4s\tremaining: 9.04s\n",
            "578:\tlearn: 0.0317009\ttotal: 12.4s\tremaining: 9.01s\n",
            "579:\tlearn: 0.0316847\ttotal: 12.4s\tremaining: 8.98s\n",
            "580:\tlearn: 0.0316554\ttotal: 12.4s\tremaining: 8.95s\n",
            "581:\tlearn: 0.0316294\ttotal: 12.4s\tremaining: 8.92s\n",
            "582:\tlearn: 0.0316070\ttotal: 12.4s\tremaining: 8.89s\n",
            "583:\tlearn: 0.0315756\ttotal: 12.4s\tremaining: 8.86s\n",
            "584:\tlearn: 0.0315516\ttotal: 12.5s\tremaining: 8.84s\n",
            "585:\tlearn: 0.0315286\ttotal: 12.5s\tremaining: 8.81s\n",
            "586:\tlearn: 0.0315079\ttotal: 12.5s\tremaining: 8.78s\n",
            "587:\tlearn: 0.0314856\ttotal: 12.5s\tremaining: 8.75s\n",
            "588:\tlearn: 0.0314625\ttotal: 12.5s\tremaining: 8.72s\n",
            "589:\tlearn: 0.0314326\ttotal: 12.5s\tremaining: 8.71s\n",
            "590:\tlearn: 0.0314119\ttotal: 12.6s\tremaining: 8.69s\n",
            "591:\tlearn: 0.0313962\ttotal: 12.6s\tremaining: 8.67s\n",
            "592:\tlearn: 0.0313776\ttotal: 12.6s\tremaining: 8.65s\n",
            "593:\tlearn: 0.0313563\ttotal: 12.6s\tremaining: 8.64s\n",
            "594:\tlearn: 0.0313419\ttotal: 12.7s\tremaining: 8.63s\n",
            "595:\tlearn: 0.0313269\ttotal: 12.7s\tremaining: 8.62s\n",
            "596:\tlearn: 0.0313092\ttotal: 12.8s\tremaining: 8.63s\n",
            "597:\tlearn: 0.0312850\ttotal: 12.8s\tremaining: 8.61s\n",
            "598:\tlearn: 0.0312723\ttotal: 12.8s\tremaining: 8.6s\n",
            "599:\tlearn: 0.0312467\ttotal: 12.9s\tremaining: 8.57s\n",
            "600:\tlearn: 0.0312215\ttotal: 12.9s\tremaining: 8.54s\n",
            "601:\tlearn: 0.0312040\ttotal: 12.9s\tremaining: 8.52s\n",
            "602:\tlearn: 0.0311798\ttotal: 12.9s\tremaining: 8.49s\n",
            "603:\tlearn: 0.0311522\ttotal: 12.9s\tremaining: 8.47s\n",
            "604:\tlearn: 0.0311268\ttotal: 12.9s\tremaining: 8.45s\n",
            "605:\tlearn: 0.0311088\ttotal: 13s\tremaining: 8.45s\n",
            "606:\tlearn: 0.0310935\ttotal: 13s\tremaining: 8.43s\n",
            "607:\tlearn: 0.0310640\ttotal: 13s\tremaining: 8.41s\n",
            "608:\tlearn: 0.0310318\ttotal: 13.1s\tremaining: 8.39s\n",
            "609:\tlearn: 0.0310086\ttotal: 13.1s\tremaining: 8.36s\n",
            "610:\tlearn: 0.0309715\ttotal: 13.1s\tremaining: 8.33s\n",
            "611:\tlearn: 0.0309537\ttotal: 13.1s\tremaining: 8.3s\n",
            "612:\tlearn: 0.0309397\ttotal: 13.1s\tremaining: 8.27s\n",
            "613:\tlearn: 0.0309142\ttotal: 13.1s\tremaining: 8.25s\n",
            "614:\tlearn: 0.0308888\ttotal: 13.1s\tremaining: 8.22s\n",
            "615:\tlearn: 0.0308734\ttotal: 13.1s\tremaining: 8.19s\n",
            "616:\tlearn: 0.0308572\ttotal: 13.2s\tremaining: 8.16s\n",
            "617:\tlearn: 0.0308283\ttotal: 13.2s\tremaining: 8.14s\n",
            "618:\tlearn: 0.0308123\ttotal: 13.2s\tremaining: 8.11s\n",
            "619:\tlearn: 0.0307744\ttotal: 13.2s\tremaining: 8.09s\n",
            "620:\tlearn: 0.0307525\ttotal: 13.2s\tremaining: 8.06s\n",
            "621:\tlearn: 0.0307251\ttotal: 13.2s\tremaining: 8.04s\n",
            "622:\tlearn: 0.0307076\ttotal: 13.2s\tremaining: 8.01s\n",
            "623:\tlearn: 0.0306805\ttotal: 13.3s\tremaining: 7.98s\n",
            "624:\tlearn: 0.0306532\ttotal: 13.3s\tremaining: 7.96s\n",
            "625:\tlearn: 0.0306304\ttotal: 13.3s\tremaining: 7.94s\n",
            "626:\tlearn: 0.0306106\ttotal: 13.3s\tremaining: 7.92s\n",
            "627:\tlearn: 0.0305907\ttotal: 13.3s\tremaining: 7.89s\n",
            "628:\tlearn: 0.0305676\ttotal: 13.3s\tremaining: 7.87s\n",
            "629:\tlearn: 0.0305516\ttotal: 13.4s\tremaining: 7.85s\n",
            "630:\tlearn: 0.0305364\ttotal: 13.4s\tremaining: 7.82s\n",
            "631:\tlearn: 0.0305096\ttotal: 13.4s\tremaining: 7.79s\n",
            "632:\tlearn: 0.0304859\ttotal: 13.4s\tremaining: 7.77s\n",
            "633:\tlearn: 0.0304706\ttotal: 13.4s\tremaining: 7.75s\n",
            "634:\tlearn: 0.0304413\ttotal: 13.4s\tremaining: 7.72s\n",
            "635:\tlearn: 0.0304254\ttotal: 13.4s\tremaining: 7.69s\n",
            "636:\tlearn: 0.0304080\ttotal: 13.4s\tremaining: 7.66s\n",
            "637:\tlearn: 0.0303868\ttotal: 13.5s\tremaining: 7.64s\n",
            "638:\tlearn: 0.0303677\ttotal: 13.5s\tremaining: 7.61s\n",
            "639:\tlearn: 0.0303401\ttotal: 13.5s\tremaining: 7.59s\n",
            "640:\tlearn: 0.0303273\ttotal: 13.5s\tremaining: 7.57s\n",
            "641:\tlearn: 0.0303048\ttotal: 13.5s\tremaining: 7.54s\n",
            "642:\tlearn: 0.0302873\ttotal: 13.5s\tremaining: 7.52s\n",
            "643:\tlearn: 0.0302625\ttotal: 13.5s\tremaining: 7.49s\n",
            "644:\tlearn: 0.0302432\ttotal: 13.6s\tremaining: 7.46s\n",
            "645:\tlearn: 0.0302130\ttotal: 13.6s\tremaining: 7.44s\n",
            "646:\tlearn: 0.0301875\ttotal: 13.6s\tremaining: 7.41s\n",
            "647:\tlearn: 0.0301711\ttotal: 13.6s\tremaining: 7.38s\n",
            "648:\tlearn: 0.0301471\ttotal: 13.6s\tremaining: 7.37s\n",
            "649:\tlearn: 0.0301262\ttotal: 13.7s\tremaining: 7.36s\n",
            "650:\tlearn: 0.0301092\ttotal: 13.7s\tremaining: 7.34s\n",
            "651:\tlearn: 0.0300936\ttotal: 13.7s\tremaining: 7.31s\n",
            "652:\tlearn: 0.0300764\ttotal: 13.7s\tremaining: 7.29s\n",
            "653:\tlearn: 0.0300608\ttotal: 13.7s\tremaining: 7.27s\n",
            "654:\tlearn: 0.0300462\ttotal: 13.8s\tremaining: 7.27s\n",
            "655:\tlearn: 0.0300205\ttotal: 13.8s\tremaining: 7.25s\n",
            "656:\tlearn: 0.0300073\ttotal: 13.9s\tremaining: 7.23s\n",
            "657:\tlearn: 0.0299882\ttotal: 13.9s\tremaining: 7.21s\n",
            "658:\tlearn: 0.0299574\ttotal: 13.9s\tremaining: 7.19s\n",
            "659:\tlearn: 0.0299399\ttotal: 13.9s\tremaining: 7.18s\n",
            "660:\tlearn: 0.0299158\ttotal: 13.9s\tremaining: 7.15s\n",
            "661:\tlearn: 0.0298983\ttotal: 14s\tremaining: 7.13s\n",
            "662:\tlearn: 0.0298786\ttotal: 14s\tremaining: 7.1s\n",
            "663:\tlearn: 0.0298649\ttotal: 14s\tremaining: 7.07s\n",
            "664:\tlearn: 0.0298482\ttotal: 14s\tremaining: 7.05s\n",
            "665:\tlearn: 0.0298238\ttotal: 14s\tremaining: 7.02s\n",
            "666:\tlearn: 0.0297977\ttotal: 14s\tremaining: 6.99s\n",
            "667:\tlearn: 0.0297715\ttotal: 14s\tremaining: 6.97s\n",
            "668:\tlearn: 0.0297501\ttotal: 14s\tremaining: 6.94s\n",
            "669:\tlearn: 0.0297316\ttotal: 14s\tremaining: 6.92s\n",
            "670:\tlearn: 0.0297114\ttotal: 14.1s\tremaining: 6.9s\n",
            "671:\tlearn: 0.0296936\ttotal: 14.1s\tremaining: 6.87s\n",
            "672:\tlearn: 0.0296783\ttotal: 14.1s\tremaining: 6.84s\n",
            "673:\tlearn: 0.0296579\ttotal: 14.1s\tremaining: 6.82s\n",
            "674:\tlearn: 0.0296330\ttotal: 14.1s\tremaining: 6.79s\n",
            "675:\tlearn: 0.0296108\ttotal: 14.1s\tremaining: 6.77s\n",
            "676:\tlearn: 0.0295969\ttotal: 14.2s\tremaining: 6.75s\n",
            "677:\tlearn: 0.0295807\ttotal: 14.2s\tremaining: 6.73s\n",
            "678:\tlearn: 0.0295611\ttotal: 14.2s\tremaining: 6.71s\n",
            "679:\tlearn: 0.0295353\ttotal: 14.2s\tremaining: 6.69s\n",
            "680:\tlearn: 0.0295199\ttotal: 14.3s\tremaining: 6.68s\n",
            "681:\tlearn: 0.0295068\ttotal: 14.3s\tremaining: 6.66s\n",
            "682:\tlearn: 0.0294920\ttotal: 14.3s\tremaining: 6.63s\n",
            "683:\tlearn: 0.0294704\ttotal: 14.3s\tremaining: 6.61s\n",
            "684:\tlearn: 0.0294503\ttotal: 14.3s\tremaining: 6.58s\n",
            "685:\tlearn: 0.0294283\ttotal: 14.3s\tremaining: 6.56s\n",
            "686:\tlearn: 0.0294157\ttotal: 14.3s\tremaining: 6.53s\n",
            "687:\tlearn: 0.0293997\ttotal: 14.3s\tremaining: 6.5s\n",
            "688:\tlearn: 0.0293867\ttotal: 14.4s\tremaining: 6.48s\n",
            "689:\tlearn: 0.0293723\ttotal: 14.4s\tremaining: 6.45s\n",
            "690:\tlearn: 0.0293590\ttotal: 14.4s\tremaining: 6.44s\n",
            "691:\tlearn: 0.0293406\ttotal: 14.4s\tremaining: 6.41s\n",
            "692:\tlearn: 0.0293198\ttotal: 14.4s\tremaining: 6.39s\n",
            "693:\tlearn: 0.0292988\ttotal: 14.4s\tremaining: 6.36s\n",
            "694:\tlearn: 0.0292804\ttotal: 14.4s\tremaining: 6.34s\n",
            "695:\tlearn: 0.0292655\ttotal: 14.4s\tremaining: 6.31s\n",
            "696:\tlearn: 0.0292433\ttotal: 14.5s\tremaining: 6.29s\n",
            "697:\tlearn: 0.0292269\ttotal: 14.5s\tremaining: 6.26s\n",
            "698:\tlearn: 0.0292156\ttotal: 14.5s\tremaining: 6.24s\n",
            "699:\tlearn: 0.0291979\ttotal: 14.5s\tremaining: 6.22s\n",
            "700:\tlearn: 0.0291817\ttotal: 14.5s\tremaining: 6.2s\n",
            "701:\tlearn: 0.0291558\ttotal: 14.5s\tremaining: 6.17s\n",
            "702:\tlearn: 0.0291414\ttotal: 14.5s\tremaining: 6.14s\n",
            "703:\tlearn: 0.0291274\ttotal: 14.6s\tremaining: 6.12s\n",
            "704:\tlearn: 0.0291114\ttotal: 14.6s\tremaining: 6.1s\n",
            "705:\tlearn: 0.0290803\ttotal: 14.6s\tremaining: 6.07s\n",
            "706:\tlearn: 0.0290633\ttotal: 14.6s\tremaining: 6.05s\n",
            "707:\tlearn: 0.0290519\ttotal: 14.6s\tremaining: 6.02s\n",
            "708:\tlearn: 0.0290360\ttotal: 14.6s\tremaining: 6s\n",
            "709:\tlearn: 0.0290197\ttotal: 14.6s\tremaining: 5.97s\n",
            "710:\tlearn: 0.0289998\ttotal: 14.6s\tremaining: 5.95s\n",
            "711:\tlearn: 0.0289698\ttotal: 14.7s\tremaining: 5.93s\n",
            "712:\tlearn: 0.0289582\ttotal: 14.7s\tremaining: 5.91s\n",
            "713:\tlearn: 0.0289399\ttotal: 14.7s\tremaining: 5.89s\n",
            "714:\tlearn: 0.0289255\ttotal: 14.7s\tremaining: 5.87s\n",
            "715:\tlearn: 0.0289088\ttotal: 14.8s\tremaining: 5.86s\n",
            "716:\tlearn: 0.0288888\ttotal: 14.8s\tremaining: 5.83s\n",
            "717:\tlearn: 0.0288712\ttotal: 14.8s\tremaining: 5.81s\n",
            "718:\tlearn: 0.0288568\ttotal: 14.8s\tremaining: 5.79s\n",
            "719:\tlearn: 0.0288393\ttotal: 14.8s\tremaining: 5.77s\n",
            "720:\tlearn: 0.0288232\ttotal: 14.8s\tremaining: 5.75s\n",
            "721:\tlearn: 0.0287997\ttotal: 14.9s\tremaining: 5.73s\n",
            "722:\tlearn: 0.0287819\ttotal: 14.9s\tremaining: 5.72s\n",
            "723:\tlearn: 0.0287622\ttotal: 15s\tremaining: 5.7s\n",
            "724:\tlearn: 0.0287428\ttotal: 15s\tremaining: 5.68s\n",
            "725:\tlearn: 0.0287265\ttotal: 15s\tremaining: 5.67s\n",
            "726:\tlearn: 0.0287103\ttotal: 15.1s\tremaining: 5.65s\n",
            "727:\tlearn: 0.0286826\ttotal: 15.1s\tremaining: 5.64s\n",
            "728:\tlearn: 0.0286651\ttotal: 15.1s\tremaining: 5.61s\n",
            "729:\tlearn: 0.0286470\ttotal: 15.1s\tremaining: 5.6s\n",
            "730:\tlearn: 0.0286286\ttotal: 15.2s\tremaining: 5.58s\n",
            "731:\tlearn: 0.0286170\ttotal: 15.2s\tremaining: 5.55s\n",
            "732:\tlearn: 0.0285960\ttotal: 15.2s\tremaining: 5.53s\n",
            "733:\tlearn: 0.0285757\ttotal: 15.2s\tremaining: 5.51s\n",
            "734:\tlearn: 0.0285638\ttotal: 15.2s\tremaining: 5.48s\n",
            "735:\tlearn: 0.0285508\ttotal: 15.2s\tremaining: 5.46s\n",
            "736:\tlearn: 0.0285304\ttotal: 15.3s\tremaining: 5.44s\n",
            "737:\tlearn: 0.0285110\ttotal: 15.3s\tremaining: 5.42s\n",
            "738:\tlearn: 0.0284974\ttotal: 15.3s\tremaining: 5.4s\n",
            "739:\tlearn: 0.0284817\ttotal: 15.3s\tremaining: 5.38s\n",
            "740:\tlearn: 0.0284628\ttotal: 15.3s\tremaining: 5.36s\n",
            "741:\tlearn: 0.0284449\ttotal: 15.3s\tremaining: 5.33s\n",
            "742:\tlearn: 0.0284330\ttotal: 15.3s\tremaining: 5.31s\n",
            "743:\tlearn: 0.0284178\ttotal: 15.4s\tremaining: 5.29s\n",
            "744:\tlearn: 0.0283994\ttotal: 15.4s\tremaining: 5.26s\n",
            "745:\tlearn: 0.0283783\ttotal: 15.4s\tremaining: 5.24s\n",
            "746:\tlearn: 0.0283574\ttotal: 15.4s\tremaining: 5.21s\n",
            "747:\tlearn: 0.0283429\ttotal: 15.4s\tremaining: 5.19s\n",
            "748:\tlearn: 0.0283201\ttotal: 15.4s\tremaining: 5.17s\n",
            "749:\tlearn: 0.0282997\ttotal: 15.4s\tremaining: 5.15s\n",
            "750:\tlearn: 0.0282856\ttotal: 15.5s\tremaining: 5.12s\n",
            "751:\tlearn: 0.0282645\ttotal: 15.5s\tremaining: 5.1s\n",
            "752:\tlearn: 0.0282445\ttotal: 15.5s\tremaining: 5.08s\n",
            "753:\tlearn: 0.0282273\ttotal: 15.5s\tremaining: 5.06s\n",
            "754:\tlearn: 0.0282172\ttotal: 15.5s\tremaining: 5.04s\n",
            "755:\tlearn: 0.0282029\ttotal: 15.5s\tremaining: 5.01s\n",
            "756:\tlearn: 0.0281836\ttotal: 15.5s\tremaining: 4.99s\n",
            "757:\tlearn: 0.0281733\ttotal: 15.6s\tremaining: 4.97s\n",
            "758:\tlearn: 0.0281601\ttotal: 15.6s\tremaining: 4.94s\n",
            "759:\tlearn: 0.0281437\ttotal: 15.6s\tremaining: 4.92s\n",
            "760:\tlearn: 0.0281252\ttotal: 15.6s\tremaining: 4.9s\n",
            "761:\tlearn: 0.0281040\ttotal: 15.6s\tremaining: 4.87s\n",
            "762:\tlearn: 0.0280884\ttotal: 15.6s\tremaining: 4.85s\n",
            "763:\tlearn: 0.0280718\ttotal: 15.6s\tremaining: 4.83s\n",
            "764:\tlearn: 0.0280598\ttotal: 15.6s\tremaining: 4.8s\n",
            "765:\tlearn: 0.0280449\ttotal: 15.7s\tremaining: 4.79s\n",
            "766:\tlearn: 0.0280262\ttotal: 15.7s\tremaining: 4.77s\n",
            "767:\tlearn: 0.0280052\ttotal: 15.7s\tremaining: 4.75s\n",
            "768:\tlearn: 0.0279893\ttotal: 15.7s\tremaining: 4.73s\n",
            "769:\tlearn: 0.0279758\ttotal: 15.8s\tremaining: 4.72s\n",
            "770:\tlearn: 0.0279562\ttotal: 15.8s\tremaining: 4.71s\n",
            "771:\tlearn: 0.0279431\ttotal: 15.9s\tremaining: 4.69s\n",
            "772:\tlearn: 0.0279256\ttotal: 15.9s\tremaining: 4.67s\n",
            "773:\tlearn: 0.0279059\ttotal: 15.9s\tremaining: 4.64s\n",
            "774:\tlearn: 0.0278924\ttotal: 15.9s\tremaining: 4.62s\n",
            "775:\tlearn: 0.0278770\ttotal: 15.9s\tremaining: 4.6s\n",
            "776:\tlearn: 0.0278613\ttotal: 15.9s\tremaining: 4.57s\n",
            "777:\tlearn: 0.0278455\ttotal: 15.9s\tremaining: 4.55s\n",
            "778:\tlearn: 0.0278285\ttotal: 16s\tremaining: 4.53s\n",
            "779:\tlearn: 0.0278153\ttotal: 16s\tremaining: 4.5s\n",
            "780:\tlearn: 0.0277994\ttotal: 16s\tremaining: 4.48s\n",
            "781:\tlearn: 0.0277818\ttotal: 16s\tremaining: 4.46s\n",
            "782:\tlearn: 0.0277683\ttotal: 16s\tremaining: 4.44s\n",
            "783:\tlearn: 0.0277526\ttotal: 16.1s\tremaining: 4.42s\n",
            "784:\tlearn: 0.0277347\ttotal: 16.1s\tremaining: 4.4s\n",
            "785:\tlearn: 0.0277199\ttotal: 16.1s\tremaining: 4.38s\n",
            "786:\tlearn: 0.0277028\ttotal: 16.1s\tremaining: 4.36s\n",
            "787:\tlearn: 0.0276888\ttotal: 16.1s\tremaining: 4.34s\n",
            "788:\tlearn: 0.0276776\ttotal: 16.1s\tremaining: 4.32s\n",
            "789:\tlearn: 0.0276615\ttotal: 16.2s\tremaining: 4.29s\n",
            "790:\tlearn: 0.0276443\ttotal: 16.2s\tremaining: 4.27s\n",
            "791:\tlearn: 0.0276289\ttotal: 16.2s\tremaining: 4.25s\n",
            "792:\tlearn: 0.0276147\ttotal: 16.2s\tremaining: 4.23s\n",
            "793:\tlearn: 0.0275983\ttotal: 16.2s\tremaining: 4.21s\n",
            "794:\tlearn: 0.0275853\ttotal: 16.2s\tremaining: 4.19s\n",
            "795:\tlearn: 0.0275754\ttotal: 16.3s\tremaining: 4.17s\n",
            "796:\tlearn: 0.0275503\ttotal: 16.3s\tremaining: 4.15s\n",
            "797:\tlearn: 0.0275335\ttotal: 16.3s\tremaining: 4.13s\n",
            "798:\tlearn: 0.0275227\ttotal: 16.3s\tremaining: 4.11s\n",
            "799:\tlearn: 0.0275092\ttotal: 16.4s\tremaining: 4.09s\n",
            "800:\tlearn: 0.0274896\ttotal: 16.4s\tremaining: 4.07s\n",
            "801:\tlearn: 0.0274802\ttotal: 16.4s\tremaining: 4.05s\n",
            "802:\tlearn: 0.0274687\ttotal: 16.4s\tremaining: 4.03s\n",
            "803:\tlearn: 0.0274605\ttotal: 16.5s\tremaining: 4.02s\n",
            "804:\tlearn: 0.0274482\ttotal: 16.5s\tremaining: 4s\n",
            "805:\tlearn: 0.0274276\ttotal: 16.5s\tremaining: 3.98s\n",
            "806:\tlearn: 0.0274103\ttotal: 16.5s\tremaining: 3.96s\n",
            "807:\tlearn: 0.0273959\ttotal: 16.6s\tremaining: 3.94s\n",
            "808:\tlearn: 0.0273840\ttotal: 16.6s\tremaining: 3.92s\n",
            "809:\tlearn: 0.0273735\ttotal: 16.6s\tremaining: 3.9s\n",
            "810:\tlearn: 0.0273608\ttotal: 16.6s\tremaining: 3.88s\n",
            "811:\tlearn: 0.0273494\ttotal: 16.6s\tremaining: 3.85s\n",
            "812:\tlearn: 0.0273325\ttotal: 16.7s\tremaining: 3.84s\n",
            "813:\tlearn: 0.0273119\ttotal: 16.7s\tremaining: 3.81s\n",
            "814:\tlearn: 0.0273014\ttotal: 16.7s\tremaining: 3.8s\n",
            "815:\tlearn: 0.0272858\ttotal: 16.8s\tremaining: 3.78s\n",
            "816:\tlearn: 0.0272711\ttotal: 16.8s\tremaining: 3.76s\n",
            "817:\tlearn: 0.0272551\ttotal: 16.8s\tremaining: 3.74s\n",
            "818:\tlearn: 0.0272374\ttotal: 16.8s\tremaining: 3.72s\n",
            "819:\tlearn: 0.0272225\ttotal: 16.9s\tremaining: 3.7s\n",
            "820:\tlearn: 0.0272041\ttotal: 16.9s\tremaining: 3.68s\n",
            "821:\tlearn: 0.0271930\ttotal: 16.9s\tremaining: 3.66s\n",
            "822:\tlearn: 0.0271821\ttotal: 16.9s\tremaining: 3.64s\n",
            "823:\tlearn: 0.0271628\ttotal: 17s\tremaining: 3.62s\n",
            "824:\tlearn: 0.0271486\ttotal: 17s\tremaining: 3.6s\n",
            "825:\tlearn: 0.0271391\ttotal: 17s\tremaining: 3.58s\n",
            "826:\tlearn: 0.0271212\ttotal: 17s\tremaining: 3.56s\n",
            "827:\tlearn: 0.0271086\ttotal: 17.1s\tremaining: 3.54s\n",
            "828:\tlearn: 0.0270926\ttotal: 17.1s\tremaining: 3.52s\n",
            "829:\tlearn: 0.0270826\ttotal: 17.1s\tremaining: 3.5s\n",
            "830:\tlearn: 0.0270647\ttotal: 17.1s\tremaining: 3.48s\n",
            "831:\tlearn: 0.0270471\ttotal: 17.1s\tremaining: 3.45s\n",
            "832:\tlearn: 0.0270367\ttotal: 17.1s\tremaining: 3.43s\n",
            "833:\tlearn: 0.0270254\ttotal: 17.2s\tremaining: 3.41s\n",
            "834:\tlearn: 0.0270142\ttotal: 17.2s\tremaining: 3.4s\n",
            "835:\tlearn: 0.0270028\ttotal: 17.2s\tremaining: 3.38s\n",
            "836:\tlearn: 0.0269818\ttotal: 17.3s\tremaining: 3.37s\n",
            "837:\tlearn: 0.0269680\ttotal: 17.3s\tremaining: 3.35s\n",
            "838:\tlearn: 0.0269488\ttotal: 17.3s\tremaining: 3.33s\n",
            "839:\tlearn: 0.0269369\ttotal: 17.4s\tremaining: 3.31s\n",
            "840:\tlearn: 0.0269250\ttotal: 17.4s\tremaining: 3.28s\n",
            "841:\tlearn: 0.0269130\ttotal: 17.4s\tremaining: 3.27s\n",
            "842:\tlearn: 0.0269003\ttotal: 17.4s\tremaining: 3.24s\n",
            "843:\tlearn: 0.0268901\ttotal: 17.4s\tremaining: 3.22s\n",
            "844:\tlearn: 0.0268743\ttotal: 17.5s\tremaining: 3.2s\n",
            "845:\tlearn: 0.0268610\ttotal: 17.5s\tremaining: 3.18s\n",
            "846:\tlearn: 0.0268466\ttotal: 17.5s\tremaining: 3.16s\n",
            "847:\tlearn: 0.0268330\ttotal: 17.5s\tremaining: 3.15s\n",
            "848:\tlearn: 0.0268217\ttotal: 17.6s\tremaining: 3.13s\n",
            "849:\tlearn: 0.0268102\ttotal: 17.6s\tremaining: 3.1s\n",
            "850:\tlearn: 0.0267954\ttotal: 17.6s\tremaining: 3.09s\n",
            "851:\tlearn: 0.0267829\ttotal: 17.6s\tremaining: 3.06s\n",
            "852:\tlearn: 0.0267704\ttotal: 17.7s\tremaining: 3.04s\n",
            "853:\tlearn: 0.0267569\ttotal: 17.7s\tremaining: 3.02s\n",
            "854:\tlearn: 0.0267398\ttotal: 17.7s\tremaining: 3s\n",
            "855:\tlearn: 0.0267292\ttotal: 17.7s\tremaining: 2.98s\n",
            "856:\tlearn: 0.0267140\ttotal: 17.7s\tremaining: 2.96s\n",
            "857:\tlearn: 0.0266946\ttotal: 17.8s\tremaining: 2.95s\n",
            "858:\tlearn: 0.0266799\ttotal: 17.9s\tremaining: 2.93s\n",
            "859:\tlearn: 0.0266696\ttotal: 17.9s\tremaining: 2.91s\n",
            "860:\tlearn: 0.0266579\ttotal: 17.9s\tremaining: 2.89s\n",
            "861:\tlearn: 0.0266470\ttotal: 18s\tremaining: 2.87s\n",
            "862:\tlearn: 0.0266334\ttotal: 18s\tremaining: 2.85s\n",
            "863:\tlearn: 0.0266161\ttotal: 18s\tremaining: 2.83s\n",
            "864:\tlearn: 0.0266062\ttotal: 18s\tremaining: 2.81s\n",
            "865:\tlearn: 0.0265855\ttotal: 18s\tremaining: 2.79s\n",
            "866:\tlearn: 0.0265736\ttotal: 18s\tremaining: 2.77s\n",
            "867:\tlearn: 0.0265607\ttotal: 18s\tremaining: 2.74s\n",
            "868:\tlearn: 0.0265490\ttotal: 18.1s\tremaining: 2.72s\n",
            "869:\tlearn: 0.0265354\ttotal: 18.1s\tremaining: 2.7s\n",
            "870:\tlearn: 0.0265259\ttotal: 18.1s\tremaining: 2.68s\n",
            "871:\tlearn: 0.0265105\ttotal: 18.2s\tremaining: 2.67s\n",
            "872:\tlearn: 0.0264953\ttotal: 18.2s\tremaining: 2.64s\n",
            "873:\tlearn: 0.0264808\ttotal: 18.2s\tremaining: 2.62s\n",
            "874:\tlearn: 0.0264676\ttotal: 18.3s\tremaining: 2.61s\n",
            "875:\tlearn: 0.0264549\ttotal: 18.3s\tremaining: 2.59s\n",
            "876:\tlearn: 0.0264459\ttotal: 18.4s\tremaining: 2.58s\n",
            "877:\tlearn: 0.0264344\ttotal: 18.4s\tremaining: 2.56s\n",
            "878:\tlearn: 0.0264262\ttotal: 18.4s\tremaining: 2.53s\n",
            "879:\tlearn: 0.0264147\ttotal: 18.4s\tremaining: 2.51s\n",
            "880:\tlearn: 0.0264041\ttotal: 18.5s\tremaining: 2.49s\n",
            "881:\tlearn: 0.0263887\ttotal: 18.5s\tremaining: 2.47s\n",
            "882:\tlearn: 0.0263788\ttotal: 18.5s\tremaining: 2.45s\n",
            "883:\tlearn: 0.0263674\ttotal: 18.5s\tremaining: 2.43s\n",
            "884:\tlearn: 0.0263578\ttotal: 18.6s\tremaining: 2.41s\n",
            "885:\tlearn: 0.0263478\ttotal: 18.6s\tremaining: 2.39s\n",
            "886:\tlearn: 0.0263341\ttotal: 18.6s\tremaining: 2.38s\n",
            "887:\tlearn: 0.0263205\ttotal: 18.7s\tremaining: 2.35s\n",
            "888:\tlearn: 0.0263076\ttotal: 18.7s\tremaining: 2.34s\n",
            "889:\tlearn: 0.0262956\ttotal: 18.8s\tremaining: 2.32s\n",
            "890:\tlearn: 0.0262837\ttotal: 18.8s\tremaining: 2.3s\n",
            "891:\tlearn: 0.0262725\ttotal: 18.8s\tremaining: 2.28s\n",
            "892:\tlearn: 0.0262663\ttotal: 18.9s\tremaining: 2.26s\n",
            "893:\tlearn: 0.0262505\ttotal: 18.9s\tremaining: 2.24s\n",
            "894:\tlearn: 0.0262348\ttotal: 18.9s\tremaining: 2.22s\n",
            "895:\tlearn: 0.0262284\ttotal: 19s\tremaining: 2.2s\n",
            "896:\tlearn: 0.0262193\ttotal: 19s\tremaining: 2.18s\n",
            "897:\tlearn: 0.0262094\ttotal: 19s\tremaining: 2.16s\n",
            "898:\tlearn: 0.0261984\ttotal: 19s\tremaining: 2.14s\n",
            "899:\tlearn: 0.0261842\ttotal: 19.1s\tremaining: 2.12s\n",
            "900:\tlearn: 0.0261676\ttotal: 19.1s\tremaining: 2.1s\n",
            "901:\tlearn: 0.0261564\ttotal: 19.1s\tremaining: 2.07s\n",
            "902:\tlearn: 0.0261426\ttotal: 19.1s\tremaining: 2.05s\n",
            "903:\tlearn: 0.0261300\ttotal: 19.1s\tremaining: 2.03s\n",
            "904:\tlearn: 0.0261182\ttotal: 19.2s\tremaining: 2.01s\n",
            "905:\tlearn: 0.0261086\ttotal: 19.2s\tremaining: 1.99s\n",
            "906:\tlearn: 0.0260906\ttotal: 19.2s\tremaining: 1.97s\n",
            "907:\tlearn: 0.0260751\ttotal: 19.2s\tremaining: 1.95s\n",
            "908:\tlearn: 0.0260592\ttotal: 19.3s\tremaining: 1.93s\n",
            "909:\tlearn: 0.0260467\ttotal: 19.3s\tremaining: 1.91s\n",
            "910:\tlearn: 0.0260352\ttotal: 19.3s\tremaining: 1.89s\n",
            "911:\tlearn: 0.0260243\ttotal: 19.3s\tremaining: 1.87s\n",
            "912:\tlearn: 0.0260127\ttotal: 19.4s\tremaining: 1.85s\n",
            "913:\tlearn: 0.0260015\ttotal: 19.4s\tremaining: 1.83s\n",
            "914:\tlearn: 0.0259842\ttotal: 19.5s\tremaining: 1.81s\n",
            "915:\tlearn: 0.0259705\ttotal: 19.5s\tremaining: 1.78s\n",
            "916:\tlearn: 0.0259566\ttotal: 19.5s\tremaining: 1.77s\n",
            "917:\tlearn: 0.0259490\ttotal: 19.6s\tremaining: 1.75s\n",
            "918:\tlearn: 0.0259377\ttotal: 19.6s\tremaining: 1.73s\n",
            "919:\tlearn: 0.0259254\ttotal: 19.6s\tremaining: 1.7s\n",
            "920:\tlearn: 0.0259077\ttotal: 19.6s\tremaining: 1.68s\n",
            "921:\tlearn: 0.0258964\ttotal: 19.6s\tremaining: 1.66s\n",
            "922:\tlearn: 0.0258874\ttotal: 19.7s\tremaining: 1.64s\n",
            "923:\tlearn: 0.0258758\ttotal: 19.7s\tremaining: 1.62s\n",
            "924:\tlearn: 0.0258624\ttotal: 19.7s\tremaining: 1.6s\n",
            "925:\tlearn: 0.0258544\ttotal: 19.7s\tremaining: 1.58s\n",
            "926:\tlearn: 0.0258385\ttotal: 19.7s\tremaining: 1.55s\n",
            "927:\tlearn: 0.0258283\ttotal: 19.8s\tremaining: 1.53s\n",
            "928:\tlearn: 0.0258194\ttotal: 19.8s\tremaining: 1.51s\n",
            "929:\tlearn: 0.0258067\ttotal: 19.8s\tremaining: 1.49s\n",
            "930:\tlearn: 0.0257937\ttotal: 19.8s\tremaining: 1.47s\n",
            "931:\tlearn: 0.0257796\ttotal: 19.8s\tremaining: 1.45s\n",
            "932:\tlearn: 0.0257678\ttotal: 19.8s\tremaining: 1.42s\n",
            "933:\tlearn: 0.0257585\ttotal: 19.8s\tremaining: 1.4s\n",
            "934:\tlearn: 0.0257458\ttotal: 19.9s\tremaining: 1.38s\n",
            "935:\tlearn: 0.0257334\ttotal: 19.9s\tremaining: 1.36s\n",
            "936:\tlearn: 0.0257190\ttotal: 19.9s\tremaining: 1.34s\n",
            "937:\tlearn: 0.0257071\ttotal: 19.9s\tremaining: 1.31s\n",
            "938:\tlearn: 0.0256963\ttotal: 19.9s\tremaining: 1.29s\n",
            "939:\tlearn: 0.0256838\ttotal: 20s\tremaining: 1.27s\n",
            "940:\tlearn: 0.0256759\ttotal: 20s\tremaining: 1.25s\n",
            "941:\tlearn: 0.0256635\ttotal: 20s\tremaining: 1.23s\n",
            "942:\tlearn: 0.0256497\ttotal: 20.1s\tremaining: 1.21s\n",
            "943:\tlearn: 0.0256390\ttotal: 20.1s\tremaining: 1.19s\n",
            "944:\tlearn: 0.0256279\ttotal: 20.1s\tremaining: 1.17s\n",
            "945:\tlearn: 0.0256120\ttotal: 20.2s\tremaining: 1.15s\n",
            "946:\tlearn: 0.0256023\ttotal: 20.2s\tremaining: 1.13s\n",
            "947:\tlearn: 0.0255925\ttotal: 20.2s\tremaining: 1.11s\n",
            "948:\tlearn: 0.0255830\ttotal: 20.3s\tremaining: 1.09s\n",
            "949:\tlearn: 0.0255751\ttotal: 20.3s\tremaining: 1.07s\n",
            "950:\tlearn: 0.0255613\ttotal: 20.3s\tremaining: 1.05s\n",
            "951:\tlearn: 0.0255452\ttotal: 20.3s\tremaining: 1.02s\n",
            "952:\tlearn: 0.0255344\ttotal: 20.4s\tremaining: 1s\n",
            "953:\tlearn: 0.0255242\ttotal: 20.4s\tremaining: 984ms\n",
            "954:\tlearn: 0.0255156\ttotal: 20.5s\tremaining: 964ms\n",
            "955:\tlearn: 0.0255052\ttotal: 20.5s\tremaining: 943ms\n",
            "956:\tlearn: 0.0254965\ttotal: 20.5s\tremaining: 922ms\n",
            "957:\tlearn: 0.0254832\ttotal: 20.6s\tremaining: 901ms\n",
            "958:\tlearn: 0.0254733\ttotal: 20.6s\tremaining: 879ms\n",
            "959:\tlearn: 0.0254596\ttotal: 20.6s\tremaining: 857ms\n",
            "960:\tlearn: 0.0254513\ttotal: 20.6s\tremaining: 835ms\n",
            "961:\tlearn: 0.0254377\ttotal: 20.6s\tremaining: 815ms\n",
            "962:\tlearn: 0.0254305\ttotal: 20.7s\tremaining: 796ms\n",
            "963:\tlearn: 0.0254208\ttotal: 20.7s\tremaining: 775ms\n",
            "964:\tlearn: 0.0254061\ttotal: 20.8s\tremaining: 754ms\n",
            "965:\tlearn: 0.0253987\ttotal: 20.8s\tremaining: 733ms\n",
            "966:\tlearn: 0.0253856\ttotal: 20.8s\tremaining: 711ms\n",
            "967:\tlearn: 0.0253678\ttotal: 20.9s\tremaining: 690ms\n",
            "968:\tlearn: 0.0253543\ttotal: 20.9s\tremaining: 670ms\n",
            "969:\tlearn: 0.0253474\ttotal: 21s\tremaining: 649ms\n",
            "970:\tlearn: 0.0253379\ttotal: 21s\tremaining: 627ms\n",
            "971:\tlearn: 0.0253318\ttotal: 21s\tremaining: 605ms\n",
            "972:\tlearn: 0.0253224\ttotal: 21s\tremaining: 583ms\n",
            "973:\tlearn: 0.0253124\ttotal: 21s\tremaining: 562ms\n",
            "974:\tlearn: 0.0252992\ttotal: 21.1s\tremaining: 540ms\n",
            "975:\tlearn: 0.0252918\ttotal: 21.1s\tremaining: 518ms\n",
            "976:\tlearn: 0.0252793\ttotal: 21.1s\tremaining: 497ms\n",
            "977:\tlearn: 0.0252631\ttotal: 21.1s\tremaining: 475ms\n",
            "978:\tlearn: 0.0252448\ttotal: 21.2s\tremaining: 454ms\n",
            "979:\tlearn: 0.0252361\ttotal: 21.2s\tremaining: 432ms\n",
            "980:\tlearn: 0.0252278\ttotal: 21.2s\tremaining: 411ms\n",
            "981:\tlearn: 0.0252209\ttotal: 21.3s\tremaining: 390ms\n",
            "982:\tlearn: 0.0252033\ttotal: 21.3s\tremaining: 368ms\n",
            "983:\tlearn: 0.0251940\ttotal: 21.3s\tremaining: 347ms\n",
            "984:\tlearn: 0.0251814\ttotal: 21.4s\tremaining: 325ms\n",
            "985:\tlearn: 0.0251732\ttotal: 21.4s\tremaining: 304ms\n",
            "986:\tlearn: 0.0251638\ttotal: 21.5s\tremaining: 283ms\n",
            "987:\tlearn: 0.0251524\ttotal: 21.5s\tremaining: 261ms\n",
            "988:\tlearn: 0.0251381\ttotal: 21.5s\tremaining: 240ms\n",
            "989:\tlearn: 0.0251274\ttotal: 21.6s\tremaining: 218ms\n",
            "990:\tlearn: 0.0251159\ttotal: 21.7s\tremaining: 197ms\n",
            "991:\tlearn: 0.0251066\ttotal: 21.7s\tremaining: 175ms\n",
            "992:\tlearn: 0.0250967\ttotal: 21.8s\tremaining: 153ms\n",
            "993:\tlearn: 0.0250869\ttotal: 21.8s\tremaining: 132ms\n",
            "994:\tlearn: 0.0250797\ttotal: 21.8s\tremaining: 110ms\n",
            "995:\tlearn: 0.0250694\ttotal: 21.9s\tremaining: 87.9ms\n",
            "996:\tlearn: 0.0250551\ttotal: 22s\tremaining: 66.1ms\n",
            "997:\tlearn: 0.0250408\ttotal: 22s\tremaining: 44.1ms\n",
            "998:\tlearn: 0.0250307\ttotal: 22.1s\tremaining: 22.1ms\n",
            "999:\tlearn: 0.0250229\ttotal: 22.1s\tremaining: 0us\n",
            "MSE: 0.0010533618806928308\n",
            "R2: 0.9989008403047734\n",
            "MAE: 0.020600255749842353\n",
            "CPU times: user 18.3 s, sys: 1.56 s, total: 19.9 s\n",
            "Wall time: 23.5 s\n"
          ]
        }
      ]
    },
    {
      "cell_type": "code",
      "source": [
        "%%time\n",
        "from sklearn.neighbors import KNeighborsRegressor\n",
        "knn=KNeighborsRegressor()\n",
        "knn.fit(X_train, y_train)\n",
        "y_pred = knn.predict(X_test)\n",
        "print(\"MSE:\", mean_squared_error(y_test, y_pred))\n",
        "print(\"R2:\", r2_score(y_test, y_pred))\n",
        "print(\"MAE:\", mean_absolute_error(y_test, y_pred))"
      ],
      "metadata": {
        "colab": {
          "base_uri": "https://localhost:8080/"
        },
        "id": "v_sknxjHL9gD",
        "outputId": "493b20e3-7e94-443f-9658-d63d1874231d"
      },
      "execution_count": 77,
      "outputs": [
        {
          "output_type": "stream",
          "name": "stdout",
          "text": [
            "MSE: 0.013093035570555085\n",
            "R2: 0.9863377085775537\n",
            "MAE: 0.0686565186928492\n",
            "CPU times: user 939 ms, sys: 5.02 ms, total: 944 ms\n",
            "Wall time: 1.41 s\n"
          ]
        }
      ]
    },
    {
      "cell_type": "code",
      "source": [
        "%%time\n",
        "from sklearn.neural_network import MLPRegressor\n",
        "mlp=MLPRegressor()\n",
        "mlp.fit(X_train, y_train)\n",
        "y_pred = mlp.predict(X_test)\n",
        "print(\"MSE:\", mean_squared_error(y_test, y_pred))\n",
        "print(\"R2:\", r2_score(y_test, y_pred))\n",
        "print(\"MAE:\", mean_absolute_error(y_test, y_pred))"
      ],
      "metadata": {
        "colab": {
          "base_uri": "https://localhost:8080/"
        },
        "id": "WtBOS5rZOXzi",
        "outputId": "1822460e-b6fb-424a-8264-65beb7b3c33a"
      },
      "execution_count": 78,
      "outputs": [
        {
          "output_type": "stream",
          "name": "stdout",
          "text": [
            "MSE: 0.00055493505367223\n",
            "R2: 0.9994209376135164\n",
            "MAE: 0.01502842675013479\n",
            "CPU times: user 7.49 s, sys: 7.16 s, total: 14.6 s\n",
            "Wall time: 17 s\n"
          ]
        }
      ]
    },
    {
      "cell_type": "code",
      "source": [
        "from sklearn.linear_model import Ridge\n",
        "ridge=Ridge()\n",
        "ridge.fit(X_train,y_train)\n",
        "y_pred=ridge.predict(X_test)\n",
        "print(ridge.score(X_test,y_test),ridge.score(X_train,y_train))\n",
        "print(\"MSE:\",mean_squared_error(y_test,y_pred))\n",
        "print(\"R2:\",r2_score(y_test,y_pred))\n",
        "print(\"MAE:\",mean_absolute_error(y_test,y_pred))"
      ],
      "metadata": {
        "colab": {
          "base_uri": "https://localhost:8080/"
        },
        "id": "BEK-F_G5B-KR",
        "outputId": "aef3098a-fe4b-4958-d697-e751579c942a"
      },
      "execution_count": 82,
      "outputs": [
        {
          "output_type": "stream",
          "name": "stdout",
          "text": [
            "0.9912212654797272 0.9913942122298146\n",
            "MSE: 0.008412957957371021\n",
            "R2: 0.9912212654797272\n",
            "MAE: 0.0656077002295907\n"
          ]
        }
      ]
    },
    {
      "cell_type": "code",
      "source": [
        "from sklearn.linear_model import Lasso\n",
        "lasso=Lasso()\n",
        "lasso.fit(X_train,y_train)\n",
        "y_pred=lasso.predict(X_test)\n",
        "print(lasso.score(X_test,y_test),lasso.score(X_train,y_train))\n",
        "print(\"MSE:\",mean_squared_error(y_test,y_pred))\n",
        "print(\"R2:\",r2_score(y_test,y_pred))\n",
        "print(\"MAE:\",mean_absolute_error(y_test,y_pred))"
      ],
      "metadata": {
        "colab": {
          "base_uri": "https://localhost:8080/"
        },
        "id": "7vo2mwgDDf2X",
        "outputId": "c0bcd77d-cb82-4117-ac7c-44c3ad81c0b3"
      },
      "execution_count": 83,
      "outputs": [
        {
          "output_type": "stream",
          "name": "stdout",
          "text": [
            "0.5043148561826589 0.5071058959132502\n",
            "MSE: 0.47503182439319275\n",
            "R2: 0.5043148561826589\n",
            "MAE: 0.48987764373633896\n"
          ]
        }
      ]
    },
    {
      "cell_type": "code",
      "source": [
        "from sklearn.linear_model import RidgeCV\n",
        "alphas=[0.01, 0.05, 0.1, 0.2, 0.3, 0.4, 0.5, 1, 5, 10 , 20, 30, 40, 50, 100]\n",
        "ridge_cv=RidgeCV(alphas=alphas)\n",
        "ridge_cv.fit(X_train, y_train)\n",
        "\n",
        "ridge_cv.score(X_train, y_train), ridge_cv.score(X_test, y_test)"
      ],
      "metadata": {
        "colab": {
          "base_uri": "https://localhost:8080/"
        },
        "id": "qT5Qk3U3DAAE",
        "outputId": "15322dde-c4e7-49b0-cfb2-e52e3e987051"
      },
      "execution_count": 84,
      "outputs": [
        {
          "output_type": "execute_result",
          "data": {
            "text/plain": [
              "(0.9913941618406786, 0.9912224896148933)"
            ]
          },
          "metadata": {},
          "execution_count": 84
        }
      ]
    },
    {
      "cell_type": "code",
      "source": [
        "ridge_cv.coef_"
      ],
      "metadata": {
        "colab": {
          "base_uri": "https://localhost:8080/"
        },
        "id": "keem4QNnD3qf",
        "outputId": "41ec489a-8361-441a-d45a-8f4548916f90"
      },
      "execution_count": 85,
      "outputs": [
        {
          "output_type": "execute_result",
          "data": {
            "text/plain": [
              "array([-3.57217104e-01,  3.07047103e-01,  2.60994032e-03,  1.75396282e-02,\n",
              "       -4.75542419e-04, -8.49515397e-02,  1.60447843e-01, -4.49087011e-01,\n",
              "        5.14501096e-01, -2.88614743e-01])"
            ]
          },
          "metadata": {},
          "execution_count": 85
        }
      ]
    },
    {
      "cell_type": "code",
      "source": [
        "ridge_cv.intercept_"
      ],
      "metadata": {
        "colab": {
          "base_uri": "https://localhost:8080/"
        },
        "id": "gs5X-SmsD7BF",
        "outputId": "8cdce9fe-f9c6-4706-f302-d8321c84d0e1"
      },
      "execution_count": 86,
      "outputs": [
        {
          "output_type": "execute_result",
          "data": {
            "text/plain": [
              "4.173755697160124e-05"
            ]
          },
          "metadata": {},
          "execution_count": 86
        }
      ]
    },
    {
      "cell_type": "code",
      "source": [
        "ridge_cv.alpha_"
      ],
      "metadata": {
        "colab": {
          "base_uri": "https://localhost:8080/"
        },
        "id": "vofevyMmD9u0",
        "outputId": "7e2fa521-3aae-4822-e8c2-d2b941fc7745"
      },
      "execution_count": 87,
      "outputs": [
        {
          "output_type": "execute_result",
          "data": {
            "text/plain": [
              "5.0"
            ]
          },
          "metadata": {},
          "execution_count": 87
        }
      ]
    },
    {
      "cell_type": "code",
      "source": [
        "from sklearn.linear_model import LassoCV\n",
        "alphas=[0.01, 0.05, 0.1, 0.2, 0.3, 0.4, 0.5, 1, 5, 10 , 20, 30, 40, 50, 100]\n",
        "lasso_cv=LassoCV(alphas=alphas)\n",
        "lasso_cv.fit(X_train, y_train)\n",
        "\n",
        "lasso_cv.score(X_train, y_train), lasso_cv.score(X_test, y_test)"
      ],
      "metadata": {
        "colab": {
          "base_uri": "https://localhost:8080/"
        },
        "id": "oMYZwg6bD_S4",
        "outputId": "7eb24a0e-be0e-4cae-8861-c94fc8b58101"
      },
      "execution_count": 88,
      "outputs": [
        {
          "output_type": "execute_result",
          "data": {
            "text/plain": [
              "(0.9881427816410452, 0.9881316408404988)"
            ]
          },
          "metadata": {},
          "execution_count": 88
        }
      ]
    },
    {
      "cell_type": "code",
      "source": [
        "ridge_cv.coef_"
      ],
      "metadata": {
        "colab": {
          "base_uri": "https://localhost:8080/"
        },
        "id": "OrBIiI-LEMlt",
        "outputId": "eb1c8531-c145-4e9c-d96a-5927dabba59b"
      },
      "execution_count": 89,
      "outputs": [
        {
          "output_type": "execute_result",
          "data": {
            "text/plain": [
              "array([-3.57217104e-01,  3.07047103e-01,  2.60994032e-03,  1.75396282e-02,\n",
              "       -4.75542419e-04, -8.49515397e-02,  1.60447843e-01, -4.49087011e-01,\n",
              "        5.14501096e-01, -2.88614743e-01])"
            ]
          },
          "metadata": {},
          "execution_count": 89
        }
      ]
    },
    {
      "cell_type": "code",
      "source": [
        "ridge_cv.intercept_"
      ],
      "metadata": {
        "colab": {
          "base_uri": "https://localhost:8080/"
        },
        "id": "Se_hW_PCEPm3",
        "outputId": "293e6c54-4d2d-4bd0-9ae0-7958889e58e6"
      },
      "execution_count": 90,
      "outputs": [
        {
          "output_type": "execute_result",
          "data": {
            "text/plain": [
              "4.173755697160124e-05"
            ]
          },
          "metadata": {},
          "execution_count": 90
        }
      ]
    },
    {
      "cell_type": "code",
      "source": [
        "ridge_cv.alpha_"
      ],
      "metadata": {
        "colab": {
          "base_uri": "https://localhost:8080/"
        },
        "id": "svd4ixbRETOQ",
        "outputId": "f3624741-4d60-4422-b3e5-3fd1fb2fc45a"
      },
      "execution_count": 91,
      "outputs": [
        {
          "output_type": "execute_result",
          "data": {
            "text/plain": [
              "5.0"
            ]
          },
          "metadata": {},
          "execution_count": 91
        }
      ]
    },
    {
      "cell_type": "code",
      "source": [
        "from sklearn.linear_model import ElasticNet\n",
        "\n",
        "elasticnet = ElasticNet(alpha=0.1, l1_ratio=0.5)\n",
        "\n",
        "elasticnet.fit(X_train, y_train)\n",
        "\n",
        "elasticnet.score(X_train, y_train), elasticnet.score(X_test, y_test)\n"
      ],
      "metadata": {
        "colab": {
          "base_uri": "https://localhost:8080/"
        },
        "id": "-YtfuDtUET-w",
        "outputId": "3e4fc706-df6e-44a3-b98e-d8c2afb3e4f0"
      },
      "execution_count": 92,
      "outputs": [
        {
          "output_type": "execute_result",
          "data": {
            "text/plain": [
              "(0.9317723889316345, 0.9297227641391823)"
            ]
          },
          "metadata": {},
          "execution_count": 92
        }
      ]
    },
    {
      "cell_type": "code",
      "source": [
        "from sklearn.tree import DecisionTreeRegressor\n",
        "\n",
        "dt = DecisionTreeRegressor()\n",
        "\n",
        "dt.fit(X_train, y_train)\n",
        "\n",
        "dt.score(X_train, y_train), dt.score(X_test, y_test)"
      ],
      "metadata": {
        "colab": {
          "base_uri": "https://localhost:8080/"
        },
        "id": "KjNatkWhEc3C",
        "outputId": "5876d296-9e27-4d2b-f2e4-9d1ee28a51c1"
      },
      "execution_count": 93,
      "outputs": [
        {
          "output_type": "execute_result",
          "data": {
            "text/plain": [
              "(1.0, 0.9932996977691422)"
            ]
          },
          "metadata": {},
          "execution_count": 93
        }
      ]
    },
    {
      "cell_type": "code",
      "source": [
        "gb.train_score_"
      ],
      "metadata": {
        "colab": {
          "base_uri": "https://localhost:8080/"
        },
        "id": "b-4yrF7yEm8E",
        "outputId": "340c16fb-c659-4ad6-ba02-eeeba473e23c"
      },
      "execution_count": 95,
      "outputs": [
        {
          "output_type": "execute_result",
          "data": {
            "text/plain": [
              "array([0.84366653, 0.70842291, 0.59604784, 0.50496127, 0.42905912,\n",
              "       0.36519871, 0.31266432, 0.26940571, 0.23196629, 0.20061838,\n",
              "       0.17471267, 0.15188797, 0.13323976, 0.11780527, 0.10460024,\n",
              "       0.09244117, 0.08315207, 0.07534972, 0.06871224, 0.06210409,\n",
              "       0.05717639, 0.05228324, 0.04831513, 0.04497226, 0.0419177 ,\n",
              "       0.03869238, 0.03629531, 0.03375811, 0.03169174, 0.02958282,\n",
              "       0.02817064, 0.02688208, 0.02539244, 0.02391767, 0.02287844,\n",
              "       0.02207307, 0.02117062, 0.02041017, 0.01964478, 0.01874757,\n",
              "       0.0181199 , 0.01749607, 0.01684892, 0.01625943, 0.01592866,\n",
              "       0.01542861, 0.01498831, 0.01466089, 0.01417307, 0.0137614 ,\n",
              "       0.01356275, 0.01320174, 0.01291378, 0.01264584, 0.01238787,\n",
              "       0.01216308, 0.0119526 , 0.0118164 , 0.01159478, 0.01143898,\n",
              "       0.0112441 , 0.01108062, 0.01092518, 0.01077233, 0.01062658,\n",
              "       0.01047227, 0.01037693, 0.01028315, 0.01018699, 0.01011144,\n",
              "       0.01002789, 0.00996464, 0.00985141, 0.00969242, 0.00958992,\n",
              "       0.0095264 , 0.00942966, 0.00936203, 0.009193  , 0.00912088,\n",
              "       0.00904962, 0.00893594, 0.00885632, 0.00881294, 0.00873635,\n",
              "       0.00869181, 0.00859561, 0.00852197, 0.00843778, 0.00830144,\n",
              "       0.00826492, 0.00820807, 0.0081757 , 0.00814243, 0.00801932,\n",
              "       0.00795365, 0.00784029, 0.00780886, 0.00776568, 0.00773956])"
            ]
          },
          "metadata": {},
          "execution_count": 95
        }
      ]
    },
    {
      "cell_type": "code",
      "source": [
        "from sklearn.ensemble import GradientBoostingRegressor\n",
        "\n",
        "gb = GradientBoostingRegressor()\n",
        "\n",
        "gb.fit(X_train, y_train)\n",
        "\n",
        "gb.score(X_train, y_train), gb.score(X_test, y_test)"
      ],
      "metadata": {
        "colab": {
          "base_uri": "https://localhost:8080/"
        },
        "id": "PxlXxOo9EgKR",
        "outputId": "ece42a06-faef-4d68-ffc0-9c193aa8aed7"
      },
      "execution_count": 94,
      "outputs": [
        {
          "output_type": "execute_result",
          "data": {
            "text/plain": [
              "(0.9923399011880767, 0.9908611490912668)"
            ]
          },
          "metadata": {},
          "execution_count": 94
        }
      ]
    },
    {
      "cell_type": "code",
      "source": [
        "gb.train_score_"
      ],
      "metadata": {
        "colab": {
          "base_uri": "https://localhost:8080/"
        },
        "id": "3TOnksQ2Ejad",
        "outputId": "329dc8f1-05ab-4ce0-f270-dbf89c1251ff"
      },
      "execution_count": 96,
      "outputs": [
        {
          "output_type": "execute_result",
          "data": {
            "text/plain": [
              "array([0.84366653, 0.70842291, 0.59604784, 0.50496127, 0.42905912,\n",
              "       0.36519871, 0.31266432, 0.26940571, 0.23196629, 0.20061838,\n",
              "       0.17471267, 0.15188797, 0.13323976, 0.11780527, 0.10460024,\n",
              "       0.09244117, 0.08315207, 0.07534972, 0.06871224, 0.06210409,\n",
              "       0.05717639, 0.05228324, 0.04831513, 0.04497226, 0.0419177 ,\n",
              "       0.03869238, 0.03629531, 0.03375811, 0.03169174, 0.02958282,\n",
              "       0.02817064, 0.02688208, 0.02539244, 0.02391767, 0.02287844,\n",
              "       0.02207307, 0.02117062, 0.02041017, 0.01964478, 0.01874757,\n",
              "       0.0181199 , 0.01749607, 0.01684892, 0.01625943, 0.01592866,\n",
              "       0.01542861, 0.01498831, 0.01466089, 0.01417307, 0.0137614 ,\n",
              "       0.01356275, 0.01320174, 0.01291378, 0.01264584, 0.01238787,\n",
              "       0.01216308, 0.0119526 , 0.0118164 , 0.01159478, 0.01143898,\n",
              "       0.0112441 , 0.01108062, 0.01092518, 0.01077233, 0.01062658,\n",
              "       0.01047227, 0.01037693, 0.01028315, 0.01018699, 0.01011144,\n",
              "       0.01002789, 0.00996464, 0.00985141, 0.00969242, 0.00958992,\n",
              "       0.0095264 , 0.00942966, 0.00936203, 0.009193  , 0.00912088,\n",
              "       0.00904962, 0.00893594, 0.00885632, 0.00881294, 0.00873635,\n",
              "       0.00869181, 0.00859561, 0.00852197, 0.00843778, 0.00830144,\n",
              "       0.00826492, 0.00820807, 0.0081757 , 0.00814243, 0.00801932,\n",
              "       0.00795365, 0.00784029, 0.00780886, 0.00776568, 0.00773956])"
            ]
          },
          "metadata": {},
          "execution_count": 96
        }
      ]
    },
    {
      "cell_type": "code",
      "source": [
        "from sklearn.ensemble import ExtraTreesRegressor\n",
        "\n",
        "et = ExtraTreesRegressor()\n",
        "\n",
        "et.fit(X_train, y_train)\n",
        "\n",
        "et.score(X_train, y_train), et.score(X_test, y_test)"
      ],
      "metadata": {
        "colab": {
          "base_uri": "https://localhost:8080/"
        },
        "id": "dUIme7eyEpSV",
        "outputId": "8c3ef2ba-456c-4a33-864e-fec5a3f7647c"
      },
      "execution_count": 97,
      "outputs": [
        {
          "output_type": "execute_result",
          "data": {
            "text/plain": [
              "(1.0, 0.9986002104101416)"
            ]
          },
          "metadata": {},
          "execution_count": 97
        }
      ]
    },
    {
      "cell_type": "code",
      "source": [
        "from sklearn.ensemble import RandomForestRegressor\n",
        "\n",
        "rf = RandomForestRegressor()\n",
        "\n",
        "rf.fit(X_train, y_train)\n",
        "\n",
        "rf.score(X_train, y_train), rf.score(X_test, y_test)"
      ],
      "metadata": {
        "colab": {
          "base_uri": "https://localhost:8080/"
        },
        "id": "J9ly_qj9EssV",
        "outputId": "cb26a9bd-6bab-43b8-987e-ac89e793a94f"
      },
      "execution_count": 98,
      "outputs": [
        {
          "output_type": "execute_result",
          "data": {
            "text/plain": [
              "(0.9996556657509862, 0.9973134202574895)"
            ]
          },
          "metadata": {},
          "execution_count": 98
        }
      ]
    },
    {
      "cell_type": "code",
      "source": [
        "from sklearn.neighbors import KNeighborsRegressor\n",
        "\n",
        "knn = KNeighborsRegressor()\n",
        "\n",
        "knn.fit(X_train, y_train)\n",
        "\n",
        "knn.score(X_train, y_train), knn.score(X_test, y_test)"
      ],
      "metadata": {
        "colab": {
          "base_uri": "https://localhost:8080/"
        },
        "id": "b2l559V0EwP-",
        "outputId": "744f8dbf-2e7e-4ad6-8b92-8e3d288ffba7"
      },
      "execution_count": 99,
      "outputs": [
        {
          "output_type": "execute_result",
          "data": {
            "text/plain": [
              "(0.9916709971880614, 0.9863377085775537)"
            ]
          },
          "metadata": {},
          "execution_count": 99
        }
      ]
    }
  ]
}