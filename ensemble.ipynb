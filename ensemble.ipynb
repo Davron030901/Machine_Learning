{
  "cells": [
    {
      "cell_type": "markdown",
      "metadata": {
        "id": "view-in-github",
        "colab_type": "text"
      },
      "source": [
        "<a href=\"https://colab.research.google.com/github/Davron030901/Machine_Learning/blob/main/ensemble.ipynb\" target=\"_parent\"><img src=\"https://colab.research.google.com/assets/colab-badge.svg\" alt=\"Open In Colab\"/></a>"
      ]
    },
    {
      "cell_type": "code",
      "execution_count": null,
      "metadata": {
        "colab": {
          "base_uri": "https://localhost:8080/"
        },
        "id": "YZdiimdTVhex",
        "outputId": "7874852b-b180-4fe9-9495-b94be3259fee"
      },
      "outputs": [
        {
          "name": "stdout",
          "output_type": "stream",
          "text": [
            "Collecting ucimlrepo\n",
            "  Downloading ucimlrepo-0.0.7-py3-none-any.whl.metadata (5.5 kB)\n",
            "Requirement already satisfied: pandas>=1.0.0 in /usr/local/lib/python3.11/dist-packages (from ucimlrepo) (2.2.2)\n",
            "Requirement already satisfied: certifi>=2020.12.5 in /usr/local/lib/python3.11/dist-packages (from ucimlrepo) (2025.1.31)\n",
            "Requirement already satisfied: numpy>=1.23.2 in /usr/local/lib/python3.11/dist-packages (from pandas>=1.0.0->ucimlrepo) (1.26.4)\n",
            "Requirement already satisfied: python-dateutil>=2.8.2 in /usr/local/lib/python3.11/dist-packages (from pandas>=1.0.0->ucimlrepo) (2.8.2)\n",
            "Requirement already satisfied: pytz>=2020.1 in /usr/local/lib/python3.11/dist-packages (from pandas>=1.0.0->ucimlrepo) (2025.1)\n",
            "Requirement already satisfied: tzdata>=2022.7 in /usr/local/lib/python3.11/dist-packages (from pandas>=1.0.0->ucimlrepo) (2025.1)\n",
            "Requirement already satisfied: six>=1.5 in /usr/local/lib/python3.11/dist-packages (from python-dateutil>=2.8.2->pandas>=1.0.0->ucimlrepo) (1.17.0)\n",
            "Downloading ucimlrepo-0.0.7-py3-none-any.whl (8.0 kB)\n",
            "Installing collected packages: ucimlrepo\n",
            "Successfully installed ucimlrepo-0.0.7\n"
          ]
        }
      ],
      "source": [
        "!pip install ucimlrepo"
      ]
    },
    {
      "cell_type": "code",
      "execution_count": null,
      "metadata": {
        "id": "HbHCVhC3XRGR"
      },
      "outputs": [],
      "source": [
        "from ucimlrepo import fetch_ucirepo\n",
        "import pandas as pd\n",
        "\n",
        "# fetch dataset\n",
        "adult = fetch_ucirepo(id=2)\n",
        "\n",
        "# data (as pandas dataframes)\n",
        "X = adult.data.features\n",
        "y = adult.data.targets"
      ]
    },
    {
      "cell_type": "code",
      "execution_count": null,
      "metadata": {
        "colab": {
          "base_uri": "https://localhost:8080/"
        },
        "id": "MSeHKdXdAoeJ",
        "outputId": "d4dc5b62-4e3c-4fb4-f0e2-d790921f919a"
      },
      "outputs": [
        {
          "name": "stderr",
          "output_type": "stream",
          "text": [
            "<ipython-input-3-1b81378997f7>:1: FutureWarning: Downcasting behavior in `replace` is deprecated and will be removed in a future version. To retain the old behavior, explicitly call `result.infer_objects(copy=False)`. To opt-in to the future behavior, set `pd.set_option('future.no_silent_downcasting', True)`\n",
            "  y['income'] = y['income'].replace({\n",
            "<ipython-input-3-1b81378997f7>:1: SettingWithCopyWarning: \n",
            "A value is trying to be set on a copy of a slice from a DataFrame.\n",
            "Try using .loc[row_indexer,col_indexer] = value instead\n",
            "\n",
            "See the caveats in the documentation: https://pandas.pydata.org/pandas-docs/stable/user_guide/indexing.html#returning-a-view-versus-a-copy\n",
            "  y['income'] = y['income'].replace({\n"
          ]
        }
      ],
      "source": [
        "y['income'] = y['income'].replace({\n",
        "    '>50K.': 1,\n",
        "    '<=50K.': 0,\n",
        "    '>50K': 1,\n",
        "    '<=50K': 0\n",
        "})"
      ]
    },
    {
      "cell_type": "code",
      "execution_count": null,
      "metadata": {
        "id": "gDyp_A0wP4ZM"
      },
      "outputs": [],
      "source": [
        "Data=pd.concat([X, y], axis=1)"
      ]
    },
    {
      "cell_type": "code",
      "execution_count": null,
      "metadata": {
        "id": "8VCSCodDKOR4"
      },
      "outputs": [],
      "source": [
        "Data.drop_duplicates(inplace=True)"
      ]
    },
    {
      "cell_type": "code",
      "execution_count": null,
      "metadata": {
        "id": "cw6KE3syPLAh"
      },
      "outputs": [],
      "source": [
        "Data.dropna(inplace=True)"
      ]
    },
    {
      "cell_type": "code",
      "execution_count": null,
      "metadata": {
        "colab": {
          "base_uri": "https://localhost:8080/"
        },
        "id": "hl-NzDqjOtRx",
        "outputId": "1cc26d8c-09f1-41ce-a89e-de1ccc38affe"
      },
      "outputs": [
        {
          "name": "stdout",
          "output_type": "stream",
          "text": [
            "<class 'pandas.core.frame.DataFrame'>\n",
            "Index: 47573 entries, 0 to 48841\n",
            "Data columns (total 15 columns):\n",
            " #   Column          Non-Null Count  Dtype \n",
            "---  ------          --------------  ----- \n",
            " 0   age             47573 non-null  int64 \n",
            " 1   workclass       47573 non-null  object\n",
            " 2   fnlwgt          47573 non-null  int64 \n",
            " 3   education       47573 non-null  object\n",
            " 4   education-num   47573 non-null  int64 \n",
            " 5   marital-status  47573 non-null  object\n",
            " 6   occupation      47573 non-null  object\n",
            " 7   relationship    47573 non-null  object\n",
            " 8   race            47573 non-null  object\n",
            " 9   sex             47573 non-null  object\n",
            " 10  capital-gain    47573 non-null  int64 \n",
            " 11  capital-loss    47573 non-null  int64 \n",
            " 12  hours-per-week  47573 non-null  int64 \n",
            " 13  native-country  47573 non-null  object\n",
            " 14  income          47573 non-null  int64 \n",
            "dtypes: int64(7), object(8)\n",
            "memory usage: 5.8+ MB\n"
          ]
        }
      ],
      "source": [
        "Data.info()"
      ]
    },
    {
      "cell_type": "code",
      "execution_count": null,
      "metadata": {
        "colab": {
          "base_uri": "https://localhost:8080/"
        },
        "id": "qOEbGR0dN5u0",
        "outputId": "44b92b63-9775-4310-f4ad-b7522193deb2"
      },
      "outputs": [
        {
          "data": {
            "text/plain": [
              "Index(['age', 'workclass', 'fnlwgt', 'education', 'education-num',\n",
              "       'marital-status', 'occupation', 'relationship', 'race', 'sex',\n",
              "       'capital-gain', 'capital-loss', 'hours-per-week', 'native-country',\n",
              "       'income'],\n",
              "      dtype='object')"
            ]
          },
          "execution_count": 8,
          "metadata": {},
          "output_type": "execute_result"
        }
      ],
      "source": [
        "Data.columns"
      ]
    },
    {
      "cell_type": "code",
      "execution_count": null,
      "metadata": {
        "colab": {
          "base_uri": "https://localhost:8080/"
        },
        "id": "i39iBnxmQVxU",
        "outputId": "a18f7b60-97b0-4641-a988-4eaa2bd7d702"
      },
      "outputs": [
        {
          "data": {
            "text/plain": [
              "['Not-in-family',\n",
              " 'Husband',\n",
              " 'Wife',\n",
              " 'Own-child',\n",
              " 'Unmarried',\n",
              " 'Other-relative']"
            ]
          },
          "execution_count": 9,
          "metadata": {},
          "output_type": "execute_result"
        }
      ],
      "source": [
        "col=list(Data['relationship'].unique())\n",
        "col"
      ]
    },
    {
      "cell_type": "code",
      "execution_count": null,
      "metadata": {
        "id": "yvgCRbYeMkw7"
      },
      "outputs": [],
      "source": [
        "import pandas as pd\n",
        "import numpy as np\n",
        "from sklearn.preprocessing import OneHotEncoder, OrdinalEncoder, StandardScaler\n",
        "from sklearn.compose import ColumnTransformer\n",
        "from sklearn.pipeline import Pipeline\n",
        "\n",
        "\n",
        "onehot_columns = ['workclass', 'occupation', 'race', 'native-country']\n",
        "ordinal_columns = ['education', 'marital-status', 'relationship', 'sex']\n",
        "numerical_columns = ['age', 'fnlwgt', 'education-num', 'capital-gain',\n",
        "                     'capital-loss', 'hours-per-week']\n",
        "\n",
        "target_column = 'income'\n",
        "\n",
        "education_categories = [\n",
        "    'Preschool', '1st-4th', '5th-6th', '7th-8th', '9th', '10th', '11th', '12th',\n",
        "    'HS-grad', 'Some-college', 'Assoc-voc', 'Assoc-acdm', 'Bachelors', 'Masters',\n",
        "    'Prof-school', 'Doctorate'\n",
        "]\n",
        "\n",
        "marital_categories = [\n",
        "    'Never-married', 'Married-civ-spouse', 'Married-AF-spouse',\n",
        "    'Married-spouse-absent', 'Separated', 'Divorced', 'Widowed'\n",
        "]\n",
        "\n",
        "relationship_categories = [\n",
        "    'Own-child', 'Other-relative', 'Not-in-family', 'Unmarried', 'Husband', 'Wife'\n",
        "]\n",
        "\n",
        "sex_categories = ['Female', 'Male']\n",
        "\n",
        "ordinal_categories = [\n",
        "    education_categories if col == 'education' else\n",
        "    marital_categories if col == 'marital-status' else\n",
        "    relationship_categories if col == 'relationship' else\n",
        "    sex_categories if col == 'sex' else 'auto'\n",
        "    for col in ordinal_columns\n",
        "]\n",
        "\n",
        "preprocessor = ColumnTransformer(\n",
        "    transformers=[\n",
        "        ('num', StandardScaler(), numerical_columns),\n",
        "        ('ord', OrdinalEncoder(categories=ordinal_categories), ordinal_columns),\n",
        "        ('cat', OneHotEncoder(sparse_output=False, drop='first'), onehot_columns)\n",
        "    ],\n",
        "    remainder='drop')\n",
        "\n",
        "\n",
        "X = Data.drop(columns=[target_column], errors='ignore')\n",
        "transformed_data = preprocessor.fit_transform(X)\n",
        "\n",
        "numerical_column_names = [f\"{col}_scaled\" for col in numerical_columns]\n",
        "\n",
        "ordinal_column_names = [f\"{col}_ordinal\" for col in ordinal_columns]\n",
        "\n",
        "onehot_encoder = preprocessor.named_transformers_['cat']\n",
        "onehot_column_names = onehot_encoder.get_feature_names_out(onehot_columns)\n",
        "\n",
        "all_column_names = numerical_column_names + ordinal_column_names + list(onehot_column_names)\n",
        "\n",
        "transformed_Data = pd.DataFrame(transformed_data, columns=all_column_names, index=X.index)\n",
        "\n",
        "if target_column in Data.columns:\n",
        "    transformed_Data[target_column] = Data[target_column].values"
      ]
    },
    {
      "cell_type": "code",
      "execution_count": null,
      "metadata": {
        "colab": {
          "base_uri": "https://localhost:8080/",
          "height": 290
        },
        "id": "Sejw44Y6QlUT",
        "outputId": "61747d86-3563-4758-c9ea-09146624885a"
      },
      "outputs": [
        {
          "data": {
            "application/vnd.google.colaboratory.intrinsic+json": {
              "type": "dataframe",
              "variable_name": "transformed_Data"
            },
            "text/html": [
              "\n",
              "  <div id=\"df-2d737a03-41ed-424b-83d3-5e386c40f4af\" class=\"colab-df-container\">\n",
              "    <div>\n",
              "<style scoped>\n",
              "    .dataframe tbody tr th:only-of-type {\n",
              "        vertical-align: middle;\n",
              "    }\n",
              "\n",
              "    .dataframe tbody tr th {\n",
              "        vertical-align: top;\n",
              "    }\n",
              "\n",
              "    .dataframe thead th {\n",
              "        text-align: right;\n",
              "    }\n",
              "</style>\n",
              "<table border=\"1\" class=\"dataframe\">\n",
              "  <thead>\n",
              "    <tr style=\"text-align: right;\">\n",
              "      <th></th>\n",
              "      <th>age_scaled</th>\n",
              "      <th>fnlwgt_scaled</th>\n",
              "      <th>education-num_scaled</th>\n",
              "      <th>capital-gain_scaled</th>\n",
              "      <th>capital-loss_scaled</th>\n",
              "      <th>hours-per-week_scaled</th>\n",
              "      <th>education_ordinal</th>\n",
              "      <th>marital-status_ordinal</th>\n",
              "      <th>relationship_ordinal</th>\n",
              "      <th>sex_ordinal</th>\n",
              "      <th>...</th>\n",
              "      <th>native-country_Puerto-Rico</th>\n",
              "      <th>native-country_Scotland</th>\n",
              "      <th>native-country_South</th>\n",
              "      <th>native-country_Taiwan</th>\n",
              "      <th>native-country_Thailand</th>\n",
              "      <th>native-country_Trinadad&amp;Tobago</th>\n",
              "      <th>native-country_United-States</th>\n",
              "      <th>native-country_Vietnam</th>\n",
              "      <th>native-country_Yugoslavia</th>\n",
              "      <th>income</th>\n",
              "    </tr>\n",
              "  </thead>\n",
              "  <tbody>\n",
              "    <tr>\n",
              "      <th>0</th>\n",
              "      <td>0.025908</td>\n",
              "      <td>-1.062834</td>\n",
              "      <td>1.132870</td>\n",
              "      <td>0.144411</td>\n",
              "      <td>-0.217571</td>\n",
              "      <td>-0.049262</td>\n",
              "      <td>12.0</td>\n",
              "      <td>0.0</td>\n",
              "      <td>2.0</td>\n",
              "      <td>1.0</td>\n",
              "      <td>...</td>\n",
              "      <td>0.0</td>\n",
              "      <td>0.0</td>\n",
              "      <td>0.0</td>\n",
              "      <td>0.0</td>\n",
              "      <td>0.0</td>\n",
              "      <td>0.0</td>\n",
              "      <td>1.0</td>\n",
              "      <td>0.0</td>\n",
              "      <td>0.0</td>\n",
              "      <td>0</td>\n",
              "    </tr>\n",
              "    <tr>\n",
              "      <th>1</th>\n",
              "      <td>0.837306</td>\n",
              "      <td>-1.007948</td>\n",
              "      <td>1.132870</td>\n",
              "      <td>-0.145810</td>\n",
              "      <td>-0.217571</td>\n",
              "      <td>-2.251382</td>\n",
              "      <td>12.0</td>\n",
              "      <td>1.0</td>\n",
              "      <td>4.0</td>\n",
              "      <td>1.0</td>\n",
              "      <td>...</td>\n",
              "      <td>0.0</td>\n",
              "      <td>0.0</td>\n",
              "      <td>0.0</td>\n",
              "      <td>0.0</td>\n",
              "      <td>0.0</td>\n",
              "      <td>0.0</td>\n",
              "      <td>1.0</td>\n",
              "      <td>0.0</td>\n",
              "      <td>0.0</td>\n",
              "      <td>0</td>\n",
              "    </tr>\n",
              "    <tr>\n",
              "      <th>2</th>\n",
              "      <td>-0.047856</td>\n",
              "      <td>0.245441</td>\n",
              "      <td>-0.425211</td>\n",
              "      <td>-0.145810</td>\n",
              "      <td>-0.217571</td>\n",
              "      <td>-0.049262</td>\n",
              "      <td>8.0</td>\n",
              "      <td>5.0</td>\n",
              "      <td>2.0</td>\n",
              "      <td>1.0</td>\n",
              "      <td>...</td>\n",
              "      <td>0.0</td>\n",
              "      <td>0.0</td>\n",
              "      <td>0.0</td>\n",
              "      <td>0.0</td>\n",
              "      <td>0.0</td>\n",
              "      <td>0.0</td>\n",
              "      <td>1.0</td>\n",
              "      <td>0.0</td>\n",
              "      <td>0.0</td>\n",
              "      <td>0</td>\n",
              "    </tr>\n",
              "    <tr>\n",
              "      <th>3</th>\n",
              "      <td>1.058596</td>\n",
              "      <td>0.426106</td>\n",
              "      <td>-1.204251</td>\n",
              "      <td>-0.145810</td>\n",
              "      <td>-0.217571</td>\n",
              "      <td>-0.049262</td>\n",
              "      <td>6.0</td>\n",
              "      <td>1.0</td>\n",
              "      <td>4.0</td>\n",
              "      <td>1.0</td>\n",
              "      <td>...</td>\n",
              "      <td>0.0</td>\n",
              "      <td>0.0</td>\n",
              "      <td>0.0</td>\n",
              "      <td>0.0</td>\n",
              "      <td>0.0</td>\n",
              "      <td>0.0</td>\n",
              "      <td>1.0</td>\n",
              "      <td>0.0</td>\n",
              "      <td>0.0</td>\n",
              "      <td>0</td>\n",
              "    </tr>\n",
              "    <tr>\n",
              "      <th>4</th>\n",
              "      <td>-0.785490</td>\n",
              "      <td>1.408170</td>\n",
              "      <td>1.132870</td>\n",
              "      <td>-0.145810</td>\n",
              "      <td>-0.217571</td>\n",
              "      <td>-0.049262</td>\n",
              "      <td>12.0</td>\n",
              "      <td>1.0</td>\n",
              "      <td>5.0</td>\n",
              "      <td>0.0</td>\n",
              "      <td>...</td>\n",
              "      <td>0.0</td>\n",
              "      <td>0.0</td>\n",
              "      <td>0.0</td>\n",
              "      <td>0.0</td>\n",
              "      <td>0.0</td>\n",
              "      <td>0.0</td>\n",
              "      <td>0.0</td>\n",
              "      <td>0.0</td>\n",
              "      <td>0.0</td>\n",
              "      <td>0</td>\n",
              "    </tr>\n",
              "  </tbody>\n",
              "</table>\n",
              "<p>5 rows × 78 columns</p>\n",
              "</div>\n",
              "    <div class=\"colab-df-buttons\">\n",
              "\n",
              "  <div class=\"colab-df-container\">\n",
              "    <button class=\"colab-df-convert\" onclick=\"convertToInteractive('df-2d737a03-41ed-424b-83d3-5e386c40f4af')\"\n",
              "            title=\"Convert this dataframe to an interactive table.\"\n",
              "            style=\"display:none;\">\n",
              "\n",
              "  <svg xmlns=\"http://www.w3.org/2000/svg\" height=\"24px\" viewBox=\"0 -960 960 960\">\n",
              "    <path d=\"M120-120v-720h720v720H120Zm60-500h600v-160H180v160Zm220 220h160v-160H400v160Zm0 220h160v-160H400v160ZM180-400h160v-160H180v160Zm440 0h160v-160H620v160ZM180-180h160v-160H180v160Zm440 0h160v-160H620v160Z\"/>\n",
              "  </svg>\n",
              "    </button>\n",
              "\n",
              "  <style>\n",
              "    .colab-df-container {\n",
              "      display:flex;\n",
              "      gap: 12px;\n",
              "    }\n",
              "\n",
              "    .colab-df-convert {\n",
              "      background-color: #E8F0FE;\n",
              "      border: none;\n",
              "      border-radius: 50%;\n",
              "      cursor: pointer;\n",
              "      display: none;\n",
              "      fill: #1967D2;\n",
              "      height: 32px;\n",
              "      padding: 0 0 0 0;\n",
              "      width: 32px;\n",
              "    }\n",
              "\n",
              "    .colab-df-convert:hover {\n",
              "      background-color: #E2EBFA;\n",
              "      box-shadow: 0px 1px 2px rgba(60, 64, 67, 0.3), 0px 1px 3px 1px rgba(60, 64, 67, 0.15);\n",
              "      fill: #174EA6;\n",
              "    }\n",
              "\n",
              "    .colab-df-buttons div {\n",
              "      margin-bottom: 4px;\n",
              "    }\n",
              "\n",
              "    [theme=dark] .colab-df-convert {\n",
              "      background-color: #3B4455;\n",
              "      fill: #D2E3FC;\n",
              "    }\n",
              "\n",
              "    [theme=dark] .colab-df-convert:hover {\n",
              "      background-color: #434B5C;\n",
              "      box-shadow: 0px 1px 3px 1px rgba(0, 0, 0, 0.15);\n",
              "      filter: drop-shadow(0px 1px 2px rgba(0, 0, 0, 0.3));\n",
              "      fill: #FFFFFF;\n",
              "    }\n",
              "  </style>\n",
              "\n",
              "    <script>\n",
              "      const buttonEl =\n",
              "        document.querySelector('#df-2d737a03-41ed-424b-83d3-5e386c40f4af button.colab-df-convert');\n",
              "      buttonEl.style.display =\n",
              "        google.colab.kernel.accessAllowed ? 'block' : 'none';\n",
              "\n",
              "      async function convertToInteractive(key) {\n",
              "        const element = document.querySelector('#df-2d737a03-41ed-424b-83d3-5e386c40f4af');\n",
              "        const dataTable =\n",
              "          await google.colab.kernel.invokeFunction('convertToInteractive',\n",
              "                                                    [key], {});\n",
              "        if (!dataTable) return;\n",
              "\n",
              "        const docLinkHtml = 'Like what you see? Visit the ' +\n",
              "          '<a target=\"_blank\" href=https://colab.research.google.com/notebooks/data_table.ipynb>data table notebook</a>'\n",
              "          + ' to learn more about interactive tables.';\n",
              "        element.innerHTML = '';\n",
              "        dataTable['output_type'] = 'display_data';\n",
              "        await google.colab.output.renderOutput(dataTable, element);\n",
              "        const docLink = document.createElement('div');\n",
              "        docLink.innerHTML = docLinkHtml;\n",
              "        element.appendChild(docLink);\n",
              "      }\n",
              "    </script>\n",
              "  </div>\n",
              "\n",
              "\n",
              "<div id=\"df-e5ce83fd-1d1a-4bd4-9a1f-eae415006d41\">\n",
              "  <button class=\"colab-df-quickchart\" onclick=\"quickchart('df-e5ce83fd-1d1a-4bd4-9a1f-eae415006d41')\"\n",
              "            title=\"Suggest charts\"\n",
              "            style=\"display:none;\">\n",
              "\n",
              "<svg xmlns=\"http://www.w3.org/2000/svg\" height=\"24px\"viewBox=\"0 0 24 24\"\n",
              "     width=\"24px\">\n",
              "    <g>\n",
              "        <path d=\"M19 3H5c-1.1 0-2 .9-2 2v14c0 1.1.9 2 2 2h14c1.1 0 2-.9 2-2V5c0-1.1-.9-2-2-2zM9 17H7v-7h2v7zm4 0h-2V7h2v10zm4 0h-2v-4h2v4z\"/>\n",
              "    </g>\n",
              "</svg>\n",
              "  </button>\n",
              "\n",
              "<style>\n",
              "  .colab-df-quickchart {\n",
              "      --bg-color: #E8F0FE;\n",
              "      --fill-color: #1967D2;\n",
              "      --hover-bg-color: #E2EBFA;\n",
              "      --hover-fill-color: #174EA6;\n",
              "      --disabled-fill-color: #AAA;\n",
              "      --disabled-bg-color: #DDD;\n",
              "  }\n",
              "\n",
              "  [theme=dark] .colab-df-quickchart {\n",
              "      --bg-color: #3B4455;\n",
              "      --fill-color: #D2E3FC;\n",
              "      --hover-bg-color: #434B5C;\n",
              "      --hover-fill-color: #FFFFFF;\n",
              "      --disabled-bg-color: #3B4455;\n",
              "      --disabled-fill-color: #666;\n",
              "  }\n",
              "\n",
              "  .colab-df-quickchart {\n",
              "    background-color: var(--bg-color);\n",
              "    border: none;\n",
              "    border-radius: 50%;\n",
              "    cursor: pointer;\n",
              "    display: none;\n",
              "    fill: var(--fill-color);\n",
              "    height: 32px;\n",
              "    padding: 0;\n",
              "    width: 32px;\n",
              "  }\n",
              "\n",
              "  .colab-df-quickchart:hover {\n",
              "    background-color: var(--hover-bg-color);\n",
              "    box-shadow: 0 1px 2px rgba(60, 64, 67, 0.3), 0 1px 3px 1px rgba(60, 64, 67, 0.15);\n",
              "    fill: var(--button-hover-fill-color);\n",
              "  }\n",
              "\n",
              "  .colab-df-quickchart-complete:disabled,\n",
              "  .colab-df-quickchart-complete:disabled:hover {\n",
              "    background-color: var(--disabled-bg-color);\n",
              "    fill: var(--disabled-fill-color);\n",
              "    box-shadow: none;\n",
              "  }\n",
              "\n",
              "  .colab-df-spinner {\n",
              "    border: 2px solid var(--fill-color);\n",
              "    border-color: transparent;\n",
              "    border-bottom-color: var(--fill-color);\n",
              "    animation:\n",
              "      spin 1s steps(1) infinite;\n",
              "  }\n",
              "\n",
              "  @keyframes spin {\n",
              "    0% {\n",
              "      border-color: transparent;\n",
              "      border-bottom-color: var(--fill-color);\n",
              "      border-left-color: var(--fill-color);\n",
              "    }\n",
              "    20% {\n",
              "      border-color: transparent;\n",
              "      border-left-color: var(--fill-color);\n",
              "      border-top-color: var(--fill-color);\n",
              "    }\n",
              "    30% {\n",
              "      border-color: transparent;\n",
              "      border-left-color: var(--fill-color);\n",
              "      border-top-color: var(--fill-color);\n",
              "      border-right-color: var(--fill-color);\n",
              "    }\n",
              "    40% {\n",
              "      border-color: transparent;\n",
              "      border-right-color: var(--fill-color);\n",
              "      border-top-color: var(--fill-color);\n",
              "    }\n",
              "    60% {\n",
              "      border-color: transparent;\n",
              "      border-right-color: var(--fill-color);\n",
              "    }\n",
              "    80% {\n",
              "      border-color: transparent;\n",
              "      border-right-color: var(--fill-color);\n",
              "      border-bottom-color: var(--fill-color);\n",
              "    }\n",
              "    90% {\n",
              "      border-color: transparent;\n",
              "      border-bottom-color: var(--fill-color);\n",
              "    }\n",
              "  }\n",
              "</style>\n",
              "\n",
              "  <script>\n",
              "    async function quickchart(key) {\n",
              "      const quickchartButtonEl =\n",
              "        document.querySelector('#' + key + ' button');\n",
              "      quickchartButtonEl.disabled = true;  // To prevent multiple clicks.\n",
              "      quickchartButtonEl.classList.add('colab-df-spinner');\n",
              "      try {\n",
              "        const charts = await google.colab.kernel.invokeFunction(\n",
              "            'suggestCharts', [key], {});\n",
              "      } catch (error) {\n",
              "        console.error('Error during call to suggestCharts:', error);\n",
              "      }\n",
              "      quickchartButtonEl.classList.remove('colab-df-spinner');\n",
              "      quickchartButtonEl.classList.add('colab-df-quickchart-complete');\n",
              "    }\n",
              "    (() => {\n",
              "      let quickchartButtonEl =\n",
              "        document.querySelector('#df-e5ce83fd-1d1a-4bd4-9a1f-eae415006d41 button');\n",
              "      quickchartButtonEl.style.display =\n",
              "        google.colab.kernel.accessAllowed ? 'block' : 'none';\n",
              "    })();\n",
              "  </script>\n",
              "</div>\n",
              "\n",
              "    </div>\n",
              "  </div>\n"
            ],
            "text/plain": [
              "   age_scaled  fnlwgt_scaled  education-num_scaled  capital-gain_scaled  \\\n",
              "0    0.025908      -1.062834              1.132870             0.144411   \n",
              "1    0.837306      -1.007948              1.132870            -0.145810   \n",
              "2   -0.047856       0.245441             -0.425211            -0.145810   \n",
              "3    1.058596       0.426106             -1.204251            -0.145810   \n",
              "4   -0.785490       1.408170              1.132870            -0.145810   \n",
              "\n",
              "   capital-loss_scaled  hours-per-week_scaled  education_ordinal  \\\n",
              "0            -0.217571              -0.049262               12.0   \n",
              "1            -0.217571              -2.251382               12.0   \n",
              "2            -0.217571              -0.049262                8.0   \n",
              "3            -0.217571              -0.049262                6.0   \n",
              "4            -0.217571              -0.049262               12.0   \n",
              "\n",
              "   marital-status_ordinal  relationship_ordinal  sex_ordinal  ...  \\\n",
              "0                     0.0                   2.0          1.0  ...   \n",
              "1                     1.0                   4.0          1.0  ...   \n",
              "2                     5.0                   2.0          1.0  ...   \n",
              "3                     1.0                   4.0          1.0  ...   \n",
              "4                     1.0                   5.0          0.0  ...   \n",
              "\n",
              "   native-country_Puerto-Rico  native-country_Scotland  native-country_South  \\\n",
              "0                         0.0                      0.0                   0.0   \n",
              "1                         0.0                      0.0                   0.0   \n",
              "2                         0.0                      0.0                   0.0   \n",
              "3                         0.0                      0.0                   0.0   \n",
              "4                         0.0                      0.0                   0.0   \n",
              "\n",
              "   native-country_Taiwan  native-country_Thailand  \\\n",
              "0                    0.0                      0.0   \n",
              "1                    0.0                      0.0   \n",
              "2                    0.0                      0.0   \n",
              "3                    0.0                      0.0   \n",
              "4                    0.0                      0.0   \n",
              "\n",
              "   native-country_Trinadad&Tobago  native-country_United-States  \\\n",
              "0                             0.0                           1.0   \n",
              "1                             0.0                           1.0   \n",
              "2                             0.0                           1.0   \n",
              "3                             0.0                           1.0   \n",
              "4                             0.0                           0.0   \n",
              "\n",
              "   native-country_Vietnam  native-country_Yugoslavia  income  \n",
              "0                     0.0                        0.0       0  \n",
              "1                     0.0                        0.0       0  \n",
              "2                     0.0                        0.0       0  \n",
              "3                     0.0                        0.0       0  \n",
              "4                     0.0                        0.0       0  \n",
              "\n",
              "[5 rows x 78 columns]"
            ]
          },
          "execution_count": 11,
          "metadata": {},
          "output_type": "execute_result"
        }
      ],
      "source": [
        "transformed_Data.head()"
      ]
    },
    {
      "cell_type": "code",
      "execution_count": null,
      "metadata": {
        "id": "gUSU7yb9Vcer"
      },
      "outputs": [],
      "source": [
        "X=transformed_Data.drop(columns=['income'])\n",
        "y=transformed_Data['income']"
      ]
    },
    {
      "cell_type": "code",
      "execution_count": null,
      "metadata": {
        "colab": {
          "base_uri": "https://localhost:8080/"
        },
        "id": "avBnmEW6W6dw",
        "outputId": "1be662e2-41d4-4857-954a-e3bfc832ccf5"
      },
      "outputs": [
        {
          "name": "stdout",
          "output_type": "stream",
          "text": [
            "Requirement already satisfied: xgboost in /usr/local/lib/python3.11/dist-packages (2.1.4)\n",
            "Requirement already satisfied: numpy in /usr/local/lib/python3.11/dist-packages (from xgboost) (1.26.4)\n",
            "Requirement already satisfied: nvidia-nccl-cu12 in /usr/local/lib/python3.11/dist-packages (from xgboost) (2.21.5)\n",
            "Requirement already satisfied: scipy in /usr/local/lib/python3.11/dist-packages (from xgboost) (1.13.1)\n"
          ]
        }
      ],
      "source": [
        "!pip install xgboost"
      ]
    },
    {
      "cell_type": "code",
      "execution_count": null,
      "metadata": {
        "id": "GyIYHRCoVRTT"
      },
      "outputs": [],
      "source": [
        "from sklearn.ensemble import VotingClassifier\n",
        "from sklearn.model_selection import train_test_split\n",
        "from xgboost import XGBClassifier\n",
        "from sklearn.linear_model import LogisticRegression\n",
        "from sklearn.ensemble import RandomForestClassifier\n",
        "from sklearn.neural_network import MLPClassifier\n",
        "from sklearn.svm import SVC\n",
        "from sklearn.metrics import classification_report,accuracy_score\n",
        "import matplotlib.pyplot as plt"
      ]
    },
    {
      "cell_type": "code",
      "execution_count": null,
      "metadata": {
        "id": "r5onFZ0ZCaYD"
      },
      "outputs": [],
      "source": [
        "X_train, X_test, y_train, y_test = train_test_split(X, y, test_size=0.2, random_state=42)"
      ]
    },
    {
      "cell_type": "code",
      "execution_count": null,
      "metadata": {
        "colab": {
          "base_uri": "https://localhost:8080/"
        },
        "id": "IeexDjKecZNO",
        "outputId": "dd7481f6-12a5-4c86-f0ac-679d37ffd9d8"
      },
      "outputs": [
        {
          "name": "stdout",
          "output_type": "stream",
          "text": [
            "              precision    recall  f1-score   support\n",
            "\n",
            "           0       0.89      0.94      0.91      7106\n",
            "           1       0.79      0.66      0.72      2409\n",
            "\n",
            "    accuracy                           0.87      9515\n",
            "   macro avg       0.84      0.80      0.82      9515\n",
            "weighted avg       0.86      0.87      0.86      9515\n",
            "\n"
          ]
        }
      ],
      "source": [
        "xgbc=XGBClassifier(n_estimators=100, learning_rate=0.1)\n",
        "xgbc.fit(X_train, y_train)\n",
        "y_pred=xgbc.predict(X_test)\n",
        "print(classification_report(y_test, y_pred))"
      ]
    },
    {
      "cell_type": "code",
      "execution_count": null,
      "metadata": {
        "colab": {
          "base_uri": "https://localhost:8080/"
        },
        "id": "3ArnGXQkCsrL",
        "outputId": "1c95e3c9-50e6-4fa8-ce6f-c305b60fcb4c"
      },
      "outputs": [
        {
          "name": "stdout",
          "output_type": "stream",
          "text": [
            "              precision    recall  f1-score   support\n",
            "\n",
            "           0       0.87      0.93      0.90      7106\n",
            "           1       0.75      0.60      0.66      2409\n",
            "\n",
            "    accuracy                           0.85      9515\n",
            "   macro avg       0.81      0.76      0.78      9515\n",
            "weighted avg       0.84      0.85      0.84      9515\n",
            "\n"
          ]
        }
      ],
      "source": [
        "lr=LogisticRegression(max_iter=1000)\n",
        "lr.fit(X_train, y_train)\n",
        "y_pred=lr.predict(X_test)\n",
        "print(classification_report(y_test, y_pred))"
      ]
    },
    {
      "cell_type": "code",
      "execution_count": null,
      "metadata": {
        "colab": {
          "base_uri": "https://localhost:8080/"
        },
        "id": "Cy4OacQkJ4zd",
        "outputId": "f12078ed-5014-4c1e-f8d9-43482c7c7514"
      },
      "outputs": [
        {
          "name": "stdout",
          "output_type": "stream",
          "text": [
            "              precision    recall  f1-score   support\n",
            "\n",
            "           0       0.88      0.92      0.90      7106\n",
            "           1       0.74      0.62      0.68      2409\n",
            "\n",
            "    accuracy                           0.85      9515\n",
            "   macro avg       0.81      0.77      0.79      9515\n",
            "weighted avg       0.84      0.85      0.84      9515\n",
            "\n"
          ]
        }
      ],
      "source": [
        "rfc=RandomForestClassifier(n_estimators=100)\n",
        "rfc.fit(X_train, y_train)\n",
        "y_pred=rfc.predict(X_test)\n",
        "print(classification_report(y_test, y_pred))"
      ]
    },
    {
      "cell_type": "code",
      "execution_count": null,
      "metadata": {
        "colab": {
          "base_uri": "https://localhost:8080/"
        },
        "id": "gshfZi-0J-0D",
        "outputId": "25cffbe1-2609-412f-8172-91693006c22a"
      },
      "outputs": [
        {
          "name": "stdout",
          "output_type": "stream",
          "text": [
            "              precision    recall  f1-score   support\n",
            "\n",
            "           0       0.87      0.94      0.90      7106\n",
            "           1       0.77      0.57      0.65      2409\n",
            "\n",
            "    accuracy                           0.85      9515\n",
            "   macro avg       0.82      0.76      0.78      9515\n",
            "weighted avg       0.84      0.85      0.84      9515\n",
            "\n"
          ]
        }
      ],
      "source": [
        "svc=SVC(kernel='rbf', C=1.0,probability=True)\n",
        "svc.fit(X_train, y_train)\n",
        "y_pred=svc.predict(X_test)\n",
        "print(classification_report(y_test, y_pred))"
      ]
    },
    {
      "cell_type": "code",
      "execution_count": null,
      "metadata": {
        "colab": {
          "base_uri": "https://localhost:8080/"
        },
        "id": "zwkyIacyKDZF",
        "outputId": "6e8222d7-b225-4ba8-f0bc-f40c7a8ce292"
      },
      "outputs": [
        {
          "name": "stdout",
          "output_type": "stream",
          "text": [
            "              precision    recall  f1-score   support\n",
            "\n",
            "           0       0.86      0.93      0.90      7106\n",
            "           1       0.75      0.57      0.65      2409\n",
            "\n",
            "    accuracy                           0.84      9515\n",
            "   macro avg       0.81      0.75      0.77      9515\n",
            "weighted avg       0.83      0.84      0.83      9515\n",
            "\n"
          ]
        }
      ],
      "source": [
        "mlp = MLPClassifier(hidden_layer_sizes=(100,), max_iter=1000, activation='relu', solver='adam')\n",
        "mlp.fit(X_train, y_train)\n",
        "y_pred = mlp.predict(X_test)\n",
        "\n",
        "print(classification_report(y_test, y_pred))"
      ]
    },
    {
      "cell_type": "code",
      "execution_count": null,
      "metadata": {
        "colab": {
          "base_uri": "https://localhost:8080/"
        },
        "id": "nj732b8sqM53",
        "outputId": "9053428b-46ad-4886-fae8-f8641aa8ffcf"
      },
      "outputs": [
        {
          "name": "stdout",
          "output_type": "stream",
          "text": [
            "Individual Model Performance:\n",
            "------------------------------\n",
            "LogisticRegression Accuracy: 0.8468\n",
            "              precision    recall  f1-score   support\n",
            "\n",
            "           0       0.87      0.93      0.90      7106\n",
            "           1       0.75      0.60      0.66      2409\n",
            "\n",
            "    accuracy                           0.85      9515\n",
            "   macro avg       0.81      0.76      0.78      9515\n",
            "weighted avg       0.84      0.85      0.84      9515\n",
            "\n",
            "------------------------------\n",
            "RandomForestClassifier Accuracy: 0.8472\n",
            "              precision    recall  f1-score   support\n",
            "\n",
            "           0       0.88      0.92      0.90      7106\n",
            "           1       0.73      0.62      0.67      2409\n",
            "\n",
            "    accuracy                           0.85      9515\n",
            "   macro avg       0.81      0.77      0.79      9515\n",
            "weighted avg       0.84      0.85      0.84      9515\n",
            "\n",
            "------------------------------\n",
            "XGBClassifier Accuracy: 0.8687\n",
            "              precision    recall  f1-score   support\n",
            "\n",
            "           0       0.89      0.94      0.91      7106\n",
            "           1       0.79      0.66      0.72      2409\n",
            "\n",
            "    accuracy                           0.87      9515\n",
            "   macro avg       0.84      0.80      0.82      9515\n",
            "weighted avg       0.86      0.87      0.86      9515\n",
            "\n",
            "------------------------------\n",
            "MLPClassifier Accuracy: 0.8397\n",
            "              precision    recall  f1-score   support\n",
            "\n",
            "           0       0.88      0.91      0.89      7106\n",
            "           1       0.70      0.63      0.67      2409\n",
            "\n",
            "    accuracy                           0.84      9515\n",
            "   macro avg       0.79      0.77      0.78      9515\n",
            "weighted avg       0.84      0.84      0.84      9515\n",
            "\n",
            "------------------------------\n",
            "SVC Accuracy: 0.8474\n",
            "              precision    recall  f1-score   support\n",
            "\n",
            "           0       0.87      0.94      0.90      7106\n",
            "           1       0.77      0.57      0.65      2409\n",
            "\n",
            "    accuracy                           0.85      9515\n",
            "   macro avg       0.82      0.76      0.78      9515\n",
            "weighted avg       0.84      0.85      0.84      9515\n",
            "\n",
            "------------------------------\n"
          ]
        }
      ],
      "source": [
        "models = {\n",
        "    'LogisticRegression': lr,\n",
        "    'RandomForestClassifier': rfc,\n",
        "    'XGBClassifier': xgbc,\n",
        "    'MLPClassifier': mlp,\n",
        "    'SVC': svc\n",
        "}\n",
        "\n",
        "print(\"Individual Model Performance:\")\n",
        "print(\"-\" * 30)\n",
        "individual_accuracies = {}\n",
        "\n",
        "for name, model in models.items():\n",
        "    model.fit(X_train, y_train)\n",
        "    y_pred = model.predict(X_test)\n",
        "    accuracy = accuracy_score(y_test, y_pred)\n",
        "    individual_accuracies[name] = accuracy\n",
        "    print(f\"{name} Accuracy: {accuracy:.4f}\")\n",
        "    print(classification_report(y_test, y_pred))\n",
        "    print(\"-\" * 30)"
      ]
    },
    {
      "cell_type": "code",
      "execution_count": null,
      "metadata": {
        "id": "vxSXRLodqXSb"
      },
      "outputs": [],
      "source": [
        "hard_voting = VotingClassifier(\n",
        "    estimators=[\n",
        "        ('lr', lr),\n",
        "        ('rf', rfc),\n",
        "        ('xgb', xgbc),\n",
        "        ('mlp', mlp),\n",
        "        ('svc', svc)\n",
        "    ],\n",
        "    voting='hard'\n",
        ")\n",
        "\n",
        "soft_voting = VotingClassifier(\n",
        "    estimators=[\n",
        "        ('lr', lr),\n",
        "        ('rf', rfc),\n",
        "        ('xgb', xgbc),\n",
        "        ('mlp', mlp),\n",
        "        ('svc', svc)\n",
        "    ],\n",
        "    voting='soft'\n",
        ")"
      ]
    },
    {
      "cell_type": "code",
      "execution_count": null,
      "metadata": {
        "colab": {
          "base_uri": "https://localhost:8080/"
        },
        "id": "f_nJiLkGqcnp",
        "outputId": "3768661d-5c6d-4202-e695-a665341fce94"
      },
      "outputs": [
        {
          "name": "stdout",
          "output_type": "stream",
          "text": [
            "Hard Voting Ensemble Performance:\n",
            "------------------------------\n",
            "Accuracy: 0.8581\n",
            "              precision    recall  f1-score   support\n",
            "\n",
            "           0       0.88      0.94      0.91      7106\n",
            "           1       0.77      0.63      0.69      2409\n",
            "\n",
            "    accuracy                           0.86      9515\n",
            "   macro avg       0.83      0.78      0.80      9515\n",
            "weighted avg       0.85      0.86      0.85      9515\n",
            "\n",
            "------------------------------\n"
          ]
        }
      ],
      "source": [
        "hard_voting.fit(X_train, y_train)\n",
        "hard_pred = hard_voting.predict(X_test)\n",
        "hard_accuracy = accuracy_score(y_test, hard_pred)\n",
        "\n",
        "print(\"Hard Voting Ensemble Performance:\")\n",
        "print(\"-\" * 30)\n",
        "print(f\"Accuracy: {hard_accuracy:.4f}\")\n",
        "print(classification_report(y_test, hard_pred))\n",
        "print(\"-\" * 30)"
      ]
    },
    {
      "cell_type": "code",
      "execution_count": null,
      "metadata": {
        "colab": {
          "base_uri": "https://localhost:8080/"
        },
        "id": "UQzarHVkqiaw",
        "outputId": "da2ab855-b25f-49b3-f2e1-cf7abd5895ec"
      },
      "outputs": [
        {
          "name": "stdout",
          "output_type": "stream",
          "text": [
            "Soft Voting Ensemble Performance:\n",
            "------------------------------\n",
            "Accuracy: 0.8590\n",
            "              precision    recall  f1-score   support\n",
            "\n",
            "           0       0.88      0.95      0.91      7106\n",
            "           1       0.79      0.60      0.68      2409\n",
            "\n",
            "    accuracy                           0.86      9515\n",
            "   macro avg       0.83      0.77      0.80      9515\n",
            "weighted avg       0.85      0.86      0.85      9515\n",
            "\n",
            "------------------------------\n"
          ]
        }
      ],
      "source": [
        "soft_voting.fit(X_train, y_train)\n",
        "soft_pred = soft_voting.predict(X_test)\n",
        "soft_accuracy = accuracy_score(y_test, soft_pred)\n",
        "\n",
        "print(\"Soft Voting Ensemble Performance:\")\n",
        "print(\"-\" * 30)\n",
        "print(f\"Accuracy: {soft_accuracy:.4f}\")\n",
        "print(classification_report(y_test, soft_pred))\n",
        "print(\"-\" * 30)"
      ]
    },
    {
      "cell_type": "code",
      "execution_count": null,
      "metadata": {
        "colab": {
          "base_uri": "https://localhost:8080/",
          "height": 432
        },
        "id": "uaSpyfQya9-n",
        "outputId": "f2fac27e-8255-45d2-b1a4-72712799dbcb"
      },
      "outputs": [
        {
          "data": {
            "image/png": "[encoded data removed]",
            "text/plain": [
              "<Figure size 1200x600 with 1 Axes>"
            ]
          },
          "metadata": {},
          "output_type": "display_data"
        }
      ],
      "source": [
        "accuracies = {**individual_accuracies, 'Hard Voting': hard_accuracy, 'Soft Voting': soft_accuracy}\n",
        "models_df = pd.DataFrame({'Model': list(accuracies.keys()), 'Accuracy': list(accuracies.values())})\n",
        "models_df = models_df.sort_values('Accuracy', ascending=False).reset_index(drop=True)\n",
        "\n",
        "plt.figure(figsize=(12, 6))\n",
        "plt.bar(models_df['Model'], models_df['Accuracy'], color='skyblue')\n",
        "plt.xlabel('Models')\n",
        "plt.ylabel('Accuracy')\n",
        "plt.title('Model Comparison')\n",
        "plt.xticks(rotation=45)\n",
        "plt.ylim(min(accuracies.values()) - 0.05, max(accuracies.values()) + 0.05)\n",
        "for i, v in enumerate(models_df['Accuracy']):\n",
        "    plt.text(i, v + 0.01, f\"{v:.4f}\", ha='center')\n",
        "plt.tight_layout()\n",
        "plt.show()"
      ]
    },
    {
      "cell_type": "code",
      "execution_count": null,
      "metadata": {
        "colab": {
          "base_uri": "https://localhost:8080/"
        },
        "id": "pJO2ezgzqsJ_",
        "outputId": "e5bbf6eb-1f32-40dd-d21f-5379c5867557"
      },
      "outputs": [
        {
          "name": "stdout",
          "output_type": "stream",
          "text": [
            "Weighted Soft Voting Ensemble Performance:\n",
            "------------------------------\n",
            "Accuracy: 0.8627\n",
            "              precision    recall  f1-score   support\n",
            "\n",
            "           0       0.88      0.94      0.91      7106\n",
            "           1       0.78      0.64      0.70      2409\n",
            "\n",
            "    accuracy                           0.86      9515\n",
            "   macro avg       0.83      0.79      0.81      9515\n",
            "weighted avg       0.86      0.86      0.86      9515\n",
            "\n"
          ]
        }
      ],
      "source": [
        "weighted_soft_voting = VotingClassifier(\n",
        "    estimators=[\n",
        "        ('lr', lr),\n",
        "        ('rf', rfc),\n",
        "        ('xgb', xgbc),\n",
        "        ('mlp', mlp),\n",
        "        ('svc', svc)\n",
        "    ],\n",
        "    voting='soft',\n",
        "    weights=[1, 2, 2, 1, 1]\n",
        ")\n",
        "\n",
        "weighted_soft_voting.fit(X_train, y_train)\n",
        "weighted_soft_pred = weighted_soft_voting.predict(X_test)\n",
        "weighted_soft_accuracy = accuracy_score(y_test, weighted_soft_pred)\n",
        "\n",
        "print(\"Weighted Soft Voting Ensemble Performance:\")\n",
        "print(\"-\" * 30)\n",
        "print(f\"Accuracy: {weighted_soft_accuracy:.4f}\")\n",
        "print(classification_report(y_test, weighted_soft_pred))"
      ]
    },
    {
      "cell_type": "code",
      "execution_count": null,
      "metadata": {
        "colab": {
          "base_uri": "https://localhost:8080/"
        },
        "id": "dxGDIZpSCLev",
        "outputId": "d9ea8dbc-2f51-424b-9b6d-9ada7f7b4ffc"
      },
      "outputs": [
        {
          "name": "stdout",
          "output_type": "stream",
          "text": [
            "LogisticRegression Performance:\n",
            "------------------------------\n",
            "MaxAvrg: 1.0000\n",
            "Avrg: 0.2478\n",
            "WeightAvrg: 0.2478\n",
            "------------------------------\n",
            "RandomForestClassifier Performance:\n",
            "------------------------------\n",
            "MaxAvrg: 1.0000\n",
            "Avrg: 0.2508\n",
            "WeightAvrg: 0.2508\n",
            "------------------------------\n",
            "XGBClassifier Performance:\n",
            "------------------------------\n",
            "MaxAvrg: 0.9990\n",
            "Avrg: 0.2492\n",
            "WeightAvrg: 0.2492\n",
            "------------------------------\n",
            "MLPClassifier Performance:\n",
            "------------------------------\n",
            "MaxAvrg: 1.0000\n",
            "Avrg: 0.2638\n",
            "WeightAvrg: 0.2638\n",
            "------------------------------\n",
            "SVC Performance:\n",
            "------------------------------\n",
            "MaxAvrg: 1.0000\n",
            "Avrg: 0.2509\n",
            "WeightAvrg: 0.2509\n",
            "------------------------------\n"
          ]
        }
      ],
      "source": [
        "results = {}\n",
        "\n",
        "for name, model in models.items():\n",
        "    model.fit(X_train, y_train)\n",
        "\n",
        "    probs = model.predict_proba(X_test)[:, 1]\n",
        "\n",
        "    max_avg = np.mean(np.max(probs))\n",
        "    avg = np.mean(probs)\n",
        "\n",
        "    weights = np.ones_like(probs) / len(probs)\n",
        "    weight_avg = np.average(probs, weights=weights)\n",
        "\n",
        "    results[name] = {\n",
        "        'MaxAvrg': max_avg,\n",
        "        'Avrg': avg,\n",
        "        'WeightAvrg': weight_avg\n",
        "    }\n",
        "\n",
        "for model_name, metrics in results.items():\n",
        "    print(f\"{model_name} Performance:\")\n",
        "    print(\"-\" * 30)\n",
        "    print(f\"MaxAvrg: {metrics['MaxAvrg']:.4f}\")\n",
        "    print(f\"Avrg: {metrics['Avrg']:.4f}\")\n",
        "    print(f\"WeightAvrg: {metrics['WeightAvrg']:.4f}\")\n",
        "    print(\"-\" * 30)"
      ]
    },
    {
      "cell_type": "code",
      "execution_count": null,
      "metadata": {
        "colab": {
          "base_uri": "https://localhost:8080/"
        },
        "id": "RM5_ZfhmMaCu",
        "outputId": "a8e930c0-1946-450d-8977-a8ea19db7206"
      },
      "outputs": [
        {
          "name": "stdout",
          "output_type": "stream",
          "text": [
            "Combined Performance Across All Models:\n",
            "----------------------------------------\n",
            "MaxAvrg: 0.3345\n",
            "Avrg: 0.2463\n",
            "WeightAvrg: 0.2463\n",
            "----------------------------------------\n"
          ]
        }
      ],
      "source": [
        "all_probs = []\n",
        "\n",
        "for name, model in models.items():\n",
        "    model.fit(X_train, y_train)\n",
        "\n",
        "    probs = model.predict_proba(X_test)[:, 1]\n",
        "    all_probs.append(probs)\n",
        "\n",
        "all_probs = np.array(all_probs).T\n",
        "\n",
        "combined_probs = np.mean(all_probs, axis=1)\n",
        "\n",
        "max_avg = np.mean(np.max(all_probs, axis=1))\n",
        "avg = np.mean(combined_probs)\n",
        "weights = np.ones_like(combined_probs) / len(combined_probs)\n",
        "weight_avg = np.average(combined_probs, weights=weights)\n",
        "\n",
        "print(\"Combined Performance Across All Models:\")\n",
        "print(\"-\" * 40)\n",
        "print(f\"MaxAvrg: {max_avg:.4f}\")\n",
        "print(f\"Avrg: {avg:.4f}\")\n",
        "print(f\"WeightAvrg: {weight_avg:.4f}\")\n",
        "print(\"-\" * 40)"
      ]
    },
    {
      "cell_type": "code",
      "execution_count": null,
      "metadata": {
        "colab": {
          "background_save": true
        },
        "id": "hYpd6NexNSl-",
        "outputId": "63fba998-cc2b-4d26-edb3-a53bad03ce1e"
      },
      "outputs": [
        {
          "name": "stdout",
          "output_type": "stream",
          "text": [
            "\n",
            "===== Individual Model Performance =====\n",
            "LogisticRegression:\n",
            "  Accuracy: 0.8468\n",
            "  Precision: 0.7457\n",
            "  Recall: 0.5990\n",
            "  F1 Score: 0.6644\n",
            "RandomForestClassifier:\n",
            "  Accuracy: 0.8467\n",
            "  Precision: 0.7331\n",
            "  Recall: 0.6202\n",
            "  F1 Score: 0.6719\n",
            "XGBClassifier:\n",
            "  Accuracy: 0.8687\n",
            "  Precision: 0.7886\n",
            "  Recall: 0.6579\n",
            "  F1 Score: 0.7174\n",
            "MLPClassifier:\n",
            "  Accuracy: 0.8357\n",
            "  Precision: 0.6728\n",
            "  Recall: 0.6837\n",
            "  F1 Score: 0.6782\n",
            "SVC:\n",
            "  Accuracy: 0.8474\n",
            "  Precision: 0.7669\n",
            "  Recall: 0.5708\n",
            "  F1 Score: 0.6545\n",
            "\n",
            "===== Ensemble Methods =====\n",
            "MaxAvrg (Maximum Average):\n",
            "  Accuracy: 0.8357\n",
            "  Precision: 0.6445\n",
            "  Recall: 0.7833\n",
            "  F1 Score: 0.7071\n",
            "\n",
            "Avrg (Simple Average):\n",
            "  Accuracy: 0.8583\n",
            "  Precision: 0.7683\n",
            "  Recall: 0.6306\n",
            "  F1 Score: 0.6927\n",
            "\n",
            "WeightAvrg (Weighted Average):\n",
            "  Accuracy: 0.8637\n",
            "  Precision: 0.7819\n",
            "  Recall: 0.6401\n",
            "  F1 Score: 0.7039\n"
          ]
        },
        {
          "data": {
            "image/png": "[encoded data removed]",
            "text/plain": [
              "<Figure size 1400x800 with 4 Axes>"
            ]
          },
          "metadata": {},
          "output_type": "display_data"
        },
        {
          "name": "stdout",
          "output_type": "stream",
          "text": [
            "\n",
            "Results sorted by accuracy:\n",
            "                   Method  Accuracy  Precision    Recall  F1 Score\n",
            "0           XGBClassifier  0.868734   0.788557  0.657949  0.717357\n",
            "1              WeightAvrg  0.863689   0.781947  0.640100  0.703949\n",
            "2                    Avrg  0.858329   0.768336  0.630552  0.692658\n",
            "3                     SVC  0.847399   0.766871  0.570776  0.654450\n",
            "4      LogisticRegression  0.846768   0.745736  0.599004  0.664365\n",
            "5  RandomForestClassifier  0.846663   0.733072  0.620174  0.671914\n",
            "6                 MaxAvrg  0.835733   0.644467  0.783313  0.707139\n",
            "7           MLPClassifier  0.835733   0.672794  0.683686  0.678196\n"
          ]
        }
      ],
      "source": [
        "from sklearn.metrics import accuracy_score, precision_score, recall_score, f1_score\n",
        "\n",
        "predictions = {}\n",
        "probabilities = {}\n",
        "\n",
        "for name, model in models.items():\n",
        "    model.fit(X_train, y_train)\n",
        "    predictions[name] = model.predict(X_test)\n",
        "\n",
        "    if len(np.unique(y_train)) == 2:\n",
        "        probabilities[name] = model.predict_proba(X_test)[:, 1]\n",
        "    else:\n",
        "        probabilities[name] = model.predict_proba(X_test)\n",
        "\n",
        "if len(np.unique(y_train)) == 2:\n",
        "    all_probs = np.column_stack([probabilities[name] for name in models.keys()])\n",
        "\n",
        "    max_probs = np.max(all_probs, axis=1)\n",
        "\n",
        "    max_avrg_preds = (max_probs > 0.5).astype(int)\n",
        "\n",
        "    max_avrg_accuracy = accuracy_score(y_test, max_avrg_preds)\n",
        "    max_avrg_precision = precision_score(y_test, max_avrg_preds, average='binary')\n",
        "    max_avrg_recall = recall_score(y_test, max_avrg_preds, average='binary')\n",
        "    max_avrg_f1 = f1_score(y_test, max_avrg_preds, average='binary')\n",
        "else:\n",
        "    all_class_preds = np.array([np.argmax(prob, axis=1) for name, prob in probabilities.items()]).T\n",
        "\n",
        "    n_classes = len(np.unique(y_train))\n",
        "    max_votes = np.zeros((len(y_test), n_classes))\n",
        "\n",
        "    for i in range(len(y_test)):\n",
        "        for j in range(n_classes):\n",
        "            max_votes[i, j] = np.sum(all_class_preds[i] == j)\n",
        "\n",
        "    max_avrg_preds = np.argmax(max_votes, axis=1)\n",
        "\n",
        "    max_avrg_accuracy = accuracy_score(y_test, max_avrg_preds)\n",
        "    max_avrg_precision = precision_score(y_test, max_avrg_preds, average='weighted')\n",
        "    max_avrg_recall = recall_score(y_test, max_avrg_preds, average='weighted')\n",
        "    max_avrg_f1 = f1_score(y_test, max_avrg_preds, average='weighted')\n",
        "\n",
        "if len(np.unique(y_train)) == 2:\n",
        "    avg_probs = np.mean(all_probs, axis=1)\n",
        "\n",
        "    avg_preds = (avg_probs > 0.5).astype(int)\n",
        "\n",
        "    avg_accuracy = accuracy_score(y_test, avg_preds)\n",
        "    avg_precision = precision_score(y_test, avg_preds, average='binary')\n",
        "    avg_recall = recall_score(y_test, avg_preds, average='binary')\n",
        "    avg_f1 = f1_score(y_test, avg_preds, average='binary')\n",
        "else:\n",
        "    avg_probs = np.zeros((len(y_test), n_classes))\n",
        "\n",
        "    for name, prob in probabilities.items():\n",
        "        avg_probs += prob\n",
        "\n",
        "    avg_probs /= len(models)\n",
        "\n",
        "    avg_preds = np.argmax(avg_probs, axis=1)\n",
        "\n",
        "    avg_accuracy = accuracy_score(y_test, avg_preds)\n",
        "    avg_precision = precision_score(y_test, avg_preds, average='weighted')\n",
        "    avg_recall = recall_score(y_test, avg_preds, average='weighted')\n",
        "    avg_f1 = f1_score(y_test, avg_preds, average='weighted')\n",
        "\n",
        "weights = {\n",
        "    'LogisticRegression': 1.0,\n",
        "    'RandomForestClassifier': 2.0,\n",
        "    'XGBClassifier': 2.0,\n",
        "    'MLPClassifier': 1.0,\n",
        "    'SVC': 1.0\n",
        "}\n",
        "\n",
        "total_weight = sum(weights.values())\n",
        "normalized_weights = {model: weight/total_weight for model, weight in weights.items()}\n",
        "\n",
        "if len(np.unique(y_train)) == 2:\n",
        "    weighted_avg_probs = np.zeros(len(y_test))\n",
        "\n",
        "    for name, prob in probabilities.items():\n",
        "        weighted_avg_probs += prob * normalized_weights[name]\n",
        "\n",
        "    weighted_avg_preds = (weighted_avg_probs > 0.5).astype(int)\n",
        "\n",
        "    weighted_avg_accuracy = accuracy_score(y_test, weighted_avg_preds)\n",
        "    weighted_avg_precision = precision_score(y_test, weighted_avg_preds, average='binary')\n",
        "    weighted_avg_recall = recall_score(y_test, weighted_avg_preds, average='binary')\n",
        "    weighted_avg_f1 = f1_score(y_test, weighted_avg_preds, average='binary')\n",
        "else:\n",
        "    weighted_avg_probs = np.zeros((len(y_test), n_classes))\n",
        "\n",
        "    for name, prob in probabilities.items():\n",
        "        weighted_avg_probs += prob * normalized_weights[name]\n",
        "\n",
        "    weighted_avg_preds = np.argmax(weighted_avg_probs, axis=1)\n",
        "\n",
        "    weighted_avg_accuracy = accuracy_score(y_test, weighted_avg_preds)\n",
        "    weighted_avg_precision = precision_score(y_test, weighted_avg_preds, average='weighted')\n",
        "    weighted_avg_recall = recall_score(y_test, weighted_avg_preds, average='weighted')\n",
        "    weighted_avg_f1 = f1_score(y_test, weighted_avg_preds, average='weighted')\n",
        "\n",
        "print(\"\\n===== Individual Model Performance =====\")\n",
        "for name in models.keys():\n",
        "    print(f\"{name}:\")\n",
        "    print(f\"  Accuracy: {accuracy_score(y_test, predictions[name]):.4f}\")\n",
        "    if len(np.unique(y_train)) == 2:\n",
        "        print(f\"  Precision: {precision_score(y_test, predictions[name], average='binary'):.4f}\")\n",
        "        print(f\"  Recall: {recall_score(y_test, predictions[name], average='binary'):.4f}\")\n",
        "        print(f\"  F1 Score: {f1_score(y_test, predictions[name], average='binary'):.4f}\")\n",
        "    else:\n",
        "        print(f\"  Precision: {precision_score(y_test, predictions[name], average='weighted'):.4f}\")\n",
        "        print(f\"  Recall: {recall_score(y_test, predictions[name], average='weighted'):.4f}\")\n",
        "        print(f\"  F1 Score: {f1_score(y_test, predictions[name], average='weighted'):.4f}\")\n",
        "\n",
        "print(\"\\n===== Ensemble Methods =====\")\n",
        "print(\"MaxAvrg (Maximum Average):\")\n",
        "print(f\"  Accuracy: {max_avrg_accuracy:.4f}\")\n",
        "print(f\"  Precision: {max_avrg_precision:.4f}\")\n",
        "print(f\"  Recall: {max_avrg_recall:.4f}\")\n",
        "print(f\"  F1 Score: {max_avrg_f1:.4f}\")\n",
        "\n",
        "print(\"\\nAvrg (Simple Average):\")\n",
        "print(f\"  Accuracy: {avg_accuracy:.4f}\")\n",
        "print(f\"  Precision: {avg_precision:.4f}\")\n",
        "print(f\"  Recall: {avg_recall:.4f}\")\n",
        "print(f\"  F1 Score: {avg_f1:.4f}\")\n",
        "\n",
        "print(\"\\nWeightAvrg (Weighted Average):\")\n",
        "print(f\"  Accuracy: {weighted_avg_accuracy:.4f}\")\n",
        "print(f\"  Precision: {weighted_avg_precision:.4f}\")\n",
        "print(f\"  Recall: {weighted_avg_recall:.4f}\")\n",
        "print(f\"  F1 Score: {weighted_avg_f1:.4f}\")\n",
        "\n",
        "import matplotlib.pyplot as plt\n",
        "import pandas as pd\n",
        "\n",
        "methods = ['MaxAvrg', 'Avrg', 'WeightAvrg'] + list(models.keys())\n",
        "accuracies = [max_avrg_accuracy, avg_accuracy, weighted_avg_accuracy] + [accuracy_score(y_test, predictions[name]) for name in models.keys()]\n",
        "precisions = [max_avrg_precision, avg_precision, weighted_avg_precision] + [precision_score(y_test, predictions[name], average='weighted' if len(np.unique(y_train)) > 2 else 'binary') for name in models.keys()]\n",
        "recalls = [max_avrg_recall, avg_recall, weighted_avg_recall] + [recall_score(y_test, predictions[name], average='weighted' if len(np.unique(y_train)) > 2 else 'binary') for name in models.keys()]\n",
        "f1_scores = [max_avrg_f1, avg_f1, weighted_avg_f1] + [f1_score(y_test, predictions[name], average='weighted' if len(np.unique(y_train)) > 2 else 'binary') for name in models.keys()]\n",
        "\n",
        "results_df = pd.DataFrame({\n",
        "    'Method': methods,\n",
        "    'Accuracy': accuracies,\n",
        "    'Precision': precisions,\n",
        "    'Recall': recalls,\n",
        "    'F1 Score': f1_scores\n",
        "})\n",
        "\n",
        "colors = ['lightblue', 'lightblue', 'lightblue'] + ['lightgray'] * len(models)\n",
        "\n",
        "plt.figure(figsize=(14, 8))\n",
        "\n",
        "plt.subplot(2, 2, 1)\n",
        "plt.bar(methods, accuracies, color=colors)\n",
        "plt.title('Accuracy')\n",
        "plt.xticks(rotation=45)\n",
        "plt.ylim(0.5, 1.0)\n",
        "\n",
        "plt.subplot(2, 2, 2)\n",
        "plt.bar(methods, precisions, color=colors)\n",
        "plt.title('Precision')\n",
        "plt.xticks(rotation=45)\n",
        "plt.ylim(0.5, 1.0)\n",
        "\n",
        "plt.subplot(2, 2, 3)\n",
        "plt.bar(methods, recalls, color=colors)\n",
        "plt.title('Recall')\n",
        "plt.xticks(rotation=45)\n",
        "plt.ylim(0.5, 1.0)\n",
        "\n",
        "plt.subplot(2, 2, 4)\n",
        "plt.bar(methods, f1_scores, color=colors)\n",
        "plt.title('F1 Score')\n",
        "plt.xticks(rotation=45)\n",
        "plt.ylim(0.5, 1.0)\n",
        "\n",
        "plt.tight_layout()\n",
        "plt.show()\n",
        "\n",
        "print(\"\\nResults sorted by accuracy:\")\n",
        "print(results_df.sort_values('Accuracy', ascending=False).reset_index(drop=True))"
      ]
    },
    {
      "cell_type": "code",
      "source": [
        "grid = [[9,1,7],[8,9,2],[3,4,6]]\n",
        "all_nums=[num for row in grid for num in row]\n",
        "all_nums.sort()\n",
        "all_nums"
      ],
      "metadata": {
        "colab": {
          "base_uri": "https://localhost:8080/"
        },
        "id": "roAwwXssE36z",
        "outputId": "5d0e256e-6fe0-425c-e89d-a2ce9199268e"
      },
      "execution_count": null,
      "outputs": [
        {
          "output_type": "execute_result",
          "data": {
            "text/plain": [
              "[1, 2, 3, 4, 6, 7, 8, 9, 9]"
            ]
          },
          "metadata": {},
          "execution_count": 3
        }
      ]
    },
    {
      "cell_type": "code",
      "source": [
        "n=-1\n",
        "for i in all_nums:\n",
        "  if i="
      ],
      "metadata": {
        "id": "wNDu8CzTFDHK"
      },
      "execution_count": null,
      "outputs": []
    }
  ],
  "metadata": {
    "colab": {
      "provenance": [],
      "include_colab_link": true
    },
    "kernelspec": {
      "display_name": "Python 3",
      "name": "python3"
    },
    "language_info": {
      "name": "python"
    }
  },
  "nbformat": 4,
  "nbformat_minor": 0
}